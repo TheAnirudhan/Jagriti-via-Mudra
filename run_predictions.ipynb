{
 "cells": [
  {
   "cell_type": "code",
   "execution_count": 1,
   "metadata": {},
   "outputs": [
    {
     "name": "stdout",
     "output_type": "stream",
     "text": [
      "WARNING:tensorflow:From c:\\Users\\aniru\\anaconda3\\envs\\yolov8\\lib\\site-packages\\keras\\src\\losses.py:2976: The name tf.losses.sparse_softmax_cross_entropy is deprecated. Please use tf.compat.v1.losses.sparse_softmax_cross_entropy instead.\n",
      "\n"
     ]
    }
   ],
   "source": [
    "from ultralytics import YOLO\n",
    "import cv2\n",
    "import numpy as np\n",
    "from tensorflow.keras.preprocessing.sequence import pad_sequences"
   ]
  },
  {
   "cell_type": "code",
   "execution_count": 2,
   "metadata": {},
   "outputs": [],
   "source": [
    "model = YOLO('models/yolov8x-pose-p6.pt') "
   ]
  },
  {
   "cell_type": "markdown",
   "metadata": {},
   "source": [
    "# Archive 1"
   ]
  },
  {
   "cell_type": "code",
   "execution_count": 3,
   "metadata": {},
   "outputs": [],
   "source": [
    "def _convert_result_to_string(result):\n",
    "    output = '['\n",
    "    for i, r in enumerate(result):\n",
    "        if i==20: break\n",
    "        output += r.tojson() + ','\n",
    "    output = output[:-1]+']'\n",
    "    return eval(output), r.orig_shape"
   ]
  },
  {
   "cell_type": "code",
   "execution_count": 4,
   "metadata": {},
   "outputs": [],
   "source": [
    "def _extract_keypoints(data, orig_shape):\n",
    "  d={}\n",
    "\n",
    "  keypoints_batch =[]\n",
    "  batch_size=20\n",
    "  max_persons = 10\n",
    "  for i, frame in enumerate(data):\n",
    "    track_id_keypoints = []\n",
    "    for person_id in range(max_persons):\n",
    "      \n",
    "      if person_id>=len(frame):\n",
    "        track_id_keypoints = d.get(person_id, [])\n",
    "        track_id_keypoints.append(np.zeros(34))\n",
    "        d[person_id] = track_id_keypoints\n",
    "\n",
    "      else:\n",
    "          keypoints = frame[person_id][\"keypoints\"]\n",
    "          x = np.array(keypoints[\"x\"]) / orig_shape[1]\n",
    "          y = np.array(keypoints[\"y\"]) / orig_shape[0]\n",
    "          XY = np.asarray([j for j in zip(x, y)]).reshape(34)\n",
    "      \n",
    "          track_id_keypoints = d.get(person_id, [])\n",
    "          track_id_keypoints.append(XY)\n",
    "          d[person_id] = track_id_keypoints\n",
    "\n",
    "  return np.asarray(list(d.values()))\n",
    "\n"
   ]
  },
  {
   "cell_type": "code",
   "execution_count": 5,
   "metadata": {},
   "outputs": [],
   "source": [
    "\n",
    "# image_path = 'examples/videos/V12.mp4'\n",
    "# result = model.track(image_path, device='0', show=True, verbose=False, stream=True)\n",
    "# cv2.destroyAllWindows()\n",
    "\n",
    "# data, orig_shape = _convert_result_to_string(result)\n",
    "\n",
    "# keypoints_batch = _extract_keypoints(data, orig_shape)\n",
    "\n",
    "# keypoints_batch.shape\n",
    "# cv2.destroyAllWindows()"
   ]
  },
  {
   "cell_type": "code",
   "execution_count": null,
   "metadata": {},
   "outputs": [],
   "source": []
  },
  {
   "cell_type": "code",
   "execution_count": 12,
   "metadata": {},
   "outputs": [],
   "source": [
    "# load model\n",
    "from keras.models import load_model\n",
    "fusion_model = load_model('models/detector.keras')"
   ]
  },
  {
   "cell_type": "code",
   "execution_count": 13,
   "metadata": {},
   "outputs": [
    {
     "data": {
      "text/plain": [
       "<keras.src.engine.functional.Functional at 0x2b3259aa3d0>"
      ]
     },
     "execution_count": 13,
     "metadata": {},
     "output_type": "execute_result"
    }
   ],
   "source": [
    "fusion_model"
   ]
  },
  {
   "cell_type": "code",
   "execution_count": 14,
   "metadata": {},
   "outputs": [],
   "source": [
    "from keras.models import load_model\n",
    "def predictor(data):\n",
    "    return fusion_model.predict(data, verbose=False)\n"
   ]
  },
  {
   "cell_type": "code",
   "execution_count": 19,
   "metadata": {},
   "outputs": [
    {
     "name": "stdout",
     "output_type": "stream",
     "text": [
      "[(354, 124), (442, 472), array([          1], dtype=float32)]\r"
     ]
    }
   ],
   "source": [
    "import cv2\n",
    "model = YOLO('models/yolov8n-pose.pt') \n",
    "cap = cv2.VideoCapture('examples/videos/Walking.mp4')\n",
    "\n",
    "buffer_size = fusion_model.input_shape[1]\n",
    "keypoints_buffer = np.zeros((10,1,34))\n",
    "while True:\n",
    "    ret, frame = cap.read()\n",
    "    \n",
    "    if ret == False:\n",
    "        cv2.destroyAllWindows()\n",
    "        cap.release()\n",
    "        print(\"Error reading frame!\")\n",
    "        break\n",
    "\n",
    "    height, width, channels = frame.shape\n",
    "    if keypoints_buffer.shape[1] < buffer_size:\n",
    "        result = model.track(frame, persist=True, verbose=False, device='0')\n",
    "        data, orig_shape = _convert_result_to_string(result)\n",
    "        keypoints_batch = _extract_keypoints(data, orig_shape)\n",
    "        keypoints_buffer = np.concatenate((keypoints_buffer, keypoints_batch), axis=1)\n",
    "        # print(keypoints_buffer.shape)\n",
    "\n",
    "    else:\n",
    "        result = model.track(frame, persist=True, verbose=False, device='0')\n",
    "        data, orig_shape = _convert_result_to_string(result)\n",
    "        keypoints_batch = _extract_keypoints(data, orig_shape)\n",
    "\n",
    "        if keypoints_buffer.shape[1] + keypoints_batch.shape[1] > buffer_size:\n",
    "            excess_size = keypoints_buffer.shape[1] + keypoints_batch.shape[1] - buffer_size\n",
    "            keypoints_buffer = keypoints_buffer[:, excess_size:, :]\n",
    "\n",
    "        # Concatenate the new keypoints_batch to the circular buffer\n",
    "        keypoints_buffer = np.concatenate((keypoints_buffer, keypoints_batch), axis=1)\n",
    "        \n",
    "        prediction = predictor(keypoints_buffer)\n",
    "        \n",
    "        for id, person in enumerate(data[0]):\n",
    "            if prediction[id] > 0.5:\n",
    "                x1 = int(person['box']['x1'])\n",
    "                y1 = int(person['box']['y1'])\n",
    "                x2 = int(person['box']['x2'])\n",
    "                y2 = int(person['box']['y2'])\n",
    "                print([(x1,y1), (x2,y2), prediction[id]], end='\\r')\n",
    "                frame = cv2.rectangle(frame, (x1,y1), (x2,y2), (0,0,255), 5)\n",
    "    \n",
    "    if cv2.waitKey(1)==27:\n",
    "        cv2.destroyAllWindows()\n",
    "        cap.release()\n",
    "        break\n",
    "\n",
    "\n",
    "    cv2.imshow('Output',frame)\n",
    "    \n",
    "  "
   ]
  },
  {
   "cell_type": "code",
   "execution_count": 15,
   "metadata": {},
   "outputs": [],
   "source": [
    "cv2.destroyAllWindows()\n",
    "cap.release()"
   ]
  },
  {
   "cell_type": "code",
   "execution_count": null,
   "metadata": {},
   "outputs": [],
   "source": []
  }
 ],
 "metadata": {
  "kernelspec": {
   "display_name": "base2",
   "language": "python",
   "name": "python3"
  },
  "language_info": {
   "codemirror_mode": {
    "name": "ipython",
    "version": 3
   },
   "file_extension": ".py",
   "mimetype": "text/x-python",
   "name": "python",
   "nbconvert_exporter": "python",
   "pygments_lexer": "ipython3",
   "version": "3.9.18"
  }
 },
 "nbformat": 4,
 "nbformat_minor": 2
}
