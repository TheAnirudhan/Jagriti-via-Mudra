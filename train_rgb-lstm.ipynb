{
 "cells": [
  {
   "cell_type": "markdown",
   "metadata": {},
   "source": [
    "# imports"
   ]
  },
  {
   "cell_type": "code",
   "execution_count": 1,
   "metadata": {},
   "outputs": [],
   "source": [
    "import tensorflow as tf\n",
    "from tensorflow.keras import layers, models\n",
    "from tensorflow.keras.callbacks import TensorBoard\n",
    "from tensorboard.plugins.hparams import api as hp\n",
    "import datetime\n",
    "\n",
    "from tensorflow.keras.applications import MobileNetV2\n",
    "from tensorflow.keras.models import Model\n",
    "from tensorflow.keras.layers import Dense, GlobalAveragePooling2D"
   ]
  },
  {
   "cell_type": "markdown",
   "metadata": {},
   "source": [
    "# Building model"
   ]
  },
  {
   "cell_type": "code",
   "execution_count": 2,
   "metadata": {},
   "outputs": [],
   "source": [
    "# build_rgb_stream\n",
    "class Build_Fusion_Model:\n",
    "    def build_rgb_stream(self,input_shape=(640, 640, 3), num_frames=20):\n",
    "        self.model = models.Sequential()\n",
    "\n",
    "        # Add convolutional layers for image processing\n",
    "        self.model.add(layers.Conv3D(64, (3, 3, 3), activation='relu', input_shape=(num_frames,) + input_shape))\n",
    "        self.model.add(layers.MaxPooling3D((1, 2, 2)))\n",
    "        self.model.add(layers.Conv3D(128, (3, 3, 3), activation='relu'))\n",
    "        self.model.add(layers.MaxPooling3D((1, 2, 2)))\n",
    "        self.model.add(layers.Conv3D(256, (3, 3, 3), activation='relu'))\n",
    "        self.model.add(layers.MaxPooling3D((1, 2, 2)))\n",
    "\n",
    "        # Add TimeDistributed layer for processing each frame separately\n",
    "        self.model.add(layers.TimeDistributed(layers.Flatten()))\n",
    "        self.model.add(layers.Dense(256, activation='relu'))\n",
    "        self.model.add(layers.Dropout(0.5))\n",
    "\n",
    "        return self.model\n",
    "    \n",
    "    def build_ssd_stream(self):\n",
    "        base_model = MobileNetV2(input_shape=(224, 224, 3), include_top=False, weights='imagenet')\n",
    "        # Freeze the base model layers\n",
    "        for layer in base_model.layers:\n",
    "            layer.trainable = False\n",
    "        \n",
    "    \n",
    "    # build_pose_stream\n",
    "    def build_pose_stream(self,input_shape=(20, 17*2)):\n",
    "        self.model = models.Sequential()\n",
    "\n",
    "        # Add LSTM layers for processing pose keypoints over time\n",
    "        self.model.add(layers.LSTM(64, input_shape=input_shape, return_sequences=True))\n",
    "        self.model.add(layers.LSTM(128, return_sequences=True))\n",
    "        self.model.add(layers.LSTM(256, return_sequences=True))\n",
    "\n",
    "        self.model.add(layers.Dense(256, activation='relu'))\n",
    "        # model.add(layers.Dropout(0.5))\n",
    "\n",
    "        return self.model\n",
    "\n",
    "# build_fusion_model\n",
    "    def build_fusion_model(self,rgb_stream, pose_stream, num_classes):\n",
    "        # Combine the two streams\n",
    "        self.rgb_stream_flattened = layers.Flatten()(rgb_stream.output)\n",
    "        self.pose_stream_flattened = layers.Flatten()(pose_stream.output)\n",
    "        # combined_input = layers.concatenate([pose_stream_flattened])\n",
    "\n",
    "        # Add fully connected layers for fusion\n",
    "        self.fusion_dense = layers.Dense(512, activation='relu')(self.pose_stream_flattened) # replace with (combined_input)\n",
    "        # fusion_dense = layers.Dropout(0.5)(fusion_dense)\n",
    "\n",
    "        self.fusion_output = layers.Dense(num_classes, activation='sigmoid')(self.fusion_dense)\n",
    "\n",
    "        # Create the final model\n",
    "        self.fusion_model = models.Model(inputs=[pose_stream.input], outputs=self.fusion_output)\n",
    "\n",
    "        return self.fusion_model"
   ]
  },
  {
   "cell_type": "code",
   "execution_count": 3,
   "metadata": {},
   "outputs": [
    {
     "name": "stdout",
     "output_type": "stream",
     "text": [
      "Model: \"model\"\n",
      "_________________________________________________________________\n",
      " Layer (type)                Output Shape              Param #   \n",
      "=================================================================\n",
      " lstm_input (InputLayer)     [(None, 10, 34)]          0         \n",
      "                                                                 \n",
      " lstm (LSTM)                 (None, 10, 64)            25344     \n",
      "                                                                 \n",
      " lstm_1 (LSTM)               (None, 10, 128)           98816     \n",
      "                                                                 \n",
      " lstm_2 (LSTM)               (None, 10, 256)           394240    \n",
      "                                                                 \n",
      " dense_1 (Dense)             (None, 10, 256)           65792     \n",
      "                                                                 \n",
      " flatten_2 (Flatten)         (None, 2560)              0         \n",
      "                                                                 \n",
      " dense_2 (Dense)             (None, 512)               1311232   \n",
      "                                                                 \n",
      " dense_3 (Dense)             (None, 1)                 513       \n",
      "                                                                 \n",
      "=================================================================\n",
      "Total params: 1,895,937\n",
      "Trainable params: 1,895,937\n",
      "Non-trainable params: 0\n",
      "_________________________________________________________________\n"
     ]
    }
   ],
   "source": [
    "# Set the number of classes for your action recognition task\n",
    "num_classes = 1\n",
    "build_model = Build_Fusion_Model()\n",
    "# Build the RGB stream\n",
    "rgb_stream = build_model.build_rgb_stream()\n",
    "\n",
    "# Build the Pose stream\n",
    "pose_stream = build_model.build_pose_stream(input_shape=(10, 34))\n",
    "\n",
    "# Build the Fusion model\n",
    "fusion_model = build_model.build_fusion_model(rgb_stream, pose_stream, num_classes)\n",
    "\n",
    "\n",
    "# Define hyperparameters\n",
    "hp_epochs = hp.HParam('epochs', hp.IntInterval(10, 50))\n",
    "hp_learning_rate = hp.HParam('learning_rate', hp.RealInterval(1e-4, 1e-2))\n",
    "\n",
    "# Create a summary file for TensorBoard\n",
    "log_dir = \"logs/fit/\" + datetime.datetime.now().strftime(\"%Y%m%d-%H%M%S\")\n",
    "tensorboard_callback = TensorBoard(log_dir=log_dir, histogram_freq=1)\n",
    "\n",
    "# Create a callback for hyperparameter logging\n",
    "hparams_callback = hp.KerasCallback(log_dir, hparams={hp_epochs: 20, hp_learning_rate: 1e-3})\n",
    "\n",
    "\n",
    "# Compile the model with an appropriate optimizer, loss, and metrics\n",
    "fusion_model.compile(loss='binary_crossentropy', optimizer='adam', metrics=['accuracy', 'binary_accuracy'])\n",
    "\n",
    "# Display the model summary\n",
    "fusion_model.summary()\n",
    "\n",
    "# history = fusion_model.fit(\n",
    "#     X_train,  # Replace rgb_data and pose_data with your actual training data\n",
    "#     y_train,  # Replace labels with your actual training labels\n",
    "#     epochs=100,\n",
    "#     callbacks=[tensorboard_callback, hparams_callback],\n",
    "#     validation_data=(X_test, y_test)  # Set the validation split as needed\n",
    "# )"
   ]
  },
  {
   "cell_type": "code",
   "execution_count": 4,
   "metadata": {},
   "outputs": [
    {
     "name": "stdout",
     "output_type": "stream",
     "text": [
      "You must install pydot (`pip install pydot`) and install graphviz (see instructions at https://graphviz.gitlab.io/download/) for plot_model to work.\n"
     ]
    }
   ],
   "source": [
    "tf.keras.utils.plot_model(fusion_model, to_file='model_plot.png',\n",
    "                           show_shapes=True, show_layer_names=True)"
   ]
  },
  {
   "cell_type": "code",
   "execution_count": 5,
   "metadata": {},
   "outputs": [
    {
     "data": {
      "text/plain": [
       "(None, 10, 34)"
      ]
     },
     "execution_count": 5,
     "metadata": {},
     "output_type": "execute_result"
    }
   ],
   "source": [
    "fusion_model.input_shape"
   ]
  },
  {
   "cell_type": "markdown",
   "metadata": {},
   "source": [
    "# load Pretained model"
   ]
  },
  {
   "cell_type": "code",
   "execution_count": 6,
   "metadata": {},
   "outputs": [],
   "source": [
    "# # load model\n",
    "# from keras.models import load_model\n",
    "# fusion_model = load_model('models/detector_pretained_ucf_kth.keras')\n",
    "# fusion_model.input_shape"
   ]
  },
  {
   "cell_type": "code",
   "execution_count": 7,
   "metadata": {},
   "outputs": [
    {
     "data": {
      "text/plain": [
       "(None, 1)"
      ]
     },
     "execution_count": 7,
     "metadata": {},
     "output_type": "execute_result"
    }
   ],
   "source": [
    "fusion_model.output_shape"
   ]
  },
  {
   "cell_type": "markdown",
   "metadata": {},
   "source": [
    "# Prepare Dataset\n"
   ]
  },
  {
   "cell_type": "code",
   "execution_count": 8,
   "metadata": {},
   "outputs": [],
   "source": [
    "import pandas as pd\n",
    "import numpy as np\n",
    "import matplotlib.pyplot as plt"
   ]
  },
  {
   "cell_type": "code",
   "execution_count": 9,
   "metadata": {},
   "outputs": [],
   "source": [
    "from sklearn.preprocessing import LabelEncoder\n",
    "from sklearn.preprocessing import StandardScaler\n",
    "from tensorflow.keras.models import Sequential\n",
    "from tensorflow.keras.layers import Dense\n",
    "from tensorflow.keras.utils import to_categorical\n",
    "from sklearn.metrics import accuracy_score, classification_report\n"
   ]
  },
  {
   "cell_type": "code",
   "execution_count": 10,
   "metadata": {},
   "outputs": [],
   "source": [
    "# df = pd.read_csv('keypoint_dataset/keypoints_df_10frames_20240203_180300.csv') \n",
    "\n",
    "# df[:2]\n",
    "\n",
    "# df.columns = ['keypoints', 'target']\n",
    "# df['keypoints'] = df['keypoints'].apply(lambda x: np.asarray(eval(x)) if type(x)==str else np.zeros((20, 34)))\n",
    "# df['target'] = df['target'].apply(lambda x: 0 if x=='WalkingWithDog' else 1)\n"
   ]
  },
  {
   "cell_type": "code",
   "execution_count": 11,
   "metadata": {},
   "outputs": [
    {
     "data": {
      "text/plain": [
       "(928, 10, 34)"
      ]
     },
     "execution_count": 11,
     "metadata": {},
     "output_type": "execute_result"
    }
   ],
   "source": [
    "df_JHMDB = pd.read_csv('keypoint_dataset/JHMDB/keypoints_df_20240204_185750.csv') \n",
    "\n",
    "df_JHMDB.columns = ['keypoints', 'target']\n",
    "df_JHMDB['keypoints'] = df_JHMDB['keypoints'].apply(lambda x: np.asarray(eval(x)) if type(x)==str else np.zeros((10, 34)))\n",
    "df_JHMDB['df_name'] = ['JHMDB']*len(df_JHMDB)\n",
    "df_JHMDB['target'].unique()\n",
    "np.asarray(df_JHMDB['keypoints'].tolist()).shape"
   ]
  },
  {
   "cell_type": "code",
   "execution_count": 12,
   "metadata": {},
   "outputs": [
    {
     "data": {
      "text/plain": [
       "(2110, 10, 34)"
      ]
     },
     "execution_count": 12,
     "metadata": {},
     "output_type": "execute_result"
    }
   ],
   "source": [
    "df_UCF = pd.read_csv('keypoint_dataset/UCF/keypoints_df_10frames_20240203_180300.csv') \n",
    "\n",
    "df_UCF.columns = ['keypoints', 'target']\n",
    "df_UCF['keypoints'] = df_UCF['keypoints'].apply(lambda x: np.asarray(eval(x)) if type(x)==str else np.zeros((10, 34)))\n",
    "df_UCF['df_name'] = ['UCF']*len(df_UCF)\n",
    "df_UCF['target'].unique()\n",
    "np.asarray(df_UCF['keypoints'].tolist()).shape"
   ]
  },
  {
   "cell_type": "code",
   "execution_count": 13,
   "metadata": {},
   "outputs": [
    {
     "data": {
      "text/plain": [
       "(11980, 10, 34)"
      ]
     },
     "execution_count": 13,
     "metadata": {},
     "output_type": "execute_result"
    }
   ],
   "source": [
    "df_KTH = pd.read_csv('keypoint_dataset/KTH/keypoints_df_20240208_200954.csv') \n",
    "\n",
    "df_KTH.columns = ['keypoints', 'target']\n",
    "df_KTH['keypoints'] = df_KTH['keypoints'].apply(lambda x: np.asarray(eval(x)) if type(x)==str else np.zeros((10, 34)))\n",
    "df_KTH['df_name'] = ['KTH']*len(df_KTH)\n",
    "df_KTH['target'].unique()\n",
    "np.asarray(df_KTH['keypoints'].tolist()).shape"
   ]
  },
  {
   "cell_type": "code",
   "execution_count": 14,
   "metadata": {},
   "outputs": [
    {
     "data": {
      "text/plain": [
       "(1800, 10, 34)"
      ]
     },
     "execution_count": 14,
     "metadata": {},
     "output_type": "execute_result"
    }
   ],
   "source": [
    "df_IXMAS = pd.read_csv('keypoint_dataset/IXMAS/keypoints_df_20240208_120910.csv') \n",
    "\n",
    "df_IXMAS.columns = ['keypoints', 'target']\n",
    "df_IXMAS['keypoints'] = df_IXMAS['keypoints'].apply(lambda x: np.asarray(eval(x)) if type(x)==str else np.zeros((10, 34)))\n",
    "df_IXMAS['df_name'] = ['IXMAS']*len(df_IXMAS)\n",
    "df_IXMAS['target'].unique()\n",
    "np.asarray(df_IXMAS['keypoints'].tolist()).shape"
   ]
  },
  {
   "cell_type": "code",
   "execution_count": 15,
   "metadata": {},
   "outputs": [
    {
     "data": {
      "text/plain": [
       "(1440, 10, 34)"
      ]
     },
     "execution_count": 15,
     "metadata": {},
     "output_type": "execute_result"
    }
   ],
   "source": [
    "df_cus = pd.read_csv('keypoint_dataset/custom_dataset/keypoints_df_walk-jog_20240208_160707.csv') \n",
    "\n",
    "df_cus.columns = ['keypoints', 'target']\n",
    "df_cus['keypoints'] = df_cus['keypoints'].apply(lambda x: np.asarray(eval(x)) if type(x)==str else np.zeros((10, 34)))\n",
    "df_cus['df_name'] = ['cus']*len(df_cus)\n",
    "df_cus['target'].unique()\n",
    "np.asarray(df_cus['keypoints'].tolist()).shape"
   ]
  },
  {
   "cell_type": "code",
   "execution_count": 16,
   "metadata": {},
   "outputs": [
    {
     "data": {
      "text/plain": [
       "(18258, 3)"
      ]
     },
     "execution_count": 16,
     "metadata": {},
     "output_type": "execute_result"
    }
   ],
   "source": [
    "df = pd.DataFrame()\n",
    "for x in [df_UCF, df_cus, df_IXMAS, df_JHMDB, df_KTH]:\n",
    "    df = pd.concat([df, x])\n",
    "df.shape"
   ]
  },
  {
   "cell_type": "code",
   "execution_count": 17,
   "metadata": {},
   "outputs": [
    {
     "data": {
      "text/plain": [
       "Index(['keypoints', 'target', 'df_name'], dtype='object')"
      ]
     },
     "execution_count": 17,
     "metadata": {},
     "output_type": "execute_result"
    }
   ],
   "source": [
    "df.columns"
   ]
  },
  {
   "cell_type": "code",
   "execution_count": 18,
   "metadata": {},
   "outputs": [
    {
     "data": {
      "text/plain": [
       "df_name\n",
       "KTH      11980\n",
       "UCF       2110\n",
       "IXMAS     1800\n",
       "cus       1440\n",
       "JHMDB      928\n",
       "Name: count, dtype: int64"
      ]
     },
     "execution_count": 18,
     "metadata": {},
     "output_type": "execute_result"
    }
   ],
   "source": [
    "df['df_name'].value_counts()"
   ]
  },
  {
   "cell_type": "code",
   "execution_count": 19,
   "metadata": {},
   "outputs": [],
   "source": [
    "import seaborn as sns"
   ]
  },
  {
   "cell_type": "code",
   "execution_count": 20,
   "metadata": {},
   "outputs": [],
   "source": [
    "def three_class(x):\n",
    "    if x not in ['golf', 'kick_ball', 'pushup', 'shoot_ball',  \n",
    "             'shoot_bow', 'shoot_gun', 'swing_baseball', \n",
    "             'thow', 'BoxingPunchingBag', 'boxing', 'punch', \n",
    "             'kick', 'point', 'handwaving', 'wave']:\n",
    "        return 0\n",
    "    else:\n",
    "        return 1"
   ]
  },
  {
   "cell_type": "code",
   "execution_count": 21,
   "metadata": {},
   "outputs": [],
   "source": [
    "df['target'] = df['target'].apply(three_class)\n",
    "# df['target'] = df['target'].apply(lambda x: 0 if x=='walking' else 1)"
   ]
  },
  {
   "cell_type": "code",
   "execution_count": 22,
   "metadata": {},
   "outputs": [
    {
     "data": {
      "text/plain": [
       "target\n",
       "0    12127\n",
       "1     6131\n",
       "Name: count, dtype: int64"
      ]
     },
     "execution_count": 22,
     "metadata": {},
     "output_type": "execute_result"
    }
   ],
   "source": [
    "df['target'].value_counts()"
   ]
  },
  {
   "cell_type": "code",
   "execution_count": null,
   "metadata": {},
   "outputs": [],
   "source": []
  },
  {
   "cell_type": "markdown",
   "metadata": {},
   "source": [
    "# training"
   ]
  },
  {
   "cell_type": "code",
   "execution_count": 23,
   "metadata": {},
   "outputs": [],
   "source": [
    "from sklearn.model_selection import train_test_split\n",
    "X = np.asarray(df['keypoints'].tolist())\n",
    "y = np.asarray(df['target'])\n",
    "\n"
   ]
  },
  {
   "cell_type": "code",
   "execution_count": 24,
   "metadata": {},
   "outputs": [],
   "source": [
    "# label_encoder = LabelEncoder()\n",
    "# y = label_encoder.fit_transform(df['target'])\n",
    "\n",
    "# y = to_categorical(y)"
   ]
  },
  {
   "cell_type": "code",
   "execution_count": 25,
   "metadata": {},
   "outputs": [],
   "source": [
    "X_train, X_test, y_train, y_test = train_test_split(X, y, test_size=0.3, random_state=42)"
   ]
  },
  {
   "cell_type": "code",
   "execution_count": 26,
   "metadata": {},
   "outputs": [],
   "source": [
    "import tensorflow as tf"
   ]
  },
  {
   "cell_type": "code",
   "execution_count": 29,
   "metadata": {},
   "outputs": [
    {
     "data": {
      "text/plain": [
       "(12780, 10, 34)"
      ]
     },
     "execution_count": 29,
     "metadata": {},
     "output_type": "execute_result"
    }
   ],
   "source": [
    "X_train.shape"
   ]
  },
  {
   "cell_type": "code",
   "execution_count": 28,
   "metadata": {},
   "outputs": [
    {
     "name": "stdout",
     "output_type": "stream",
     "text": [
      "Epoch 1/15\n"
     ]
    },
    {
     "name": "stdout",
     "output_type": "stream",
     "text": [
      "400/400 [==============================] - 14s 17ms/step - loss: 0.4628 - accuracy: 0.7672 - binary_accuracy: 0.7672 - val_loss: 0.3950 - val_accuracy: 0.8180 - val_binary_accuracy: 0.8180\n",
      "Epoch 2/15\n",
      "400/400 [==============================] - 5s 13ms/step - loss: 0.3872 - accuracy: 0.8218 - binary_accuracy: 0.8218 - val_loss: 0.3557 - val_accuracy: 0.8366 - val_binary_accuracy: 0.8366\n",
      "Epoch 3/15\n",
      "400/400 [==============================] - 5s 11ms/step - loss: 0.3642 - accuracy: 0.8326 - binary_accuracy: 0.8326 - val_loss: 0.3941 - val_accuracy: 0.8025 - val_binary_accuracy: 0.8025\n",
      "Epoch 4/15\n",
      "400/400 [==============================] - 5s 12ms/step - loss: 0.3361 - accuracy: 0.8528 - binary_accuracy: 0.8528 - val_loss: 0.3089 - val_accuracy: 0.8757 - val_binary_accuracy: 0.8757\n",
      "Epoch 5/15\n",
      "400/400 [==============================] - 5s 12ms/step - loss: 0.2974 - accuracy: 0.8732 - binary_accuracy: 0.8732 - val_loss: 0.2647 - val_accuracy: 0.8934 - val_binary_accuracy: 0.8934\n",
      "Epoch 6/15\n",
      "400/400 [==============================] - 4s 11ms/step - loss: 0.2763 - accuracy: 0.8860 - binary_accuracy: 0.8860 - val_loss: 0.2374 - val_accuracy: 0.9074 - val_binary_accuracy: 0.9074\n",
      "Epoch 7/15\n",
      "400/400 [==============================] - 5s 13ms/step - loss: 0.2492 - accuracy: 0.8987 - binary_accuracy: 0.8987 - val_loss: 0.2634 - val_accuracy: 0.9031 - val_binary_accuracy: 0.9031\n",
      "Epoch 8/15\n",
      "400/400 [==============================] - 5s 11ms/step - loss: 0.2425 - accuracy: 0.9009 - binary_accuracy: 0.9009 - val_loss: 0.2467 - val_accuracy: 0.9047 - val_binary_accuracy: 0.9047\n",
      "Epoch 9/15\n",
      "400/400 [==============================] - 5s 12ms/step - loss: 0.2339 - accuracy: 0.9038 - binary_accuracy: 0.9038 - val_loss: 0.2390 - val_accuracy: 0.9012 - val_binary_accuracy: 0.9012\n",
      "Epoch 10/15\n",
      "400/400 [==============================] - 5s 12ms/step - loss: 0.2183 - accuracy: 0.9103 - binary_accuracy: 0.9103 - val_loss: 0.2294 - val_accuracy: 0.9056 - val_binary_accuracy: 0.9056\n",
      "Epoch 11/15\n",
      "400/400 [==============================] - 5s 12ms/step - loss: 0.2155 - accuracy: 0.9104 - binary_accuracy: 0.9104 - val_loss: 0.2171 - val_accuracy: 0.9106 - val_binary_accuracy: 0.9106\n",
      "Epoch 12/15\n",
      "400/400 [==============================] - 5s 13ms/step - loss: 0.2072 - accuracy: 0.9145 - binary_accuracy: 0.9145 - val_loss: 0.2305 - val_accuracy: 0.9113 - val_binary_accuracy: 0.9113\n",
      "Epoch 13/15\n",
      "400/400 [==============================] - 5s 12ms/step - loss: 0.2025 - accuracy: 0.9171 - binary_accuracy: 0.9171 - val_loss: 0.2237 - val_accuracy: 0.9098 - val_binary_accuracy: 0.9098\n",
      "Epoch 14/15\n",
      "400/400 [==============================] - 5s 13ms/step - loss: 0.1972 - accuracy: 0.9177 - binary_accuracy: 0.9177 - val_loss: 0.2189 - val_accuracy: 0.9089 - val_binary_accuracy: 0.9089\n",
      "Epoch 15/15\n",
      "400/400 [==============================] - 6s 14ms/step - loss: 0.1917 - accuracy: 0.9212 - binary_accuracy: 0.9212 - val_loss: 0.2270 - val_accuracy: 0.9069 - val_binary_accuracy: 0.9069\n"
     ]
    }
   ],
   "source": [
    "\n",
    "history = fusion_model.fit(\n",
    "    X_train,  # Replace rgb_data and pose_data with your actual training data\n",
    "    y_train,  # Replace labels with your actual training labels\n",
    "    epochs=15,\n",
    "    validation_data = (X_test, y_test)  # Set the validation split as needed\n",
    ")\n",
    "\n",
    "# Launch TensorBoard for real-time visualization\n",
    "# %tensorboard --logdir logs/fit"
   ]
  },
  {
   "cell_type": "code",
   "execution_count": 31,
   "metadata": {},
   "outputs": [
    {
     "data": {
      "image/png": "[encoded data removed]",
      "text/plain": [
       "<Figure size 1200x600 with 2 Axes>"
      ]
     },
     "metadata": {},
     "output_type": "display_data"
    }
   ],
   "source": [
    "import matplotlib.pyplot as plt\n",
    "\n",
    "# Access the training history\n",
    "train_loss = history.history['loss']\n",
    "val_loss = history.history['val_loss']\n",
    "train_acc = history.history['accuracy']\n",
    "val_acc = history.history['val_accuracy']\n",
    "\n",
    "# Plot training and validation loss\n",
    "plt.figure(figsize=(12, 6))\n",
    "plt.subplot(1, 2, 1)\n",
    "plt.plot(range(1, len(train_loss) + 1), train_loss, label='Training Loss')\n",
    "plt.plot(range(1, len(val_loss) + 1), val_loss, label='Validation Loss')\n",
    "plt.title('Training and Validation Loss')\n",
    "plt.xlabel('Epochs')\n",
    "plt.ylabel('Loss')\n",
    "plt.legend()\n",
    "\n",
    "# Plot training and validation accuracy\n",
    "plt.subplot(1, 2, 2)\n",
    "plt.plot(range(1, len(train_acc) + 1), train_acc, label='Training Accuracy')\n",
    "plt.plot(range(1, len(val_acc) + 1), val_acc, label='Validation Accuracy')\n",
    "plt.title('Training and Validation Accuracy')\n",
    "plt.xlabel('Epochs')\n",
    "plt.ylabel('Accuracy')\n",
    "plt.legend()\n",
    "\n",
    "plt.show()"
   ]
  },
  {
   "cell_type": "code",
   "execution_count": 32,
   "metadata": {},
   "outputs": [],
   "source": [
    "fusion_model.save('models/detector_combined.h5', overwrite=False)"
   ]
  },
  {
   "cell_type": "code",
   "execution_count": null,
   "metadata": {},
   "outputs": [],
   "source": []
  },
  {
   "cell_type": "code",
   "execution_count": 33,
   "metadata": {},
   "outputs": [
    {
     "name": "stdout",
     "output_type": "stream",
     "text": [
      "172/172 [==============================] - 7s 37ms/step\n"
     ]
    }
   ],
   "source": [
    "from sklearn.metrics import confusion_matrix\n",
    "from sklearn.model_selection import train_test_split\n",
    "from sklearn.datasets import make_classification\n",
    "from sklearn.linear_model import LogisticRegression\n",
    "\n",
    "# Make predictions\n",
    "predictions = fusion_model.predict(X_test)\n",
    "\n"
   ]
  },
  {
   "cell_type": "code",
   "execution_count": 34,
   "metadata": {},
   "outputs": [],
   "source": [
    "y_test  = y_test.reshape(-1).astype(np.int32)\n",
    "predictions = np.round(predictions.reshape(-1))"
   ]
  },
  {
   "cell_type": "code",
   "execution_count": 35,
   "metadata": {},
   "outputs": [
    {
     "data": {
      "text/plain": [
       "array([1., 0.], dtype=float32)"
      ]
     },
     "execution_count": 35,
     "metadata": {},
     "output_type": "execute_result"
    }
   ],
   "source": [
    "pd.Series(predictions).unique()"
   ]
  },
  {
   "cell_type": "code",
   "execution_count": 36,
   "metadata": {},
   "outputs": [
    {
     "data": {
      "text/plain": [
       "array([[3482,  133],\n",
       "       [ 377, 1486]], dtype=int64)"
      ]
     },
     "execution_count": 36,
     "metadata": {},
     "output_type": "execute_result"
    }
   ],
   "source": [
    "# Compute confusion matrix\n",
    "confusion_matrix(y_test, predictions)\n",
    "\n"
   ]
  },
  {
   "cell_type": "code",
   "execution_count": 38,
   "metadata": {},
   "outputs": [
    {
     "name": "stdout",
     "output_type": "stream",
     "text": [
      "              precision    recall  f1-score   support\n",
      "\n",
      "           0       0.90      0.96      0.93      3615\n",
      "           1       0.92      0.80      0.85      1863\n",
      "\n",
      "    accuracy                           0.91      5478\n",
      "   macro avg       0.91      0.88      0.89      5478\n",
      "weighted avg       0.91      0.91      0.91      5478\n",
      "\n"
     ]
    }
   ],
   "source": [
    "from sklearn.metrics import classification_report\n",
    "print(classification_report(y_test, predictions))"
   ]
  },
  {
   "cell_type": "code",
   "execution_count": 39,
   "metadata": {},
   "outputs": [],
   "source": [
    "from keras.models import load_model, Model\n",
    "trained_lstm = load_model('models/detector_combined.h5')"
   ]
  },
  {
   "cell_type": "code",
   "execution_count": 55,
   "metadata": {},
   "outputs": [],
   "source": [
    "for l in trained_lstm.layers[:-3]:\n",
    "    l.trainable = False"
   ]
  },
  {
   "cell_type": "code",
   "execution_count": 58,
   "metadata": {},
   "outputs": [],
   "source": [
    "N_Model = Model(trained_lstm.input, trained_lstm.layers[-4].output)"
   ]
  },
  {
   "cell_type": "code",
   "execution_count": 60,
   "metadata": {},
   "outputs": [
    {
     "name": "stdout",
     "output_type": "stream",
     "text": [
      "Model: \"model\"\n",
      "_________________________________________________________________\n",
      " Layer (type)                Output Shape              Param #   \n",
      "=================================================================\n",
      " lstm_input (InputLayer)     [(None, 10, 34)]          0         \n",
      "                                                                 \n",
      " lstm (LSTM)                 (None, 10, 64)            25344     \n",
      "                                                                 \n",
      " lstm_1 (LSTM)               (None, 10, 128)           98816     \n",
      "                                                                 \n",
      " lstm_2 (LSTM)               (None, 10, 256)           394240    \n",
      "                                                                 \n",
      " dense_1 (Dense)             (None, 10, 256)           65792     \n",
      "                                                                 \n",
      " flatten_2 (Flatten)         (None, 2560)              0         \n",
      "                                                                 \n",
      " dense_2 (Dense)             (None, 512)               1311232   \n",
      "                                                                 \n",
      " dense_3 (Dense)             (None, 1)                 513       \n",
      "                                                                 \n",
      "=================================================================\n",
      "Total params: 1,895,937\n",
      "Trainable params: 1,895,937\n",
      "Non-trainable params: 0\n",
      "_________________________________________________________________\n"
     ]
    }
   ],
   "source": [
    "fusion_model.summary()"
   ]
  },
  {
   "cell_type": "code",
   "execution_count": 42,
   "metadata": {},
   "outputs": [
    {
     "data": {
      "text/plain": [
       "<KerasTensor: shape=(None, 1) dtype=float32 (created by layer 'dense_3')>"
      ]
     },
     "execution_count": 42,
     "metadata": {},
     "output_type": "execute_result"
    }
   ],
   "source": [
    "trained_lstm.output"
   ]
  },
  {
   "cell_type": "code",
   "execution_count": null,
   "metadata": {},
   "outputs": [],
   "source": []
  }
 ],
 "metadata": {
  "kernelspec": {
   "display_name": "yolov8",
   "language": "python",
   "name": "python3"
  },
  "language_info": {
   "codemirror_mode": {
    "name": "ipython",
    "version": 3
   },
   "file_extension": ".py",
   "mimetype": "text/x-python",
   "name": "python",
   "nbconvert_exporter": "python",
   "pygments_lexer": "ipython3",
   "version": "3.8.19"
  }
 },
 "nbformat": 4,
 "nbformat_minor": 2
}
