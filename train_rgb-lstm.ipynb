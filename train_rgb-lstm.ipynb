{
 "cells": [
  {
   "cell_type": "markdown",
   "metadata": {},
   "source": [
    "# Building model"
   ]
  },
  {
   "cell_type": "code",
   "execution_count": 1,
   "metadata": {},
   "outputs": [],
   "source": [
    "import tensorflow as tf\n",
    "from tensorflow.keras import layers, models\n",
    "from tensorflow.keras.callbacks import TensorBoard\n",
    "from tensorboard.plugins.hparams import api as hp\n",
    "import datetime\n"
   ]
  },
  {
   "cell_type": "code",
   "execution_count": 2,
   "metadata": {},
   "outputs": [],
   "source": [
    "# build_rgb_stream\n",
    "def build_rgb_stream(input_shape=(640, 640, 3), num_frames=20):\n",
    "    model = models.Sequential()\n",
    "\n",
    "    # Add convolutional layers for image processing\n",
    "    model.add(layers.Conv3D(64, (3, 3, 3), activation='relu', input_shape=(num_frames,) + input_shape))\n",
    "    model.add(layers.MaxPooling3D((1, 1)))\n",
    "    model.add(layers.Conv3D(128, (3, 3, 3), activation='relu'))\n",
    "    model.add(layers.MaxPooling3D((1, 2, 2)))\n",
    "    model.add(layers.Conv3D(256, (3, 3, 3), activation='relu'))\n",
    "    model.add(layers.MaxPooling3D((1, 2, 2)))\n",
    "\n",
    "    # Add TimeDistributed layer for processing each frame separately\n",
    "    model.add(layers.TimeDistributed(layers.Flatten()))\n",
    "    model.add(layers.Dense(256, activation='relu'))\n",
    "    model.add(layers.Dropout(0.5))\n",
    "\n",
    "    return model"
   ]
  },
  {
   "cell_type": "code",
   "execution_count": 3,
   "metadata": {},
   "outputs": [],
   "source": [
    "# build_pose_stream\n",
    "def build_pose_stream(input_shape=(20, 17*2)):\n",
    "    model = models.Sequential()\n",
    "\n",
    "    # Add LSTM layers for processing pose keypoints over time\n",
    "    model.add(layers.LSTM(64, input_shape=input_shape, return_sequences=True))\n",
    "    model.add(layers.LSTM(128, return_sequences=True))\n",
    "    model.add(layers.LSTM(256, return_sequences=True))\n",
    "\n",
    "    model.add(layers.Dense(256, activation='relu'))\n",
    "    # model.add(layers.Dropout(0.5))\n",
    "\n",
    "    return model\n"
   ]
  },
  {
   "cell_type": "code",
   "execution_count": 4,
   "metadata": {},
   "outputs": [],
   "source": [
    "# build_fusion_model\n",
    "def build_fusion_model(rgb_stream, pose_stream, num_classes):\n",
    "    # Combine the two streams\n",
    "    rgb_stream_flattened = layers.Flatten()(rgb_stream.output)\n",
    "    pose_stream_flattened = layers.Flatten()(pose_stream.output)\n",
    "    # combined_input = layers.concatenate([pose_stream_flattened])\n",
    "\n",
    "    # Add fully connected layers for fusion\n",
    "    fusion_dense = layers.Dense(512, activation='relu')(pose_stream_flattened) # replace with (combined_input)\n",
    "    # fusion_dense = layers.Dropout(0.5)(fusion_dense)\n",
    "\n",
    "    fusion_output = layers.Dense(num_classes, activation='sigmoid')(fusion_dense)\n",
    "\n",
    "    # Create the final model\n",
    "    fusion_model = models.Model(inputs=[pose_stream.input], outputs=fusion_output)\n",
    "\n",
    "    return fusion_model\n"
   ]
  },
  {
   "cell_type": "code",
   "execution_count": 5,
   "metadata": {},
   "outputs": [
    {
     "name": "stdout",
     "output_type": "stream",
     "text": [
      "Model: \"model\"\n",
      "_________________________________________________________________\n",
      " Layer (type)                Output Shape              Param #   \n",
      "=================================================================\n",
      " lstm_input (InputLayer)     [(None, 10, 34)]          0         \n",
      "                                                                 \n",
      " lstm (LSTM)                 (None, 10, 64)            25344     \n",
      "                                                                 \n",
      " lstm_1 (LSTM)               (None, 10, 128)           98816     \n",
      "                                                                 \n",
      " lstm_2 (LSTM)               (None, 10, 256)           394240    \n",
      "                                                                 \n",
      " dense_1 (Dense)             (None, 10, 256)           65792     \n",
      "                                                                 \n",
      " flatten_2 (Flatten)         (None, 2560)              0         \n",
      "                                                                 \n",
      " dense_2 (Dense)             (None, 512)               1311232   \n",
      "                                                                 \n",
      " dense_3 (Dense)             (None, 22)                11286     \n",
      "                                                                 \n",
      "=================================================================\n",
      "Total params: 1,906,710\n",
      "Trainable params: 1,906,710\n",
      "Non-trainable params: 0\n",
      "_________________________________________________________________\n"
     ]
    }
   ],
   "source": [
    "# Set the number of classes for your action recognition task\n",
    "num_classes = 22\n",
    "\n",
    "# Build the RGB stream\n",
    "rgb_stream = build_rgb_stream()\n",
    "\n",
    "# Build the Pose stream\n",
    "pose_stream = build_pose_stream(input_shape=(10, 34))\n",
    "\n",
    "# Build the Fusion model\n",
    "fusion_model = build_fusion_model(rgb_stream, pose_stream, num_classes)\n",
    "\n",
    "\n",
    "# Define hyperparameters\n",
    "hp_epochs = hp.HParam('epochs', hp.IntInterval(10, 50))\n",
    "hp_learning_rate = hp.HParam('learning_rate', hp.RealInterval(1e-4, 1e-2))\n",
    "\n",
    "# Create a summary file for TensorBoard\n",
    "log_dir = \"logs/fit/\" + datetime.datetime.now().strftime(\"%Y%m%d-%H%M%S\")\n",
    "tensorboard_callback = TensorBoard(log_dir=log_dir, histogram_freq=1)\n",
    "\n",
    "# Create a callback for hyperparameter logging\n",
    "hparams_callback = hp.KerasCallback(log_dir, hparams={hp_epochs: 20, hp_learning_rate: 1e-3})\n",
    "\n",
    "\n",
    "# Compile the model with an appropriate optimizer, loss, and metrics\n",
    "fusion_model.compile(loss='binary_crossentropy', optimizer='rmsprop', metrics=['accuracy', 'binary_accuracy'])\n",
    "\n",
    "# Display the model summary\n",
    "fusion_model.summary()"
   ]
  },
  {
   "cell_type": "code",
   "execution_count": 6,
   "metadata": {},
   "outputs": [
    {
     "name": "stdout",
     "output_type": "stream",
     "text": [
      "You must install pydot (`pip install pydot`) and install graphviz (see instructions at https://graphviz.gitlab.io/download/) for plot_model to work.\n"
     ]
    }
   ],
   "source": [
    "tf.keras.utils.plot_model(fusion_model, to_file='model_plot.png',\n",
    "                           show_shapes=True, show_layer_names=True)"
   ]
  },
  {
   "cell_type": "code",
   "execution_count": 7,
   "metadata": {},
   "outputs": [
    {
     "data": {
      "text/plain": [
       "(None, 10, 34)"
      ]
     },
     "execution_count": 7,
     "metadata": {},
     "output_type": "execute_result"
    }
   ],
   "source": [
    "fusion_model.input_shape"
   ]
  },
  {
   "cell_type": "code",
   "execution_count": null,
   "metadata": {},
   "outputs": [],
   "source": []
  },
  {
   "cell_type": "markdown",
   "metadata": {},
   "source": [
    "# Prepare Dataset\n"
   ]
  },
  {
   "cell_type": "code",
   "execution_count": 8,
   "metadata": {},
   "outputs": [],
   "source": [
    "import pandas as pd\n",
    "import numpy as np\n",
    "import matplotlib.pyplot as plt"
   ]
  },
  {
   "cell_type": "code",
   "execution_count": 9,
   "metadata": {},
   "outputs": [],
   "source": [
    "from sklearn.preprocessing import LabelEncoder\n",
    "from sklearn.preprocessing import StandardScaler\n",
    "from tensorflow.keras.models import Sequential\n",
    "from tensorflow.keras.layers import Dense\n",
    "from tensorflow.keras.utils import to_categorical\n",
    "from sklearn.metrics import accuracy_score, classification_report\n"
   ]
  },
  {
   "cell_type": "code",
   "execution_count": 10,
   "metadata": {},
   "outputs": [],
   "source": [
    "# df = pd.read_csv('keypoint_dataset/keypoints_df_10frames_20240203_180300.csv') \n",
    "\n",
    "# df[:2]\n",
    "\n",
    "# df.columns = ['keypoints', 'target']\n",
    "# df['keypoints'] = df['keypoints'].apply(lambda x: np.asarray(eval(x)) if type(x)==str else np.zeros((20, 34)))\n",
    "# df['target'] = df['target'].apply(lambda x: 0 if x=='WalkingWithDog' else 1)\n"
   ]
  },
  {
   "cell_type": "code",
   "execution_count": 11,
   "metadata": {},
   "outputs": [],
   "source": [
    "df = pd.read_csv('keypoint_dataset/JHMDB/keypoints_df_20240204_185750.csv') \n",
    "\n",
    "df[:2]\n",
    "\n",
    "df.columns = ['keypoints', 'target']\n",
    "df['keypoints'] = df['keypoints'].apply(lambda x: np.asarray(eval(x)) if type(x)==str else np.zeros((20, 34)))"
   ]
  },
  {
   "cell_type": "code",
   "execution_count": 12,
   "metadata": {},
   "outputs": [],
   "source": [
    "# df.columns = ['keypoints', 'target']"
   ]
  },
  {
   "cell_type": "code",
   "execution_count": 13,
   "metadata": {},
   "outputs": [],
   "source": [
    "# df['keypoints'] = df['keypoints'].apply(lambda x: np.asarray(eval(x)) if type(x)==str else np.zeros((20, 34)))\n",
    "# df['0'] = df['0'].apply(lambda arr: np.pad(arr, ((0, max(0, 20 - arr.shape[0])), (0, 0)), mode='constant', constant_values=0))"
   ]
  },
  {
   "cell_type": "code",
   "execution_count": 14,
   "metadata": {},
   "outputs": [],
   "source": [
    "# df['target'] = df['target'].apply(lambda x: 0 if x=='WalkingWithDog' else 1)\n",
    "# df['target'] = df['target'].apply(lambda x: 0 if x=='walking' else 1)"
   ]
  },
  {
   "cell_type": "code",
   "execution_count": 15,
   "metadata": {},
   "outputs": [
    {
     "data": {
      "text/plain": [
       "target\n",
       "pullup            55\n",
       "shoot_gun         55\n",
       "pour              55\n",
       "swing_baseball    54\n",
       "shoot_bow         53\n",
       "catch             48\n",
       "throw             46\n",
       "clap              44\n",
       "push              42\n",
       "wave              42\n",
       "golf              42\n",
       "walk              41\n",
       "brush_hair        41\n",
       "pick              40\n",
       "run               40\n",
       "shoot_ball        40\n",
       "climb_stairs      40\n",
       "jump              39\n",
       "sit               39\n",
       "stand             36\n",
       "kick_ball         35\n",
       "Name: count, dtype: int64"
      ]
     },
     "execution_count": 15,
     "metadata": {},
     "output_type": "execute_result"
    }
   ],
   "source": [
    "df['target'].value_counts()"
   ]
  },
  {
   "cell_type": "markdown",
   "metadata": {},
   "source": [
    "# training"
   ]
  },
  {
   "cell_type": "code",
   "execution_count": 16,
   "metadata": {},
   "outputs": [],
   "source": [
    "from sklearn.model_selection import train_test_split\n",
    "X = np.asarray(df['keypoints'].tolist())\n",
    "y = np.asarray(df['target'])\n",
    "\n"
   ]
  },
  {
   "cell_type": "code",
   "execution_count": 17,
   "metadata": {},
   "outputs": [],
   "source": [
    "label_encoder = LabelEncoder()\n",
    "y = label_encoder.fit_transform(df['target'])\n",
    "\n",
    "y = to_categorical(y)"
   ]
  },
  {
   "cell_type": "code",
   "execution_count": 18,
   "metadata": {},
   "outputs": [],
   "source": [
    "X_train, X_test, y_train, y_test = train_test_split(X, y, test_size=0.3, random_state=42)"
   ]
  },
  {
   "cell_type": "code",
   "execution_count": 19,
   "metadata": {},
   "outputs": [],
   "source": [
    "import tensorflow as tf"
   ]
  },
  {
   "cell_type": "code",
   "execution_count": 20,
   "metadata": {},
   "outputs": [
    {
     "data": {
      "text/plain": [
       "(649, 22)"
      ]
     },
     "execution_count": 20,
     "metadata": {},
     "output_type": "execute_result"
    }
   ],
   "source": [
    "y_train.shape"
   ]
  },
  {
   "cell_type": "code",
   "execution_count": 21,
   "metadata": {},
   "outputs": [
    {
     "name": "stdout",
     "output_type": "stream",
     "text": [
      "Epoch 1/100\n",
      "21/21 [==============================] - 6s 75ms/step - loss: 0.2618 - accuracy: 0.0616 - binary_accuracy: 0.9364 - val_loss: 0.1878 - val_accuracy: 0.0502 - val_binary_accuracy: 0.9545\n",
      "Epoch 2/100\n",
      "21/21 [==============================] - 0s 23ms/step - loss: 0.1823 - accuracy: 0.1017 - binary_accuracy: 0.9543 - val_loss: 0.1769 - val_accuracy: 0.1183 - val_binary_accuracy: 0.9545\n",
      "Epoch 3/100\n",
      "21/21 [==============================] - 0s 23ms/step - loss: 0.1726 - accuracy: 0.1002 - binary_accuracy: 0.9545 - val_loss: 0.1790 - val_accuracy: 0.0824 - val_binary_accuracy: 0.9545\n",
      "Epoch 4/100\n",
      "21/21 [==============================] - 1s 25ms/step - loss: 0.1667 - accuracy: 0.1510 - binary_accuracy: 0.9540 - val_loss: 0.1770 - val_accuracy: 0.0932 - val_binary_accuracy: 0.9545\n",
      "Epoch 5/100\n",
      "21/21 [==============================] - 0s 24ms/step - loss: 0.1603 - accuracy: 0.1787 - binary_accuracy: 0.9550 - val_loss: 0.1921 - val_accuracy: 0.0717 - val_binary_accuracy: 0.9441\n",
      "Epoch 6/100\n",
      "21/21 [==============================] - 0s 22ms/step - loss: 0.1560 - accuracy: 0.2173 - binary_accuracy: 0.9538 - val_loss: 0.1773 - val_accuracy: 0.1290 - val_binary_accuracy: 0.9544\n",
      "Epoch 7/100\n",
      "21/21 [==============================] - 0s 23ms/step - loss: 0.1532 - accuracy: 0.2357 - binary_accuracy: 0.9543 - val_loss: 0.1714 - val_accuracy: 0.1756 - val_binary_accuracy: 0.9539\n",
      "Epoch 8/100\n",
      "21/21 [==============================] - 0s 23ms/step - loss: 0.1507 - accuracy: 0.2203 - binary_accuracy: 0.9543 - val_loss: 0.1636 - val_accuracy: 0.2007 - val_binary_accuracy: 0.9554\n",
      "Epoch 9/100\n",
      "21/21 [==============================] - 1s 25ms/step - loss: 0.1438 - accuracy: 0.3051 - binary_accuracy: 0.9557 - val_loss: 0.1684 - val_accuracy: 0.1864 - val_binary_accuracy: 0.9503\n",
      "Epoch 10/100\n",
      "21/21 [==============================] - 1s 30ms/step - loss: 0.1420 - accuracy: 0.3112 - binary_accuracy: 0.9552 - val_loss: 0.1701 - val_accuracy: 0.2115 - val_binary_accuracy: 0.9501\n",
      "Epoch 11/100\n",
      "21/21 [==============================] - 1s 25ms/step - loss: 0.1361 - accuracy: 0.3297 - binary_accuracy: 0.9557 - val_loss: 0.1578 - val_accuracy: 0.2509 - val_binary_accuracy: 0.9541\n",
      "Epoch 12/100\n",
      "21/21 [==============================] - 1s 28ms/step - loss: 0.1338 - accuracy: 0.3313 - binary_accuracy: 0.9557 - val_loss: 0.1693 - val_accuracy: 0.2222 - val_binary_accuracy: 0.9505\n",
      "Epoch 13/100\n",
      "21/21 [==============================] - 1s 26ms/step - loss: 0.1288 - accuracy: 0.3652 - binary_accuracy: 0.9571 - val_loss: 0.1630 - val_accuracy: 0.2688 - val_binary_accuracy: 0.9516\n",
      "Epoch 14/100\n",
      "21/21 [==============================] - 0s 22ms/step - loss: 0.1270 - accuracy: 0.3945 - binary_accuracy: 0.9564 - val_loss: 0.1552 - val_accuracy: 0.2760 - val_binary_accuracy: 0.9519\n",
      "Epoch 15/100\n",
      "21/21 [==============================] - 0s 21ms/step - loss: 0.1241 - accuracy: 0.3883 - binary_accuracy: 0.9578 - val_loss: 0.1638 - val_accuracy: 0.2867 - val_binary_accuracy: 0.9534\n",
      "Epoch 16/100\n",
      "21/21 [==============================] - 0s 21ms/step - loss: 0.1188 - accuracy: 0.4176 - binary_accuracy: 0.9587 - val_loss: 0.1830 - val_accuracy: 0.2688 - val_binary_accuracy: 0.9524\n",
      "Epoch 17/100\n",
      "21/21 [==============================] - 0s 22ms/step - loss: 0.1147 - accuracy: 0.4438 - binary_accuracy: 0.9601 - val_loss: 0.1627 - val_accuracy: 0.2688 - val_binary_accuracy: 0.9541\n",
      "Epoch 18/100\n",
      "21/21 [==============================] - 0s 22ms/step - loss: 0.1164 - accuracy: 0.4484 - binary_accuracy: 0.9584 - val_loss: 0.1553 - val_accuracy: 0.3656 - val_binary_accuracy: 0.9516\n",
      "Epoch 19/100\n",
      "21/21 [==============================] - 1s 25ms/step - loss: 0.1094 - accuracy: 0.4638 - binary_accuracy: 0.9609 - val_loss: 0.1732 - val_accuracy: 0.3405 - val_binary_accuracy: 0.9521\n",
      "Epoch 20/100\n",
      "21/21 [==============================] - 0s 24ms/step - loss: 0.1069 - accuracy: 0.4715 - binary_accuracy: 0.9613 - val_loss: 0.1641 - val_accuracy: 0.2545 - val_binary_accuracy: 0.9503\n",
      "Epoch 21/100\n",
      "21/21 [==============================] - 0s 22ms/step - loss: 0.1050 - accuracy: 0.4869 - binary_accuracy: 0.9608 - val_loss: 0.1583 - val_accuracy: 0.3333 - val_binary_accuracy: 0.9529\n",
      "Epoch 22/100\n",
      "21/21 [==============================] - 0s 21ms/step - loss: 0.1023 - accuracy: 0.5100 - binary_accuracy: 0.9636 - val_loss: 0.1580 - val_accuracy: 0.2832 - val_binary_accuracy: 0.9547\n",
      "Epoch 23/100\n",
      "21/21 [==============================] - 0s 21ms/step - loss: 0.0977 - accuracy: 0.5270 - binary_accuracy: 0.9629 - val_loss: 0.1685 - val_accuracy: 0.3405 - val_binary_accuracy: 0.9513\n",
      "Epoch 24/100\n",
      "21/21 [==============================] - 0s 21ms/step - loss: 0.0963 - accuracy: 0.5516 - binary_accuracy: 0.9647 - val_loss: 0.1716 - val_accuracy: 0.3513 - val_binary_accuracy: 0.9541\n",
      "Epoch 25/100\n",
      "21/21 [==============================] - 0s 21ms/step - loss: 0.0942 - accuracy: 0.5470 - binary_accuracy: 0.9651 - val_loss: 0.1761 - val_accuracy: 0.3118 - val_binary_accuracy: 0.9524\n",
      "Epoch 26/100\n",
      "21/21 [==============================] - 1s 25ms/step - loss: 0.0906 - accuracy: 0.5778 - binary_accuracy: 0.9664 - val_loss: 0.1707 - val_accuracy: 0.3082 - val_binary_accuracy: 0.9501\n",
      "Epoch 27/100\n",
      "21/21 [==============================] - 0s 22ms/step - loss: 0.0907 - accuracy: 0.5763 - binary_accuracy: 0.9662 - val_loss: 0.1741 - val_accuracy: 0.3118 - val_binary_accuracy: 0.9511\n",
      "Epoch 28/100\n",
      "21/21 [==============================] - 0s 23ms/step - loss: 0.0836 - accuracy: 0.6040 - binary_accuracy: 0.9678 - val_loss: 0.1773 - val_accuracy: 0.2832 - val_binary_accuracy: 0.9521\n",
      "Epoch 29/100\n",
      "21/21 [==============================] - 0s 22ms/step - loss: 0.0857 - accuracy: 0.5824 - binary_accuracy: 0.9668 - val_loss: 0.1816 - val_accuracy: 0.3154 - val_binary_accuracy: 0.9506\n",
      "Epoch 30/100\n",
      "21/21 [==============================] - 0s 23ms/step - loss: 0.0813 - accuracy: 0.6086 - binary_accuracy: 0.9679 - val_loss: 0.1825 - val_accuracy: 0.2975 - val_binary_accuracy: 0.9514\n",
      "Epoch 31/100\n",
      "21/21 [==============================] - 1s 26ms/step - loss: 0.0794 - accuracy: 0.6133 - binary_accuracy: 0.9686 - val_loss: 0.2399 - val_accuracy: 0.2509 - val_binary_accuracy: 0.9431\n",
      "Epoch 32/100\n",
      "21/21 [==============================] - 1s 26ms/step - loss: 0.0765 - accuracy: 0.6487 - binary_accuracy: 0.9695 - val_loss: 0.2041 - val_accuracy: 0.3118 - val_binary_accuracy: 0.9510\n",
      "Epoch 33/100\n",
      "21/21 [==============================] - 0s 24ms/step - loss: 0.0719 - accuracy: 0.6780 - binary_accuracy: 0.9727 - val_loss: 0.1948 - val_accuracy: 0.3333 - val_binary_accuracy: 0.9508\n",
      "Epoch 34/100\n",
      "21/21 [==============================] - 0s 24ms/step - loss: 0.0698 - accuracy: 0.6718 - binary_accuracy: 0.9739 - val_loss: 0.2051 - val_accuracy: 0.2975 - val_binary_accuracy: 0.9469\n",
      "Epoch 35/100\n",
      "21/21 [==============================] - 0s 22ms/step - loss: 0.0680 - accuracy: 0.6872 - binary_accuracy: 0.9735 - val_loss: 0.1985 - val_accuracy: 0.3190 - val_binary_accuracy: 0.9497\n",
      "Epoch 36/100\n",
      "21/21 [==============================] - 0s 22ms/step - loss: 0.0642 - accuracy: 0.7211 - binary_accuracy: 0.9747 - val_loss: 0.2227 - val_accuracy: 0.3226 - val_binary_accuracy: 0.9472\n",
      "Epoch 37/100\n",
      "21/21 [==============================] - 0s 22ms/step - loss: 0.0647 - accuracy: 0.7088 - binary_accuracy: 0.9737 - val_loss: 0.2162 - val_accuracy: 0.3190 - val_binary_accuracy: 0.9482\n",
      "Epoch 38/100\n",
      "21/21 [==============================] - 0s 22ms/step - loss: 0.0635 - accuracy: 0.7088 - binary_accuracy: 0.9744 - val_loss: 0.2262 - val_accuracy: 0.2760 - val_binary_accuracy: 0.9471\n",
      "Epoch 39/100\n",
      "21/21 [==============================] - 0s 22ms/step - loss: 0.0595 - accuracy: 0.7396 - binary_accuracy: 0.9764 - val_loss: 0.2384 - val_accuracy: 0.3082 - val_binary_accuracy: 0.9456\n",
      "Epoch 40/100\n",
      "21/21 [==============================] - 0s 22ms/step - loss: 0.0607 - accuracy: 0.7319 - binary_accuracy: 0.9763 - val_loss: 0.2082 - val_accuracy: 0.3513 - val_binary_accuracy: 0.9508\n",
      "Epoch 41/100\n",
      "21/21 [==============================] - 0s 24ms/step - loss: 0.0549 - accuracy: 0.7750 - binary_accuracy: 0.9793 - val_loss: 0.2329 - val_accuracy: 0.2832 - val_binary_accuracy: 0.9444\n",
      "Epoch 42/100\n",
      "21/21 [==============================] - 1s 25ms/step - loss: 0.0544 - accuracy: 0.7689 - binary_accuracy: 0.9787 - val_loss: 0.2260 - val_accuracy: 0.3154 - val_binary_accuracy: 0.9472\n",
      "Epoch 43/100\n",
      "21/21 [==============================] - 0s 23ms/step - loss: 0.0504 - accuracy: 0.7812 - binary_accuracy: 0.9804 - val_loss: 0.2453 - val_accuracy: 0.3118 - val_binary_accuracy: 0.9490\n",
      "Epoch 44/100\n",
      "21/21 [==============================] - 0s 22ms/step - loss: 0.0517 - accuracy: 0.7720 - binary_accuracy: 0.9792 - val_loss: 0.2342 - val_accuracy: 0.3369 - val_binary_accuracy: 0.9487\n",
      "Epoch 45/100\n",
      "21/21 [==============================] - 0s 21ms/step - loss: 0.0492 - accuracy: 0.8059 - binary_accuracy: 0.9812 - val_loss: 0.2649 - val_accuracy: 0.3047 - val_binary_accuracy: 0.9454\n",
      "Epoch 46/100\n",
      "21/21 [==============================] - 0s 22ms/step - loss: 0.0441 - accuracy: 0.8259 - binary_accuracy: 0.9832 - val_loss: 0.2745 - val_accuracy: 0.2975 - val_binary_accuracy: 0.9479\n",
      "Epoch 47/100\n",
      "21/21 [==============================] - 0s 22ms/step - loss: 0.0455 - accuracy: 0.8043 - binary_accuracy: 0.9819 - val_loss: 0.2786 - val_accuracy: 0.2975 - val_binary_accuracy: 0.9480\n",
      "Epoch 48/100\n",
      "21/21 [==============================] - 0s 23ms/step - loss: 0.0460 - accuracy: 0.8043 - binary_accuracy: 0.9822 - val_loss: 0.2663 - val_accuracy: 0.3333 - val_binary_accuracy: 0.9466\n",
      "Epoch 49/100\n",
      "21/21 [==============================] - 0s 23ms/step - loss: 0.0403 - accuracy: 0.8243 - binary_accuracy: 0.9838 - val_loss: 0.2604 - val_accuracy: 0.3548 - val_binary_accuracy: 0.9523\n",
      "Epoch 50/100\n",
      "21/21 [==============================] - 0s 23ms/step - loss: 0.0477 - accuracy: 0.8105 - binary_accuracy: 0.9826 - val_loss: 0.2444 - val_accuracy: 0.3441 - val_binary_accuracy: 0.9475\n",
      "Epoch 51/100\n",
      "21/21 [==============================] - 1s 26ms/step - loss: 0.0372 - accuracy: 0.8382 - binary_accuracy: 0.9856 - val_loss: 0.2743 - val_accuracy: 0.3190 - val_binary_accuracy: 0.9436\n",
      "Epoch 52/100\n",
      "21/21 [==============================] - 0s 22ms/step - loss: 0.0339 - accuracy: 0.8767 - binary_accuracy: 0.9870 - val_loss: 0.2869 - val_accuracy: 0.3011 - val_binary_accuracy: 0.9471\n",
      "Epoch 53/100\n",
      "21/21 [==============================] - 0s 22ms/step - loss: 0.0345 - accuracy: 0.8552 - binary_accuracy: 0.9861 - val_loss: 0.2809 - val_accuracy: 0.3118 - val_binary_accuracy: 0.9471\n",
      "Epoch 54/100\n",
      "21/21 [==============================] - 0s 22ms/step - loss: 0.0432 - accuracy: 0.8259 - binary_accuracy: 0.9834 - val_loss: 0.2633 - val_accuracy: 0.3441 - val_binary_accuracy: 0.9492\n",
      "Epoch 55/100\n",
      "21/21 [==============================] - 0s 22ms/step - loss: 0.0346 - accuracy: 0.8552 - binary_accuracy: 0.9868 - val_loss: 0.2627 - val_accuracy: 0.3405 - val_binary_accuracy: 0.9511\n",
      "Epoch 56/100\n",
      "21/21 [==============================] - 0s 22ms/step - loss: 0.0276 - accuracy: 0.9014 - binary_accuracy: 0.9905 - val_loss: 0.3200 - val_accuracy: 0.3333 - val_binary_accuracy: 0.9510\n",
      "Epoch 57/100\n",
      "21/21 [==============================] - 0s 22ms/step - loss: 0.0358 - accuracy: 0.8613 - binary_accuracy: 0.9876 - val_loss: 0.3245 - val_accuracy: 0.2903 - val_binary_accuracy: 0.9415\n",
      "Epoch 58/100\n",
      "21/21 [==============================] - 0s 23ms/step - loss: 0.0330 - accuracy: 0.8844 - binary_accuracy: 0.9877 - val_loss: 0.3075 - val_accuracy: 0.3584 - val_binary_accuracy: 0.9503\n",
      "Epoch 59/100\n",
      "21/21 [==============================] - 0s 23ms/step - loss: 0.0353 - accuracy: 0.8567 - binary_accuracy: 0.9871 - val_loss: 0.3353 - val_accuracy: 0.2760 - val_binary_accuracy: 0.9420\n",
      "Epoch 60/100\n",
      "21/21 [==============================] - 0s 23ms/step - loss: 0.0322 - accuracy: 0.8814 - binary_accuracy: 0.9892 - val_loss: 0.3080 - val_accuracy: 0.3190 - val_binary_accuracy: 0.9493\n",
      "Epoch 61/100\n",
      "21/21 [==============================] - 0s 22ms/step - loss: 0.0362 - accuracy: 0.8690 - binary_accuracy: 0.9882 - val_loss: 0.3129 - val_accuracy: 0.3369 - val_binary_accuracy: 0.9492\n",
      "Epoch 62/100\n",
      "21/21 [==============================] - 0s 24ms/step - loss: 0.0287 - accuracy: 0.8875 - binary_accuracy: 0.9891 - val_loss: 0.3116 - val_accuracy: 0.3333 - val_binary_accuracy: 0.9462\n",
      "Epoch 63/100\n",
      "21/21 [==============================] - 0s 22ms/step - loss: 0.0255 - accuracy: 0.9076 - binary_accuracy: 0.9921 - val_loss: 0.3187 - val_accuracy: 0.3369 - val_binary_accuracy: 0.9498\n",
      "Epoch 64/100\n",
      "21/21 [==============================] - 0s 23ms/step - loss: 0.0273 - accuracy: 0.8921 - binary_accuracy: 0.9902 - val_loss: 0.3518 - val_accuracy: 0.3226 - val_binary_accuracy: 0.9464\n",
      "Epoch 65/100\n",
      "21/21 [==============================] - 0s 24ms/step - loss: 0.0273 - accuracy: 0.8983 - binary_accuracy: 0.9898 - val_loss: 0.3380 - val_accuracy: 0.3548 - val_binary_accuracy: 0.9493\n",
      "Epoch 66/100\n",
      "21/21 [==============================] - 0s 23ms/step - loss: 0.0238 - accuracy: 0.9106 - binary_accuracy: 0.9917 - val_loss: 0.3536 - val_accuracy: 0.3369 - val_binary_accuracy: 0.9495\n",
      "Epoch 67/100\n",
      "21/21 [==============================] - 0s 21ms/step - loss: 0.0284 - accuracy: 0.8952 - binary_accuracy: 0.9907 - val_loss: 0.3220 - val_accuracy: 0.3728 - val_binary_accuracy: 0.9500\n",
      "Epoch 68/100\n",
      "21/21 [==============================] - 0s 21ms/step - loss: 0.0294 - accuracy: 0.8844 - binary_accuracy: 0.9898 - val_loss: 0.3233 - val_accuracy: 0.3262 - val_binary_accuracy: 0.9498\n",
      "Epoch 69/100\n",
      "21/21 [==============================] - 0s 22ms/step - loss: 0.0225 - accuracy: 0.9214 - binary_accuracy: 0.9926 - val_loss: 0.3327 - val_accuracy: 0.3405 - val_binary_accuracy: 0.9475\n",
      "Epoch 70/100\n",
      "21/21 [==============================] - 0s 22ms/step - loss: 0.0301 - accuracy: 0.8983 - binary_accuracy: 0.9899 - val_loss: 0.3316 - val_accuracy: 0.3405 - val_binary_accuracy: 0.9510\n",
      "Epoch 71/100\n",
      "21/21 [==============================] - 0s 22ms/step - loss: 0.0259 - accuracy: 0.9137 - binary_accuracy: 0.9917 - val_loss: 0.4084 - val_accuracy: 0.3047 - val_binary_accuracy: 0.9467\n",
      "Epoch 72/100\n",
      "21/21 [==============================] - 0s 23ms/step - loss: 0.0234 - accuracy: 0.9168 - binary_accuracy: 0.9929 - val_loss: 0.3530 - val_accuracy: 0.3656 - val_binary_accuracy: 0.9515\n",
      "Epoch 73/100\n",
      "21/21 [==============================] - 0s 24ms/step - loss: 0.0265 - accuracy: 0.9106 - binary_accuracy: 0.9916 - val_loss: 0.3586 - val_accuracy: 0.3943 - val_binary_accuracy: 0.9547\n",
      "Epoch 74/100\n",
      "21/21 [==============================] - 1s 27ms/step - loss: 0.0237 - accuracy: 0.9137 - binary_accuracy: 0.9918 - val_loss: 0.3485 - val_accuracy: 0.3835 - val_binary_accuracy: 0.9511\n",
      "Epoch 75/100\n",
      "21/21 [==============================] - 0s 23ms/step - loss: 0.0188 - accuracy: 0.9322 - binary_accuracy: 0.9940 - val_loss: 0.3959 - val_accuracy: 0.3262 - val_binary_accuracy: 0.9477\n",
      "Epoch 76/100\n",
      "21/21 [==============================] - 0s 22ms/step - loss: 0.0270 - accuracy: 0.8968 - binary_accuracy: 0.9910 - val_loss: 0.3528 - val_accuracy: 0.3154 - val_binary_accuracy: 0.9471\n",
      "Epoch 77/100\n",
      "21/21 [==============================] - 0s 21ms/step - loss: 0.0177 - accuracy: 0.9353 - binary_accuracy: 0.9943 - val_loss: 0.3898 - val_accuracy: 0.3620 - val_binary_accuracy: 0.9487\n",
      "Epoch 78/100\n",
      "21/21 [==============================] - 0s 22ms/step - loss: 0.0312 - accuracy: 0.8875 - binary_accuracy: 0.9905 - val_loss: 0.3577 - val_accuracy: 0.3584 - val_binary_accuracy: 0.9513\n",
      "Epoch 79/100\n",
      "21/21 [==============================] - 0s 22ms/step - loss: 0.0199 - accuracy: 0.9260 - binary_accuracy: 0.9929 - val_loss: 0.3701 - val_accuracy: 0.3441 - val_binary_accuracy: 0.9457\n",
      "Epoch 80/100\n",
      "21/21 [==============================] - 0s 21ms/step - loss: 0.0223 - accuracy: 0.9137 - binary_accuracy: 0.9924 - val_loss: 0.3859 - val_accuracy: 0.3620 - val_binary_accuracy: 0.9448\n",
      "Epoch 81/100\n",
      "21/21 [==============================] - 0s 23ms/step - loss: 0.0213 - accuracy: 0.9322 - binary_accuracy: 0.9929 - val_loss: 0.3614 - val_accuracy: 0.3082 - val_binary_accuracy: 0.9448\n",
      "Epoch 82/100\n",
      "21/21 [==============================] - 1s 25ms/step - loss: 0.0191 - accuracy: 0.9384 - binary_accuracy: 0.9942 - val_loss: 0.3621 - val_accuracy: 0.3548 - val_binary_accuracy: 0.9503\n",
      "Epoch 83/100\n",
      "21/21 [==============================] - 1s 26ms/step - loss: 0.0239 - accuracy: 0.9337 - binary_accuracy: 0.9933 - val_loss: 0.3665 - val_accuracy: 0.3692 - val_binary_accuracy: 0.9503\n",
      "Epoch 84/100\n",
      "21/21 [==============================] - 0s 23ms/step - loss: 0.0205 - accuracy: 0.9245 - binary_accuracy: 0.9938 - val_loss: 0.4273 - val_accuracy: 0.3513 - val_binary_accuracy: 0.9475\n",
      "Epoch 85/100\n",
      "21/21 [==============================] - 0s 22ms/step - loss: 0.0265 - accuracy: 0.9168 - binary_accuracy: 0.9926 - val_loss: 0.3600 - val_accuracy: 0.3620 - val_binary_accuracy: 0.9490\n",
      "Epoch 86/100\n",
      "21/21 [==============================] - 0s 21ms/step - loss: 0.0218 - accuracy: 0.9337 - binary_accuracy: 0.9940 - val_loss: 0.3677 - val_accuracy: 0.3011 - val_binary_accuracy: 0.9462\n",
      "Epoch 87/100\n",
      "21/21 [==============================] - 0s 22ms/step - loss: 0.0181 - accuracy: 0.9414 - binary_accuracy: 0.9941 - val_loss: 0.3636 - val_accuracy: 0.3692 - val_binary_accuracy: 0.9518\n",
      "Epoch 88/100\n",
      "21/21 [==============================] - 0s 23ms/step - loss: 0.0199 - accuracy: 0.9260 - binary_accuracy: 0.9933 - val_loss: 0.3497 - val_accuracy: 0.3620 - val_binary_accuracy: 0.9487\n",
      "Epoch 89/100\n",
      "21/21 [==============================] - 0s 22ms/step - loss: 0.0164 - accuracy: 0.9522 - binary_accuracy: 0.9953 - val_loss: 0.3892 - val_accuracy: 0.3082 - val_binary_accuracy: 0.9467\n",
      "Epoch 90/100\n",
      "21/21 [==============================] - 0s 23ms/step - loss: 0.0173 - accuracy: 0.9445 - binary_accuracy: 0.9945 - val_loss: 0.3933 - val_accuracy: 0.3262 - val_binary_accuracy: 0.9506\n",
      "Epoch 91/100\n",
      "21/21 [==============================] - 0s 22ms/step - loss: 0.0162 - accuracy: 0.9445 - binary_accuracy: 0.9948 - val_loss: 0.3898 - val_accuracy: 0.3728 - val_binary_accuracy: 0.9516\n",
      "Epoch 92/100\n",
      "21/21 [==============================] - 1s 25ms/step - loss: 0.0162 - accuracy: 0.9414 - binary_accuracy: 0.9943 - val_loss: 0.4120 - val_accuracy: 0.3477 - val_binary_accuracy: 0.9495\n",
      "Epoch 93/100\n",
      "21/21 [==============================] - 0s 23ms/step - loss: 0.0188 - accuracy: 0.9414 - binary_accuracy: 0.9943 - val_loss: 0.4455 - val_accuracy: 0.3620 - val_binary_accuracy: 0.9469\n",
      "Epoch 94/100\n",
      "21/21 [==============================] - 0s 21ms/step - loss: 0.0198 - accuracy: 0.9245 - binary_accuracy: 0.9937 - val_loss: 0.4161 - val_accuracy: 0.3333 - val_binary_accuracy: 0.9484\n",
      "Epoch 95/100\n",
      "21/21 [==============================] - 0s 22ms/step - loss: 0.0244 - accuracy: 0.9276 - binary_accuracy: 0.9938 - val_loss: 0.3868 - val_accuracy: 0.3441 - val_binary_accuracy: 0.9474\n",
      "Epoch 96/100\n",
      "21/21 [==============================] - 0s 21ms/step - loss: 0.0111 - accuracy: 0.9676 - binary_accuracy: 0.9971 - val_loss: 0.3804 - val_accuracy: 0.3584 - val_binary_accuracy: 0.9492\n",
      "Epoch 97/100\n",
      "21/21 [==============================] - 0s 22ms/step - loss: 0.0220 - accuracy: 0.9368 - binary_accuracy: 0.9935 - val_loss: 0.3910 - val_accuracy: 0.3907 - val_binary_accuracy: 0.9534\n",
      "Epoch 98/100\n",
      "21/21 [==============================] - 0s 22ms/step - loss: 0.0206 - accuracy: 0.9337 - binary_accuracy: 0.9936 - val_loss: 0.3642 - val_accuracy: 0.3728 - val_binary_accuracy: 0.9515\n",
      "Epoch 99/100\n",
      "21/21 [==============================] - 0s 23ms/step - loss: 0.0089 - accuracy: 0.9676 - binary_accuracy: 0.9973 - val_loss: 0.4247 - val_accuracy: 0.3620 - val_binary_accuracy: 0.9493\n",
      "Epoch 100/100\n",
      "21/21 [==============================] - 1s 25ms/step - loss: 0.0273 - accuracy: 0.9183 - binary_accuracy: 0.9922 - val_loss: 0.3647 - val_accuracy: 0.3620 - val_binary_accuracy: 0.9480\n"
     ]
    },
    {
     "name": "stderr",
     "output_type": "stream",
     "text": [
      "UsageError: Line magic function `%tensorboard` not found.\n"
     ]
    }
   ],
   "source": [
    "\n",
    "history = fusion_model.fit(\n",
    "    X_train,  # Replace rgb_data and pose_data with your actual training data\n",
    "    y_train,  # Replace labels with your actual training labels\n",
    "    epochs=100,\n",
    "    callbacks=[tensorboard_callback, hparams_callback],\n",
    "    validation_data=(X_test, y_test)  # Set the validation split as needed\n",
    ")\n",
    "\n",
    "# Launch TensorBoard for real-time visualization\n",
    "%tensorboard --logdir logs/fit"
   ]
  },
  {
   "cell_type": "code",
   "execution_count": 22,
   "metadata": {},
   "outputs": [
    {
     "data": {
      "image/png": "[encoded data removed]",
      "text/plain": [
       "<Figure size 1200x600 with 2 Axes>"
      ]
     },
     "metadata": {},
     "output_type": "display_data"
    },
    {
     "ename": "",
     "evalue": "",
     "output_type": "error",
     "traceback": [
      "\u001b[1;31mThe Kernel crashed while executing code in the the current cell or a previous cell. Please review the code in the cell(s) to identify a possible cause of the failure. Click <a href='https://aka.ms/vscodeJupyterKernelCrash'>here</a> for more info. View Jupyter <a href='command:jupyter.viewOutput'>log</a> for further details."
     ]
    }
   ],
   "source": [
    "import matplotlib.pyplot as plt\n",
    "\n",
    "# Access the training history\n",
    "train_loss = history.history['loss']\n",
    "val_loss = history.history['val_loss']\n",
    "train_acc = history.history['accuracy']\n",
    "val_acc = history.history['val_accuracy']\n",
    "\n",
    "# Plot training and validation loss\n",
    "plt.figure(figsize=(12, 6))\n",
    "plt.subplot(1, 2, 1)\n",
    "plt.plot(range(1, len(train_loss) + 1), train_loss, label='Training Loss')\n",
    "plt.plot(range(1, len(val_loss) + 1), val_loss, label='Validation Loss')\n",
    "plt.title('Training and Validation Loss')\n",
    "plt.xlabel('Epochs')\n",
    "plt.ylabel('Loss')\n",
    "plt.legend()\n",
    "\n",
    "# Plot training and validation accuracy\n",
    "plt.subplot(1, 2, 2)\n",
    "plt.plot(range(1, len(train_acc) + 1), train_acc, label='Training Accuracy')\n",
    "plt.plot(range(1, len(val_acc) + 1), val_acc, label='Validation Accuracy')\n",
    "plt.title('Training and Validation Accuracy')\n",
    "plt.xlabel('Epochs')\n",
    "plt.ylabel('Accuracy')\n",
    "plt.legend()\n",
    "\n",
    "plt.show()"
   ]
  },
  {
   "cell_type": "code",
   "execution_count": 19,
   "metadata": {},
   "outputs": [
    {
     "name": "stdout",
     "output_type": "stream",
     "text": [
      "[TIP] Next time specify overwrite=True!\n"
     ]
    }
   ],
   "source": [
    "fusion_model.save('models/detector.keras', overwrite=False)"
   ]
  },
  {
   "cell_type": "code",
   "execution_count": 21,
   "metadata": {},
   "outputs": [
    {
     "data": {
      "text/plain": [
       "(20, 34)"
      ]
     },
     "execution_count": 21,
     "metadata": {},
     "output_type": "execute_result"
    }
   ],
   "source": [
    "X[0].shape"
   ]
  },
  {
   "cell_type": "code",
   "execution_count": 23,
   "metadata": {},
   "outputs": [
    {
     "data": {
      "text/plain": [
       "<Axes: >"
      ]
     },
     "execution_count": 23,
     "metadata": {},
     "output_type": "execute_result"
    },
    {
     "data": {
      "image/png": "[encoded data removed]",
      "text/plain": [
       "<Figure size 640x480 with 1 Axes>"
      ]
     },
     "metadata": {},
     "output_type": "display_data"
    }
   ],
   "source": [
    "pd.DataFrame(fusion_model(np.array(X))).plot()"
   ]
  },
  {
   "cell_type": "code",
   "execution_count": 22,
   "metadata": {},
   "outputs": [
    {
     "data": {
      "text/plain": [
       "(10, 20, 34)"
      ]
     },
     "execution_count": 22,
     "metadata": {},
     "output_type": "execute_result"
    }
   ],
   "source": [
    "X[200:210].shape"
   ]
  },
  {
   "cell_type": "code",
   "execution_count": 52,
   "metadata": {},
   "outputs": [
    {
     "name": "stdout",
     "output_type": "stream",
     "text": [
      "tf.Tensor(\n",
      "[[0.61548716]\n",
      " [0.6404425 ]\n",
      " [0.63436747]\n",
      " [0.63190275]\n",
      " [0.64873147]], shape=(5, 1), dtype=float32)\n"
     ]
    }
   ],
   "source": [
    "\n",
    "print(fusion_model(np.array(X[200:205])))"
   ]
  },
  {
   "cell_type": "code",
   "execution_count": 26,
   "metadata": {},
   "outputs": [],
   "source": [
    "# load model\n",
    "from keras.models import load_model\n",
    "model = load_model('models/detector.keras')"
   ]
  },
  {
   "cell_type": "code",
   "execution_count": 30,
   "metadata": {},
   "outputs": [
    {
     "data": {
      "text/plain": [
       "(10, 20, 34)"
      ]
     },
     "execution_count": 30,
     "metadata": {},
     "output_type": "execute_result"
    }
   ],
   "source": [
    "X[:10].shape"
   ]
  },
  {
   "cell_type": "code",
   "execution_count": 36,
   "metadata": {},
   "outputs": [
    {
     "name": "stdout",
     "output_type": "stream",
     "text": [
      "1/1 [==============================] - 0s 13ms/step\n"
     ]
    },
    {
     "data": {
      "text/plain": [
       "array([[1.],\n",
       "       [1.],\n",
       "       [1.],\n",
       "       [1.],\n",
       "       [1.],\n",
       "       [1.],\n",
       "       [1.],\n",
       "       [1.],\n",
       "       [1.],\n",
       "       [1.]], dtype=float32)"
      ]
     },
     "execution_count": 36,
     "metadata": {},
     "output_type": "execute_result"
    }
   ],
   "source": [
    "model.predict(X[:10])"
   ]
  },
  {
   "cell_type": "code",
   "execution_count": 37,
   "metadata": {},
   "outputs": [
    {
     "data": {
      "text/plain": [
       "<keras.src.engine.functional.Functional at 0x18e68010c10>"
      ]
     },
     "execution_count": 37,
     "metadata": {},
     "output_type": "execute_result"
    }
   ],
   "source": [
    "model"
   ]
  },
  {
   "cell_type": "code",
   "execution_count": null,
   "metadata": {},
   "outputs": [],
   "source": []
  }
 ],
 "metadata": {
  "kernelspec": {
   "display_name": "yolov8",
   "language": "python",
   "name": "python3"
  },
  "language_info": {
   "codemirror_mode": {
    "name": "ipython",
    "version": 3
   },
   "file_extension": ".py",
   "mimetype": "text/x-python",
   "name": "python",
   "nbconvert_exporter": "python",
   "pygments_lexer": "ipython3",
   "version": "3.9.18"
  }
 },
 "nbformat": 4,
 "nbformat_minor": 2
}
