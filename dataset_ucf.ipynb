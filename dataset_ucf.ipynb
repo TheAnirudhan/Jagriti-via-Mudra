{
 "cells": [
  {
   "cell_type": "code",
   "execution_count": 3,
   "metadata": {},
   "outputs": [],
   "source": [
    "import numpy as np\n",
    "import pandas as pd\n",
    "import matplotlib.pyplot as plt\n",
    "import cv2\n",
    "from video_processor import VideoProcessor\n",
    "import datetime\n",
    "import os\n"
   ]
  },
  {
   "cell_type": "markdown",
   "metadata": {},
   "source": [
    "# Collecting Dataset"
   ]
  },
  {
   "cell_type": "code",
   "execution_count": 4,
   "metadata": {},
   "outputs": [],
   "source": [
    "DATASET_DIR = '../datasets/UCF101/'"
   ]
  },
  {
   "cell_type": "code",
   "execution_count": 5,
   "metadata": {},
   "outputs": [
    {
     "data": {
      "text/html": [
       "<div>\n",
       "<style scoped>\n",
       "    .dataframe tbody tr th:only-of-type {\n",
       "        vertical-align: middle;\n",
       "    }\n",
       "\n",
       "    .dataframe tbody tr th {\n",
       "        vertical-align: top;\n",
       "    }\n",
       "\n",
       "    .dataframe thead th {\n",
       "        text-align: right;\n",
       "    }\n",
       "</style>\n",
       "<table border=\"1\" class=\"dataframe\">\n",
       "  <thead>\n",
       "    <tr style=\"text-align: right;\">\n",
       "      <th></th>\n",
       "      <th>clip_name</th>\n",
       "      <th>clip_path</th>\n",
       "      <th>label</th>\n",
       "    </tr>\n",
       "  </thead>\n",
       "  <tbody>\n",
       "    <tr>\n",
       "      <th>0</th>\n",
       "      <td>v_Swing_g05_c02</td>\n",
       "      <td>../datasets/UCF101//train/Swing/v_Swing_g05_c0...</td>\n",
       "      <td>Swing</td>\n",
       "    </tr>\n",
       "    <tr>\n",
       "      <th>1</th>\n",
       "      <td>v_Swing_g21_c03</td>\n",
       "      <td>../datasets/UCF101//train/Swing/v_Swing_g21_c0...</td>\n",
       "      <td>Swing</td>\n",
       "    </tr>\n",
       "    <tr>\n",
       "      <th>2</th>\n",
       "      <td>v_Swing_g07_c01</td>\n",
       "      <td>../datasets/UCF101//train/Swing/v_Swing_g07_c0...</td>\n",
       "      <td>Swing</td>\n",
       "    </tr>\n",
       "    <tr>\n",
       "      <th>3</th>\n",
       "      <td>v_Swing_g24_c04</td>\n",
       "      <td>../datasets/UCF101//train/Swing/v_Swing_g24_c0...</td>\n",
       "      <td>Swing</td>\n",
       "    </tr>\n",
       "    <tr>\n",
       "      <th>4</th>\n",
       "      <td>v_Swing_g20_c03</td>\n",
       "      <td>../datasets/UCF101//train/Swing/v_Swing_g20_c0...</td>\n",
       "      <td>Swing</td>\n",
       "    </tr>\n",
       "  </tbody>\n",
       "</table>\n",
       "</div>"
      ],
      "text/plain": [
       "         clip_name                                          clip_path  label\n",
       "0  v_Swing_g05_c02  ../datasets/UCF101//train/Swing/v_Swing_g05_c0...  Swing\n",
       "1  v_Swing_g21_c03  ../datasets/UCF101//train/Swing/v_Swing_g21_c0...  Swing\n",
       "2  v_Swing_g07_c01  ../datasets/UCF101//train/Swing/v_Swing_g07_c0...  Swing\n",
       "3  v_Swing_g24_c04  ../datasets/UCF101//train/Swing/v_Swing_g24_c0...  Swing\n",
       "4  v_Swing_g20_c03  ../datasets/UCF101//train/Swing/v_Swing_g20_c0...  Swing"
      ]
     },
     "execution_count": 5,
     "metadata": {},
     "output_type": "execute_result"
    }
   ],
   "source": [
    "df = pd.read_csv(DATASET_DIR+ 'train.csv')\n",
    "df['clip_path'] = df['clip_path'].apply(lambda x: DATASET_DIR + x) \n",
    "df.head()"
   ]
  },
  {
   "cell_type": "code",
   "execution_count": 6,
   "metadata": {},
   "outputs": [
    {
     "data": {
      "text/plain": [
       "array(['Swing', 'SkyDiving', 'BreastStroke', 'TableTennisShot', 'FloorGymnastics', 'Rowing', 'SoccerJuggling', 'BenchPress', 'TennisSwing', 'FrisbeeCatch', 'Kayaking', 'ApplyLipstick', 'RopeClimbing', 'JumpingJack', 'BlowingCandles', 'BabyCrawling', 'HammerThrow', 'BoxingPunchingBag', 'Skiing', 'UnevenBars',\n",
       "       'PullUps', 'RockClimbingIndoor', 'HeadMassage', 'HulaHoop', 'Rafting', 'ShavingBeard', 'LongJump', 'FieldHockeyPenalty', 'VolleyballSpiking', 'Punch', 'Archery', 'PlayingDhol', 'CleanAndJerk', 'PlayingDaf', 'GolfSwing', 'PlayingSitar', 'IceDancing', 'SkateBoarding', 'BodyWeightSquats', 'HandstandPushups',\n",
       "       'BalanceBeam', 'WallPushups', 'HorseRiding', 'Bowling', 'JumpRope', 'CuttingInKitchen', 'CliffDiving', 'PlayingGuitar', 'FrontCrawl', 'HandstandWalking', 'Fencing', 'Basketball', 'Typing', 'TaiChi', 'PlayingCello', 'Lunges', 'Shotput', 'Nunchucks', 'ApplyEyeMakeup', 'BaseballPitch', 'Mixing', 'PlayingTabla',\n",
       "       'BandMarching', 'MoppingFloor', 'PushUps', 'MilitaryParade', 'Drumming', 'BasketballDunk', 'Knitting', 'WalkingWithDog', 'StillRings', 'PlayingPiano', 'PizzaTossing', 'TrampolineJumping', 'Hammering', 'CricketBowling', 'YoYo', 'SumoWrestling', 'JugglingBalls', 'JavelinThrow', 'SoccerPenalty', 'Biking',\n",
       "       'HighJump', 'BlowDryHair', 'WritingOnBoard', 'CricketShot', 'Billiards', 'BoxingSpeedBag', 'SalsaSpin', 'ThrowDiscus', 'HorseRace', 'BrushingTeeth', 'PlayingViolin', 'Skijet', 'ParallelBars', 'Haircut', 'PommelHorse', 'PoleVault', 'Surfing', 'PlayingFlute', 'Diving'], dtype=object)"
      ]
     },
     "execution_count": 6,
     "metadata": {},
     "output_type": "execute_result"
    }
   ],
   "source": [
    "df['label'].unique()"
   ]
  },
  {
   "cell_type": "code",
   "execution_count": 7,
   "metadata": {},
   "outputs": [],
   "source": [
    "punch_df = df[df['label']=='Punch'].reset_index(drop=True)\n",
    "box_p_bag_df = df[df['label']=='BoxingPunchingBag'].reset_index(drop=True)\n",
    "walking_df = df[df['label']=='WalkingWithDog'].reset_index(drop=True)"
   ]
  },
  {
   "cell_type": "code",
   "execution_count": 8,
   "metadata": {},
   "outputs": [
    {
     "data": {
      "text/plain": [
       "334"
      ]
     },
     "execution_count": 8,
     "metadata": {},
     "output_type": "execute_result"
    }
   ],
   "source": [
    "train_dir =  list(walking_df['clip_path']) + list(box_p_bag_df['clip_path']) + list(punch_df['clip_path'])\n",
    "train_label = list( walking_df['label']) + list(box_p_bag_df['label']) + list(punch_df['label'])\n",
    "\n",
    "\n",
    "len(train_dir)"
   ]
  },
  {
   "cell_type": "markdown",
   "metadata": {},
   "source": [
    "# Infrence on Dataset"
   ]
  },
  {
   "cell_type": "code",
   "execution_count": 9,
   "metadata": {},
   "outputs": [],
   "source": [
    "from ultralytics import YOLO\n",
    "import cv2"
   ]
  },
  {
   "cell_type": "code",
   "execution_count": 10,
   "metadata": {},
   "outputs": [],
   "source": [
    "model = YOLO('models/yolov8x-pose-p6.pt') "
   ]
  },
  {
   "cell_type": "code",
   "execution_count": 14,
   "metadata": {},
   "outputs": [
    {
     "name": "stdout",
     "output_type": "stream",
     "text": [
      "Training: WalkingWithDog\n"
     ]
    },
    {
     "name": "stderr",
     "output_type": "stream",
     "text": [
      "Processing Videos:  98%|█████████▊| 90/92 [13:40<00:18,  9.12s/it]\n"
     ]
    },
    {
     "name": "stdout",
     "output_type": "stream",
     "text": [
      "Training: BoxingPunchingBag\n"
     ]
    },
    {
     "name": "stderr",
     "output_type": "stream",
     "text": [
      "Processing Videos:  99%|█████████▉| 121/122 [15:58<00:07,  7.92s/it]\n"
     ]
    },
    {
     "name": "stdout",
     "output_type": "stream",
     "text": [
      "Training: Punch\n"
     ]
    },
    {
     "name": "stderr",
     "output_type": "stream",
     "text": [
      "Processing Videos:  95%|█████████▌| 114/120 [16:11<00:51,  8.52s/it]\n"
     ]
    }
   ],
   "source": [
    "vp = VideoProcessor(model)\n",
    "\n",
    "keypoints_df = pd.DataFrame()\n",
    "for train_df in [walking_df, box_p_bag_df, punch_df]:  #\n",
    "    label = train_df['label'][0]\n",
    "    print(f\"Training: {label}\")\n",
    "    batch, skipped_id = vp.process_video_batch(train_df['clip_path'])\n",
    "    batch = np.array(batch)[:,0,:].reshape(-1,1,20,34)\n",
    "    class_keypoints_df = pd.concat([pd.DataFrame(batch.tolist()), pd.DataFrame([label]*len(batch))], axis=1)\n",
    "    keypoints_df = pd.concat([keypoints_df, class_keypoints_df])\n",
    "\n",
    "    \n",
    "\n",
    "cv2.destroyAllWindows()"
   ]
  },
  {
   "cell_type": "markdown",
   "metadata": {},
   "source": [
    "# convert to datset"
   ]
  },
  {
   "cell_type": "code",
   "execution_count": 15,
   "metadata": {},
   "outputs": [],
   "source": [
    "# keypoints_df = pd.concat([pd.DataFrame(t.tolist()),  pd.DataFrame(df['clip_path']), pd.DataFrame(df['label'])], axis=1)"
   ]
  },
  {
   "cell_type": "code",
   "execution_count": 16,
   "metadata": {},
   "outputs": [
    {
     "data": {
      "text/html": [
       "<div>\n",
       "<style scoped>\n",
       "    .dataframe tbody tr th:only-of-type {\n",
       "        vertical-align: middle;\n",
       "    }\n",
       "\n",
       "    .dataframe tbody tr th {\n",
       "        vertical-align: top;\n",
       "    }\n",
       "\n",
       "    .dataframe thead th {\n",
       "        text-align: right;\n",
       "    }\n",
       "</style>\n",
       "<table border=\"1\" class=\"dataframe\">\n",
       "  <thead>\n",
       "    <tr style=\"text-align: right;\">\n",
       "      <th></th>\n",
       "      <th>0</th>\n",
       "      <th>0</th>\n",
       "    </tr>\n",
       "  </thead>\n",
       "  <tbody>\n",
       "    <tr>\n",
       "      <th>0</th>\n",
       "      <td>[[0.0, 0.0, 0.0, 0.0, 0.0, 0.0, 0.0, 0.0, 0.46...</td>\n",
       "      <td>WalkingWithDog</td>\n",
       "    </tr>\n",
       "    <tr>\n",
       "      <th>1</th>\n",
       "      <td>[[0.0, 0.0, 0.0, 0.0, 0.0, 0.0, 0.0, 0.0, 0.0,...</td>\n",
       "      <td>WalkingWithDog</td>\n",
       "    </tr>\n",
       "    <tr>\n",
       "      <th>2</th>\n",
       "      <td>[[0.0, 0.0, 0.0, 0.0, 0.0, 0.0, 0.0, 0.0, 0.0,...</td>\n",
       "      <td>WalkingWithDog</td>\n",
       "    </tr>\n",
       "    <tr>\n",
       "      <th>3</th>\n",
       "      <td>[[0.0, 0.0, 0.0, 0.0, 0.0, 0.0, 0.0, 0.0, 0.0,...</td>\n",
       "      <td>WalkingWithDog</td>\n",
       "    </tr>\n",
       "    <tr>\n",
       "      <th>4</th>\n",
       "      <td>[[0.0, 0.0, 0.0, 0.0, 0.0, 0.0, 0.0, 0.0, 0.0,...</td>\n",
       "      <td>WalkingWithDog</td>\n",
       "    </tr>\n",
       "    <tr>\n",
       "      <th>...</th>\n",
       "      <td>...</td>\n",
       "      <td>...</td>\n",
       "    </tr>\n",
       "    <tr>\n",
       "      <th>1620</th>\n",
       "      <td>[[0.0, 0.0, 0.0, 0.0, 0.0, 0.0, 0.0, 0.0, 0.18...</td>\n",
       "      <td>Punch</td>\n",
       "    </tr>\n",
       "    <tr>\n",
       "      <th>1621</th>\n",
       "      <td>[[0.6189828395843506, 0.19277691841125488, 0.6...</td>\n",
       "      <td>Punch</td>\n",
       "    </tr>\n",
       "    <tr>\n",
       "      <th>1622</th>\n",
       "      <td>[[0.7276927471160889, 0.16618148485819498, 0.7...</td>\n",
       "      <td>Punch</td>\n",
       "    </tr>\n",
       "    <tr>\n",
       "      <th>1623</th>\n",
       "      <td>[[0.6366876125335693, 0.2523201942443848, 0.64...</td>\n",
       "      <td>Punch</td>\n",
       "    </tr>\n",
       "    <tr>\n",
       "      <th>1624</th>\n",
       "      <td>[[0.0, 0.0, 0.0, 0.0, 0.0, 0.0, 0.0, 0.0, 0.15...</td>\n",
       "      <td>Punch</td>\n",
       "    </tr>\n",
       "  </tbody>\n",
       "</table>\n",
       "<p>3130 rows × 2 columns</p>\n",
       "</div>"
      ],
      "text/plain": [
       "                                                      0               0\n",
       "0     [[0.0, 0.0, 0.0, 0.0, 0.0, 0.0, 0.0, 0.0, 0.46...  WalkingWithDog\n",
       "1     [[0.0, 0.0, 0.0, 0.0, 0.0, 0.0, 0.0, 0.0, 0.0,...  WalkingWithDog\n",
       "2     [[0.0, 0.0, 0.0, 0.0, 0.0, 0.0, 0.0, 0.0, 0.0,...  WalkingWithDog\n",
       "3     [[0.0, 0.0, 0.0, 0.0, 0.0, 0.0, 0.0, 0.0, 0.0,...  WalkingWithDog\n",
       "4     [[0.0, 0.0, 0.0, 0.0, 0.0, 0.0, 0.0, 0.0, 0.0,...  WalkingWithDog\n",
       "...                                                 ...             ...\n",
       "1620  [[0.0, 0.0, 0.0, 0.0, 0.0, 0.0, 0.0, 0.0, 0.18...           Punch\n",
       "1621  [[0.6189828395843506, 0.19277691841125488, 0.6...           Punch\n",
       "1622  [[0.7276927471160889, 0.16618148485819498, 0.7...           Punch\n",
       "1623  [[0.6366876125335693, 0.2523201942443848, 0.64...           Punch\n",
       "1624  [[0.0, 0.0, 0.0, 0.0, 0.0, 0.0, 0.0, 0.0, 0.15...           Punch\n",
       "\n",
       "[3130 rows x 2 columns]"
      ]
     },
     "execution_count": 16,
     "metadata": {},
     "output_type": "execute_result"
    }
   ],
   "source": [
    "keypoints_df"
   ]
  },
  {
   "cell_type": "code",
   "execution_count": 17,
   "metadata": {},
   "outputs": [],
   "source": [
    "timestamp = datetime.datetime.now().strftime(\"%Y%m%d_%H%M%S\")\n",
    "filename = f'keypoint_dataset/keypoints_df_{timestamp}.csv'\n",
    "\n",
    "# Save the keypoints_df to the new file\n",
    "keypoints_df.to_csv(filename, index=False)"
   ]
  },
  {
   "cell_type": "code",
   "execution_count": null,
   "metadata": {},
   "outputs": [],
   "source": []
  }
 ],
 "metadata": {
  "kernelspec": {
   "display_name": "yolov8",
   "language": "python",
   "name": "python3"
  },
  "language_info": {
   "codemirror_mode": {
    "name": "ipython",
    "version": 3
   },
   "file_extension": ".py",
   "mimetype": "text/x-python",
   "name": "python",
   "nbconvert_exporter": "python",
   "pygments_lexer": "ipython3",
   "version": "3.9.18"
  }
 },
 "nbformat": 4,
 "nbformat_minor": 2
}
