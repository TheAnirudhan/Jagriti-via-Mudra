{
 "cells": [
  {
   "cell_type": "code",
   "execution_count": 1,
   "metadata": {},
   "outputs": [],
   "source": [
    "import numpy as np\n",
    "import pandas as pd\n",
    "import matplotlib.pyplot as plt\n",
    "import cv2\n",
    "from video_processor import VideoProcessor\n",
    "import datetime\n",
    "import os\n"
   ]
  },
  {
   "cell_type": "code",
   "execution_count": 2,
   "metadata": {},
   "outputs": [],
   "source": [
    "# import os\n",
    "# import pandas as pd\n",
    "\n",
    "# DATASET_DIR = '../datasets/IXMAS/'\n",
    "\n",
    "# # Function to get list of video clips and their labels\n",
    "# def get_video_clips_and_labels(dataset_dir):\n",
    "#     data = {'clip_path': [], 'label': []}\n",
    "    \n",
    "#     for root, dirs, files in os.walk(dataset_dir):\n",
    "#         # for dir_name in dirs:\n",
    "#         #     label = dir_name\n",
    "#         #     clips_dir = os.path.join(root, dir_name)\n",
    "            \n",
    "#         for clip_file in files:\n",
    "#             clip_path = os.path.join(root, clip_file)\n",
    "#             label = str(clip_file).split('_')[2]\n",
    "#             data['clip_path'].append(clip_path)\n",
    "#             data['label'].append(label)\n",
    "\n",
    "#     return data\n",
    "\n",
    "# # Create DataFrame and save to CSV\n",
    "# data = get_video_clips_and_labels(DATASET_DIR)\n",
    "# df = pd.DataFrame(data)\n",
    "# csv_path = os.path.join(DATASET_DIR, 'dataset.csv')\n",
    "# df.to_csv(csv_path, index=False)\n",
    "\n",
    "# print(f\"CSV file saved at: {csv_path}\")\n"
   ]
  },
  {
   "cell_type": "code",
   "execution_count": 3,
   "metadata": {},
   "outputs": [
    {
     "data": {
      "text/html": [
       "<div>\n",
       "<style scoped>\n",
       "    .dataframe tbody tr th:only-of-type {\n",
       "        vertical-align: middle;\n",
       "    }\n",
       "\n",
       "    .dataframe tbody tr th {\n",
       "        vertical-align: top;\n",
       "    }\n",
       "\n",
       "    .dataframe thead th {\n",
       "        text-align: right;\n",
       "    }\n",
       "</style>\n",
       "<table border=\"1\" class=\"dataframe\">\n",
       "  <thead>\n",
       "    <tr style=\"text-align: right;\">\n",
       "      <th></th>\n",
       "      <th>clip_path</th>\n",
       "      <th>label</th>\n",
       "    </tr>\n",
       "  </thead>\n",
       "  <tbody>\n",
       "    <tr>\n",
       "      <th>0</th>\n",
       "      <td>../datasets/IXMAS/alba1_01_check-watch_cam0_fr...</td>\n",
       "      <td>check-watch</td>\n",
       "    </tr>\n",
       "    <tr>\n",
       "      <th>1</th>\n",
       "      <td>../datasets/IXMAS/alba1_01_check-watch_cam1_fr...</td>\n",
       "      <td>check-watch</td>\n",
       "    </tr>\n",
       "    <tr>\n",
       "      <th>2</th>\n",
       "      <td>../datasets/IXMAS/alba1_01_check-watch_cam2_fr...</td>\n",
       "      <td>check-watch</td>\n",
       "    </tr>\n",
       "    <tr>\n",
       "      <th>3</th>\n",
       "      <td>../datasets/IXMAS/alba1_01_check-watch_cam3_fr...</td>\n",
       "      <td>check-watch</td>\n",
       "    </tr>\n",
       "    <tr>\n",
       "      <th>4</th>\n",
       "      <td>../datasets/IXMAS/alba1_01_check-watch_cam4_fr...</td>\n",
       "      <td>check-watch</td>\n",
       "    </tr>\n",
       "  </tbody>\n",
       "</table>\n",
       "</div>"
      ],
      "text/plain": [
       "                                           clip_path        label\n",
       "0  ../datasets/IXMAS/alba1_01_check-watch_cam0_fr...  check-watch\n",
       "1  ../datasets/IXMAS/alba1_01_check-watch_cam1_fr...  check-watch\n",
       "2  ../datasets/IXMAS/alba1_01_check-watch_cam2_fr...  check-watch\n",
       "3  ../datasets/IXMAS/alba1_01_check-watch_cam3_fr...  check-watch\n",
       "4  ../datasets/IXMAS/alba1_01_check-watch_cam4_fr...  check-watch"
      ]
     },
     "execution_count": 3,
     "metadata": {},
     "output_type": "execute_result"
    }
   ],
   "source": [
    "df = pd.read_csv('../datasets/IXMAS/dataset.csv')\n",
    "df.head()"
   ]
  },
  {
   "cell_type": "code",
   "execution_count": 4,
   "metadata": {},
   "outputs": [
    {
     "data": {
      "text/plain": [
       "array(['check-watch', 'cross-arms', 'scratch-head', 'sit-down', 'get-up', 'turn-around', 'walk', 'wave', 'punch', 'kick', 'point', 'pick-up'], dtype=object)"
      ]
     },
     "execution_count": 4,
     "metadata": {},
     "output_type": "execute_result"
    }
   ],
   "source": [
    "df['label'].unique()"
   ]
  },
  {
   "cell_type": "markdown",
   "metadata": {},
   "source": [
    "# Inference on Dataset"
   ]
  },
  {
   "cell_type": "code",
   "execution_count": 5,
   "metadata": {},
   "outputs": [],
   "source": [
    "from ultralytics import YOLO\n",
    "import cv2"
   ]
  },
  {
   "cell_type": "code",
   "execution_count": 6,
   "metadata": {},
   "outputs": [],
   "source": [
    "model = YOLO('models/yolov8s-pose.pt') "
   ]
  },
  {
   "cell_type": "code",
   "execution_count": 8,
   "metadata": {},
   "outputs": [
    {
     "name": "stderr",
     "output_type": "stream",
     "text": [
      "Processing Videos: 100%|██████████| 1800/1800 [11:00<00:00,  2.73it/s]\n"
     ]
    },
    {
     "name": "stdout",
     "output_type": "stream",
     "text": [
      "Skipped: 0\n"
     ]
    }
   ],
   "source": [
    "batch_size = 10\n",
    "vp = VideoProcessor(model,batch_size, max_frames=10, img_sz=320)\n",
    "\n",
    "keypoints_df = pd.DataFrame()\n",
    "class_keypoints_df = pd.DataFrame()\n",
    "for train_df in [df]:  \n",
    "    batch, skipped_id = vp.process_video_batch(train_df['clip_path'])\n",
    "    batch = np.array(batch)[:,0,:].reshape(-1,batch_size , 34)\n",
    "    class_keypoints_df = pd.DataFrame({ 'keypoints': batch.tolist(), 'label': train_df['label'].drop(skipped_id)})\n",
    "    keypoints_df = pd.concat([keypoints_df, class_keypoints_df])\n",
    "    print(f'Skipped: {len(skipped_id)}')\n",
    "\n",
    "# keypoints_df.columns = ['keypoints', 'label']\n",
    "\n",
    "cv2.destroyAllWindows()"
   ]
  },
  {
   "cell_type": "code",
   "execution_count": 9,
   "metadata": {},
   "outputs": [],
   "source": [
    "timestamp = datetime.datetime.now().strftime(\"%Y%m%d_%H%M%S\")\n",
    "filename = f'keypoint_dataset/IXMAS/keypoints_df_{timestamp}.csv'\n",
    "\n",
    "# Save the keypoints_df to the new file\n",
    "keypoints_df.to_csv(filename, index=False)"
   ]
  },
  {
   "cell_type": "code",
   "execution_count": null,
   "metadata": {},
   "outputs": [],
   "source": []
  }
 ],
 "metadata": {
  "kernelspec": {
   "display_name": "yolov8",
   "language": "python",
   "name": "python3"
  },
  "language_info": {
   "codemirror_mode": {
    "name": "ipython",
    "version": 3
   },
   "file_extension": ".py",
   "mimetype": "text/x-python",
   "name": "python",
   "nbconvert_exporter": "python",
   "pygments_lexer": "ipython3",
   "version": "3.9.18"
  }
 },
 "nbformat": 4,
 "nbformat_minor": 2
}
