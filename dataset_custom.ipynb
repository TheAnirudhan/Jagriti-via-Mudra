{
 "cells": [
  {
   "cell_type": "code",
   "execution_count": 1,
   "metadata": {},
   "outputs": [],
   "source": [
    "from ultralytics import YOLO\n",
    "import cv2"
   ]
  },
  {
   "cell_type": "code",
   "execution_count": 2,
   "metadata": {},
   "outputs": [],
   "source": [
    "import numpy as np\n",
    "import pandas as pd\n",
    "import matplotlib.pyplot as plt\n",
    "import cv2\n",
    "from video_processor import VideoProcessor\n",
    "import datetime\n",
    "import os\n"
   ]
  },
  {
   "cell_type": "code",
   "execution_count": 3,
   "metadata": {},
   "outputs": [
    {
     "name": "stdout",
     "output_type": "stream",
     "text": [
      "CSV file saved at: ../datasets/custom/dataset.csv\n"
     ]
    }
   ],
   "source": [
    "import os\n",
    "import pandas as pd\n",
    "\n",
    "DATASET_DIR = '../datasets/custom/'\n",
    "\n",
    "# Function to get list of video clips and their labels\n",
    "def get_video_clips_and_labels(dataset_dir):\n",
    "    data = {'clip_path': [], 'label': []}\n",
    "    \n",
    "    for root, dirs, files in os.walk(dataset_dir):\n",
    "        for dir_name in dirs:\n",
    "            label = dir_name\n",
    "            clips_dir = os.path.join(root, dir_name)\n",
    "            \n",
    "            for clip_file in os.listdir(clips_dir):\n",
    "                clip_path = os.path.join(clips_dir, clip_file)\n",
    "                data['clip_path'].append(clip_path)\n",
    "                data['label'].append(label)\n",
    "    \n",
    "    return data\n",
    "\n",
    "# Create DataFrame and save to CSV\n",
    "data = get_video_clips_and_labels(DATASET_DIR)\n",
    "df = pd.DataFrame(data)\n",
    "csv_path = os.path.join(DATASET_DIR, 'dataset.csv')\n",
    "df.to_csv(csv_path, index=False)\n",
    "\n",
    "print(f\"CSV file saved at: {csv_path}\")\n"
   ]
  },
  {
   "cell_type": "code",
   "execution_count": 4,
   "metadata": {},
   "outputs": [],
   "source": [
    "df = pd.read_csv('../datasets/custom/dataset.csv')"
   ]
  },
  {
   "cell_type": "code",
   "execution_count": 5,
   "metadata": {},
   "outputs": [],
   "source": [
    "df_walking = df[df['label']=='walking'].reset_index()\n",
    "df_jogging = df[df['label']=='jogging'].reset_index()"
   ]
  },
  {
   "cell_type": "code",
   "execution_count": 6,
   "metadata": {},
   "outputs": [],
   "source": [
    "model = YOLO('models/yolov8n-pose.pt') "
   ]
  },
  {
   "cell_type": "code",
   "execution_count": 9,
   "metadata": {},
   "outputs": [
    {
     "name": "stdout",
     "output_type": "stream",
     "text": [
      "Collecting: jogging\n"
     ]
    },
    {
     "name": "stderr",
     "output_type": "stream",
     "text": [
      "Processing Videos: 100%|██████████| 1/1 [02:25<00:00, 145.88s/it]"
     ]
    },
    {
     "name": "stdout",
     "output_type": "stream",
     "text": [
      "Skipped: 0\n"
     ]
    },
    {
     "name": "stderr",
     "output_type": "stream",
     "text": [
      "\n"
     ]
    }
   ],
   "source": [
    "batch_size = 10\n",
    "vp = VideoProcessor(model,batch_size, max_frames=3400)\n",
    "\n",
    "keypoints_df = pd.DataFrame()\n",
    "class_keypoints_df = pd.DataFrame()\n",
    "for train_df in [df_jogging]:\n",
    "    label = train_df['label'][0]\n",
    "    print(f\"Collecting: {label}\")\n",
    "    batch, skipped_id = vp.process_video_batch(train_df['clip_path'])\n",
    "    batch = np.array(batch)[:,0,:].reshape(-1,batch_size , 34)\n",
    "    class_keypoints_df = pd.DataFrame({ 'keypoints': batch.tolist(), 'label': label})\n",
    "    keypoints_df = pd.concat([keypoints_df, class_keypoints_df])\n",
    "    print(f'Skipped: {len(skipped_id)}')\n",
    "\n",
    "# keypoints_df.columns = ['keypoints', 'label']\n",
    "\n",
    "cv2.destroyAllWindows()"
   ]
  },
  {
   "cell_type": "code",
   "execution_count": 10,
   "metadata": {},
   "outputs": [
    {
     "name": "stdout",
     "output_type": "stream",
     "text": [
      "Collecting: walking\n"
     ]
    },
    {
     "name": "stderr",
     "output_type": "stream",
     "text": [
      "Processing Videos:   0%|          | 0/1 [00:00<?, ?it/s]"
     ]
    },
    {
     "name": "stderr",
     "output_type": "stream",
     "text": [
      "Processing Videos: 100%|██████████| 1/1 [07:56<00:00, 476.82s/it]\n"
     ]
    },
    {
     "name": "stdout",
     "output_type": "stream",
     "text": [
      "Skipped: 0\n"
     ]
    }
   ],
   "source": [
    "batch_size = 10\n",
    "vp = VideoProcessor(model,batch_size, max_frames=11000)\n",
    "\n",
    "for train_df in [df_walking]:\n",
    "    label = train_df['label'][0]\n",
    "    print(f\"Collecting: {label}\")\n",
    "    batch, skipped_id = vp.process_video_batch(train_df['clip_path'])\n",
    "    batch = np.array(batch)[:,0,:].reshape(-1,batch_size , 34)\n",
    "    class_keypoints_df = pd.DataFrame({ 'keypoints': batch.tolist(), 'label': label})\n",
    "    keypoints_df = pd.concat([keypoints_df, class_keypoints_df])\n",
    "    print(f'Skipped: {len(skipped_id)}')\n",
    "\n",
    "# keypoints_df.columns = ['keypoints', 'label']\n",
    "\n",
    "cv2.destroyAllWindows()"
   ]
  },
  {
   "cell_type": "code",
   "execution_count": null,
   "metadata": {},
   "outputs": [],
   "source": [
    "keypoints_df"
   ]
  },
  {
   "cell_type": "code",
   "execution_count": 11,
   "metadata": {},
   "outputs": [],
   "source": [
    "timestamp = datetime.datetime.now().strftime(\"%Y%m%d_%H%M%S\")\n",
    "filename = f'keypoint_dataset/custom_dataset/keypoints_df_{timestamp}.csv'\n",
    "\n",
    "# Save the keypoints_df to the new file\n",
    "keypoints_df.to_csv(filename, index=False)"
   ]
  },
  {
   "cell_type": "code",
   "execution_count": null,
   "metadata": {},
   "outputs": [],
   "source": []
  }
 ],
 "metadata": {
  "kernelspec": {
   "display_name": "yolov8",
   "language": "python",
   "name": "python3"
  },
  "language_info": {
   "codemirror_mode": {
    "name": "ipython",
    "version": 3
   },
   "file_extension": ".py",
   "mimetype": "text/x-python",
   "name": "python",
   "nbconvert_exporter": "python",
   "pygments_lexer": "ipython3",
   "version": "0.0.0"
  }
 },
 "nbformat": 4,
 "nbformat_minor": 2
}
