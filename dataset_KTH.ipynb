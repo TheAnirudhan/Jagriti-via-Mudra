{
 "cells": [
  {
   "cell_type": "code",
   "execution_count": 1,
   "metadata": {},
   "outputs": [],
   "source": [
    "import numpy as np\n",
    "import pandas as pd\n",
    "import matplotlib.pyplot as plt\n",
    "import cv2\n",
    "from video_processor import VideoProcessor\n",
    "import datetime\n",
    "import os\n"
   ]
  },
  {
   "cell_type": "code",
   "execution_count": 3,
   "metadata": {},
   "outputs": [],
   "source": [
    "# import os\n",
    "# import pandas as pd\n",
    "\n",
    "# DATASET_DIR = '../datasets/KTH/'\n",
    "\n",
    "# # Function to get list of video clips and their labels\n",
    "# def get_video_clips_and_labels(dataset_dir):\n",
    "#     data = {'clip_path': [], 'label': []}\n",
    "    \n",
    "#     for root, dirs, files in os.walk(dataset_dir):\n",
    "#         for dir_name in dirs:\n",
    "#             label = dir_name\n",
    "#             clips_dir = os.path.join(root, dir_name)\n",
    "            \n",
    "#             for clip_file in os.listdir(clips_dir):\n",
    "#                 clip_path = os.path.join(clips_dir, clip_file)\n",
    "#                 data['clip_path'].append(clip_path)\n",
    "#                 data['label'].append(label)\n",
    "    \n",
    "#     return data\n",
    "\n",
    "# # Create DataFrame and save to CSV\n",
    "# data = get_video_clips_and_labels(DATASET_DIR)\n",
    "# df = pd.DataFrame(data)\n",
    "# csv_path = os.path.join(DATASET_DIR, 'dataset.csv')\n",
    "# df.to_csv(csv_path, index=False)\n",
    "\n",
    "# print(f\"CSV file saved at: {csv_path}\")\n"
   ]
  },
  {
   "cell_type": "code",
   "execution_count": 4,
   "metadata": {},
   "outputs": [
    {
     "data": {
      "text/html": [
       "<div>\n",
       "<style scoped>\n",
       "    .dataframe tbody tr th:only-of-type {\n",
       "        vertical-align: middle;\n",
       "    }\n",
       "\n",
       "    .dataframe tbody tr th {\n",
       "        vertical-align: top;\n",
       "    }\n",
       "\n",
       "    .dataframe thead th {\n",
       "        text-align: right;\n",
       "    }\n",
       "</style>\n",
       "<table border=\"1\" class=\"dataframe\">\n",
       "  <thead>\n",
       "    <tr style=\"text-align: right;\">\n",
       "      <th></th>\n",
       "      <th>clip_path</th>\n",
       "      <th>label</th>\n",
       "    </tr>\n",
       "  </thead>\n",
       "  <tbody>\n",
       "    <tr>\n",
       "      <th>0</th>\n",
       "      <td>../datasets/KTH/boxing\\person01_boxing_d1_unco...</td>\n",
       "      <td>boxing</td>\n",
       "    </tr>\n",
       "    <tr>\n",
       "      <th>1</th>\n",
       "      <td>../datasets/KTH/boxing\\person01_boxing_d2_unco...</td>\n",
       "      <td>boxing</td>\n",
       "    </tr>\n",
       "    <tr>\n",
       "      <th>2</th>\n",
       "      <td>../datasets/KTH/boxing\\person01_boxing_d3_unco...</td>\n",
       "      <td>boxing</td>\n",
       "    </tr>\n",
       "    <tr>\n",
       "      <th>3</th>\n",
       "      <td>../datasets/KTH/boxing\\person01_boxing_d4_unco...</td>\n",
       "      <td>boxing</td>\n",
       "    </tr>\n",
       "    <tr>\n",
       "      <th>4</th>\n",
       "      <td>../datasets/KTH/boxing\\person02_boxing_d1_unco...</td>\n",
       "      <td>boxing</td>\n",
       "    </tr>\n",
       "  </tbody>\n",
       "</table>\n",
       "</div>"
      ],
      "text/plain": [
       "                                           clip_path   label\n",
       "0  ../datasets/KTH/boxing\\person01_boxing_d1_unco...  boxing\n",
       "1  ../datasets/KTH/boxing\\person01_boxing_d2_unco...  boxing\n",
       "2  ../datasets/KTH/boxing\\person01_boxing_d3_unco...  boxing\n",
       "3  ../datasets/KTH/boxing\\person01_boxing_d4_unco...  boxing\n",
       "4  ../datasets/KTH/boxing\\person02_boxing_d1_unco...  boxing"
      ]
     },
     "execution_count": 4,
     "metadata": {},
     "output_type": "execute_result"
    }
   ],
   "source": [
    "df = pd.read_csv('../datasets/KTH/dataset.csv')\n",
    "df.head()"
   ]
  },
  {
   "cell_type": "code",
   "execution_count": 5,
   "metadata": {},
   "outputs": [
    {
     "data": {
      "text/plain": [
       "array(['boxing', 'handclapping', 'handwaving', 'jogging', 'running', 'walking'], dtype=object)"
      ]
     },
     "execution_count": 5,
     "metadata": {},
     "output_type": "execute_result"
    }
   ],
   "source": [
    "df['label'].unique()"
   ]
  },
  {
   "cell_type": "code",
   "execution_count": 28,
   "metadata": {},
   "outputs": [],
   "source": [
    "classwise_df = []\n",
    "\n",
    "for i in df['label'].unique():\n",
    "    classwise_df.append(df[df['label']==i].reset_index())"
   ]
  },
  {
   "cell_type": "markdown",
   "metadata": {},
   "source": [
    "# Inference on Dataset"
   ]
  },
  {
   "cell_type": "code",
   "execution_count": 29,
   "metadata": {},
   "outputs": [],
   "source": [
    "from ultralytics import YOLO\n",
    "import cv2"
   ]
  },
  {
   "cell_type": "code",
   "execution_count": 30,
   "metadata": {},
   "outputs": [],
   "source": [
    "model = YOLO('models/yolov8n-pose.pt') "
   ]
  },
  {
   "cell_type": "code",
   "execution_count": 1,
   "metadata": {},
   "outputs": [
    {
     "ename": "NameError",
     "evalue": "name 'VideoProcessor' is not defined",
     "output_type": "error",
     "traceback": [
      "\u001b[1;31m---------------------------------------------------------------------------\u001b[0m",
      "\u001b[1;31mNameError\u001b[0m                                 Traceback (most recent call last)",
      "Cell \u001b[1;32mIn[1], line 2\u001b[0m\n\u001b[0;32m      1\u001b[0m batch_size \u001b[38;5;241m=\u001b[39m \u001b[38;5;241m10\u001b[39m\n\u001b[1;32m----> 2\u001b[0m vp \u001b[38;5;241m=\u001b[39m \u001b[43mVideoProcessor\u001b[49m(model,batch_size, max_frames\u001b[38;5;241m=\u001b[39m\u001b[38;5;241m200\u001b[39m, img_sz\u001b[38;5;241m=\u001b[39m\u001b[38;5;241m320\u001b[39m)\n\u001b[0;32m      4\u001b[0m keypoints_df \u001b[38;5;241m=\u001b[39m pd\u001b[38;5;241m.\u001b[39mDataFrame()\n\u001b[0;32m      5\u001b[0m class_keypoints_df \u001b[38;5;241m=\u001b[39m pd\u001b[38;5;241m.\u001b[39mDataFrame()\n",
      "\u001b[1;31mNameError\u001b[0m: name 'VideoProcessor' is not defined"
     ]
    }
   ],
   "source": [
    "batch_size = 10\n",
    "vp = VideoProcessor(model,batch_size, max_frames=200, img_sz=320)\n",
    "\n",
    "keypoints_df = pd.DataFrame()\n",
    "class_keypoints_df = pd.DataFrame()\n",
    "for train_df in classwise_df:  #, punch_df[0:1]\n",
    "    label = train_df['label'][0]\n",
    "    # print(f\"Training: {label}\")\n",
    "    batch, skipped_id = vp.process_video(train_df['clip_path'])\n",
    "    batch = np.array(batch)[:,0,:].reshape(-1,batch_size , 34)\n",
    "    class_keypoints_df = pd.DataFrame({ 'keypoints': batch.tolist(), 'label': label})\n",
    "    keypoints_df = pd.concat([keypoints_df, class_keypoints_df])\n",
    "    print(f'Skipped: {len(skipped_id)}')\n",
    "\n",
    "# keypoints_df.columns = ['keypoints', 'label']\n",
    "\n",
    "cv2.destroyAllWindows()"
   ]
  },
  {
   "cell_type": "code",
   "execution_count": 35,
   "metadata": {},
   "outputs": [
    {
     "data": {
      "text/html": [
       "<div>\n",
       "<style scoped>\n",
       "    .dataframe tbody tr th:only-of-type {\n",
       "        vertical-align: middle;\n",
       "    }\n",
       "\n",
       "    .dataframe tbody tr th {\n",
       "        vertical-align: top;\n",
       "    }\n",
       "\n",
       "    .dataframe thead th {\n",
       "        text-align: right;\n",
       "    }\n",
       "</style>\n",
       "<table border=\"1\" class=\"dataframe\">\n",
       "  <thead>\n",
       "    <tr style=\"text-align: right;\">\n",
       "      <th></th>\n",
       "      <th>keypoints</th>\n",
       "      <th>label</th>\n",
       "    </tr>\n",
       "  </thead>\n",
       "  <tbody>\n",
       "    <tr>\n",
       "      <th>0</th>\n",
       "      <td>[[0.47522578239440916, 0.1922487735748291, 0.4...</td>\n",
       "      <td>boxing</td>\n",
       "    </tr>\n",
       "    <tr>\n",
       "      <th>1</th>\n",
       "      <td>[[0.496325159072876, 0.18797346750895183, 0.50...</td>\n",
       "      <td>boxing</td>\n",
       "    </tr>\n",
       "    <tr>\n",
       "      <th>2</th>\n",
       "      <td>[[0.4961265563964844, 0.1917237917582194, 0.50...</td>\n",
       "      <td>boxing</td>\n",
       "    </tr>\n",
       "    <tr>\n",
       "      <th>3</th>\n",
       "      <td>[[0.4779681205749512, 0.1823760668436686, 0.48...</td>\n",
       "      <td>boxing</td>\n",
       "    </tr>\n",
       "    <tr>\n",
       "      <th>4</th>\n",
       "      <td>[[0.484557056427002, 0.18348032633463543, 0.49...</td>\n",
       "      <td>boxing</td>\n",
       "    </tr>\n",
       "    <tr>\n",
       "      <th>...</th>\n",
       "      <td>...</td>\n",
       "      <td>...</td>\n",
       "    </tr>\n",
       "    <tr>\n",
       "      <th>1995</th>\n",
       "      <td>[[0.0, 0.0, 0.0, 0.0, 0.0, 0.0, 0.0, 0.0, 0.0,...</td>\n",
       "      <td>walking</td>\n",
       "    </tr>\n",
       "    <tr>\n",
       "      <th>1996</th>\n",
       "      <td>[[0.0, 0.0, 0.0, 0.0, 0.0, 0.0, 0.0, 0.0, 0.0,...</td>\n",
       "      <td>walking</td>\n",
       "    </tr>\n",
       "    <tr>\n",
       "      <th>1997</th>\n",
       "      <td>[[0.0, 0.0, 0.0, 0.0, 0.0, 0.0, 0.0, 0.0, 0.0,...</td>\n",
       "      <td>walking</td>\n",
       "    </tr>\n",
       "    <tr>\n",
       "      <th>1998</th>\n",
       "      <td>[[0.0, 0.0, 0.0, 0.0, 0.0, 0.0, 0.0, 0.0, 0.0,...</td>\n",
       "      <td>walking</td>\n",
       "    </tr>\n",
       "    <tr>\n",
       "      <th>1999</th>\n",
       "      <td>[[0.0, 0.0, 0.0, 0.0, 0.0, 0.0, 0.0, 0.0, 0.0,...</td>\n",
       "      <td>walking</td>\n",
       "    </tr>\n",
       "  </tbody>\n",
       "</table>\n",
       "<p>11980 rows × 2 columns</p>\n",
       "</div>"
      ],
      "text/plain": [
       "                                              keypoints    label\n",
       "0     [[0.47522578239440916, 0.1922487735748291, 0.4...   boxing\n",
       "1     [[0.496325159072876, 0.18797346750895183, 0.50...   boxing\n",
       "2     [[0.4961265563964844, 0.1917237917582194, 0.50...   boxing\n",
       "3     [[0.4779681205749512, 0.1823760668436686, 0.48...   boxing\n",
       "4     [[0.484557056427002, 0.18348032633463543, 0.49...   boxing\n",
       "...                                                 ...      ...\n",
       "1995  [[0.0, 0.0, 0.0, 0.0, 0.0, 0.0, 0.0, 0.0, 0.0,...  walking\n",
       "1996  [[0.0, 0.0, 0.0, 0.0, 0.0, 0.0, 0.0, 0.0, 0.0,...  walking\n",
       "1997  [[0.0, 0.0, 0.0, 0.0, 0.0, 0.0, 0.0, 0.0, 0.0,...  walking\n",
       "1998  [[0.0, 0.0, 0.0, 0.0, 0.0, 0.0, 0.0, 0.0, 0.0,...  walking\n",
       "1999  [[0.0, 0.0, 0.0, 0.0, 0.0, 0.0, 0.0, 0.0, 0.0,...  walking\n",
       "\n",
       "[11980 rows x 2 columns]"
      ]
     },
     "execution_count": 35,
     "metadata": {},
     "output_type": "execute_result"
    }
   ],
   "source": [
    "keypoints_df"
   ]
  },
  {
   "cell_type": "code",
   "execution_count": 36,
   "metadata": {},
   "outputs": [],
   "source": [
    "timestamp = datetime.datetime.now().strftime(\"%Y%m%d_%H%M%S\")\n",
    "filename = f'keypoint_dataset/KTH/keypoints_df_{timestamp}.csv'\n",
    "\n",
    "# Save the keypoints_df to the new file\n",
    "keypoints_df.to_csv(filename, index=False)"
   ]
  },
  {
   "cell_type": "code",
   "execution_count": 37,
   "metadata": {},
   "outputs": [
    {
     "data": {
      "text/plain": [
       "(11980, 10, 34)"
      ]
     },
     "execution_count": 37,
     "metadata": {},
     "output_type": "execute_result"
    }
   ],
   "source": [
    "np.array(keypoints_df['keypoints'].tolist()).shape"
   ]
  },
  {
   "cell_type": "code",
   "execution_count": 39,
   "metadata": {},
   "outputs": [
    {
     "data": {
      "text/plain": [
       "label\n",
       "boxing          2000\n",
       "handwaving      2000\n",
       "jogging         2000\n",
       "running         2000\n",
       "walking         2000\n",
       "handclapping    1980\n",
       "Name: count, dtype: int64"
      ]
     },
     "execution_count": 39,
     "metadata": {},
     "output_type": "execute_result"
    }
   ],
   "source": [
    "keypoints_df['label'].value_counts()"
   ]
  },
  {
   "cell_type": "code",
   "execution_count": null,
   "metadata": {},
   "outputs": [],
   "source": []
  }
 ],
 "metadata": {
  "kernelspec": {
   "display_name": "yolov8",
   "language": "python",
   "name": "python3"
  },
  "language_info": {
   "codemirror_mode": {
    "name": "ipython",
    "version": 3
   },
   "file_extension": ".py",
   "mimetype": "text/x-python",
   "name": "python",
   "nbconvert_exporter": "python",
   "pygments_lexer": "ipython3",
   "version": "0.0.0"
  }
 },
 "nbformat": 4,
 "nbformat_minor": 2
}
