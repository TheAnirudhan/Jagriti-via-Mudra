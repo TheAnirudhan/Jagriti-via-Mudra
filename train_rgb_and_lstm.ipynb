{
 "cells": [
  {
   "cell_type": "code",
   "execution_count": 1,
   "metadata": {},
   "outputs": [],
   "source": [
    "import numpy as np\n",
    "import pandas as pd\n",
    "import matplotlib.pyplot as plt\n",
    "import cv2\n",
    "from video_processor import VideoProcessor\n",
    "import datetime\n",
    "import os\n",
    "from build_model import ActionRecognitionTrainer\n",
    "\n",
    "from tensorflow.keras.utils import to_categorical\n",
    "from sklearn.preprocessing import LabelEncoder"
   ]
  },
  {
   "cell_type": "code",
   "execution_count": 2,
   "metadata": {},
   "outputs": [
    {
     "data": {
      "text/html": [
       "<div>\n",
       "<style scoped>\n",
       "    .dataframe tbody tr th:only-of-type {\n",
       "        vertical-align: middle;\n",
       "    }\n",
       "\n",
       "    .dataframe tbody tr th {\n",
       "        vertical-align: top;\n",
       "    }\n",
       "\n",
       "    .dataframe thead th {\n",
       "        text-align: right;\n",
       "    }\n",
       "</style>\n",
       "<table border=\"1\" class=\"dataframe\">\n",
       "  <thead>\n",
       "    <tr style=\"text-align: right;\">\n",
       "      <th></th>\n",
       "      <th>clip_path</th>\n",
       "      <th>label</th>\n",
       "    </tr>\n",
       "  </thead>\n",
       "  <tbody>\n",
       "    <tr>\n",
       "      <th>0</th>\n",
       "      <td>../datasets/custom/jogging\\jogging.mp4</td>\n",
       "      <td>jogging</td>\n",
       "    </tr>\n",
       "    <tr>\n",
       "      <th>1</th>\n",
       "      <td>../datasets/custom/walking\\walking.mp4</td>\n",
       "      <td>walking</td>\n",
       "    </tr>\n",
       "  </tbody>\n",
       "</table>\n",
       "</div>"
      ],
      "text/plain": [
       "                                clip_path    label\n",
       "0  ../datasets/custom/jogging\\jogging.mp4  jogging\n",
       "1  ../datasets/custom/walking\\walking.mp4  walking"
      ]
     },
     "execution_count": 2,
     "metadata": {},
     "output_type": "execute_result"
    }
   ],
   "source": [
    "df = pd.read_csv('../datasets/custom/dataset.csv')\n",
    "df.head()"
   ]
  },
  {
   "cell_type": "code",
   "execution_count": 3,
   "metadata": {},
   "outputs": [
    {
     "data": {
      "text/plain": [
       "array(['jogging', 'walking'], dtype=object)"
      ]
     },
     "execution_count": 3,
     "metadata": {},
     "output_type": "execute_result"
    }
   ],
   "source": [
    "df['label'].unique()"
   ]
  },
  {
   "cell_type": "code",
   "execution_count": 4,
   "metadata": {},
   "outputs": [],
   "source": [
    "def three_class(x):\n",
    "    if x not in ['golf', 'kick_ball', 'pushup', 'shoot_ball',  \n",
    "             'shoot_bow', 'shoot_gun', 'swing_baseball', \n",
    "             'thow', 'BoxingPunchingBag', 'boxing', 'punch', \n",
    "             'kick', 'point', 'handwaving', 'wave']:\n",
    "        return 0\n",
    "    else:\n",
    "        return 1"
   ]
  },
  {
   "cell_type": "code",
   "execution_count": 5,
   "metadata": {},
   "outputs": [],
   "source": [
    "df['label'] = df['label'].apply(three_class)"
   ]
  },
  {
   "cell_type": "code",
   "execution_count": 6,
   "metadata": {},
   "outputs": [],
   "source": [
    "classwise_df = []\n",
    "\n",
    "for i in df['label'].unique():\n",
    "    classwise_df.append(df[df['label']==i].reset_index())"
   ]
  },
  {
   "cell_type": "code",
   "execution_count": 7,
   "metadata": {},
   "outputs": [
    {
     "name": "stdout",
     "output_type": "stream",
     "text": [
      "Building the RGB net...\n",
      "Building the Pose net...\n",
      "Building the fussion net...\n",
      "Model: \"model\"\n",
      "__________________________________________________________________________________________________\n",
      " Layer (type)                   Output Shape         Param #     Connected to                     \n",
      "==================================================================================================\n",
      " conv3d_input (InputLayer)      [(None, 10, 640, 64  0           []                               \n",
      "                                0, 3)]                                                            \n",
      "                                                                                                  \n",
      " conv3d (Conv3D)                (None, 8, 638, 638,  5248        ['conv3d_input[0][0]']           \n",
      "                                 64)                                                              \n",
      "                                                                                                  \n",
      " max_pooling3d (MaxPooling3D)   (None, 8, 319, 319,  0           ['conv3d[0][0]']                 \n",
      "                                 64)                                                              \n",
      "                                                                                                  \n",
      " conv3d_1 (Conv3D)              (None, 6, 317, 317,  221312      ['max_pooling3d[0][0]']          \n",
      "                                 128)                                                             \n",
      "                                                                                                  \n",
      " max_pooling3d_1 (MaxPooling3D)  (None, 6, 158, 158,  0          ['conv3d_1[0][0]']               \n",
      "                                 128)                                                             \n",
      "                                                                                                  \n",
      " conv3d_2 (Conv3D)              (None, 4, 156, 156,  884992      ['max_pooling3d_1[0][0]']        \n",
      "                                 256)                                                             \n",
      "                                                                                                  \n",
      " lstm_input (InputLayer)        [(None, 10, 34)]     0           []                               \n",
      "                                                                                                  \n",
      " max_pooling3d_2 (MaxPooling3D)  (None, 4, 78, 78, 2  0          ['conv3d_2[0][0]']               \n",
      "                                56)                                                               \n",
      "                                                                                                  \n",
      " lstm (LSTM)                    (None, 10, 64)       25344       ['lstm_input[0][0]']             \n",
      "                                                                                                  \n",
      " time_distributed (TimeDistribu  (None, 4, 1557504)  0           ['max_pooling3d_2[0][0]']        \n",
      " ted)                                                                                             \n",
      "                                                                                                  \n",
      " lstm_1 (LSTM)                  (None, 10, 128)      98816       ['lstm[0][0]']                   \n",
      "                                                                                                  \n",
      " dense (Dense)                  (None, 4, 256)       398721280   ['time_distributed[0][0]']       \n",
      "                                                                                                  \n",
      " lstm_2 (LSTM)                  (None, 10, 256)      394240      ['lstm_1[0][0]']                 \n",
      "                                                                                                  \n",
      " dropout (Dropout)              (None, 4, 256)       0           ['dense[0][0]']                  \n",
      "                                                                                                  \n",
      " dense_1 (Dense)                (None, 10, 256)      65792       ['lstm_2[0][0]']                 \n",
      "                                                                                                  \n",
      " flatten_1 (Flatten)            (None, 1024)         0           ['dropout[0][0]']                \n",
      "                                                                                                  \n",
      " flatten_2 (Flatten)            (None, 2560)         0           ['dense_1[0][0]']                \n",
      "                                                                                                  \n",
      " concatenate (Concatenate)      (None, 3584)         0           ['flatten_1[0][0]',              \n",
      "                                                                  'flatten_2[0][0]']              \n",
      "                                                                                                  \n",
      " dense_2 (Dense)                (None, 512)          1835520     ['concatenate[0][0]']            \n",
      "                                                                                                  \n",
      " dense_3 (Dense)                (None, 1)            513         ['dense_2[0][0]']                \n",
      "                                                                                                  \n",
      "==================================================================================================\n",
      "Total params: 402,253,057\n",
      "Trainable params: 402,253,057\n",
      "Non-trainable params: 0\n",
      "__________________________________________________________________________________________________\n",
      "None\n",
      "Compiling model...\n"
     ]
    }
   ],
   "source": [
    "num_classes = 1\n",
    "trainer = ActionRecognitionTrainer(activation_fn='sigmoid', buffer_length=10, optimizer='adam', metrics=['accuracy'])\n",
    "fusion_model = trainer.train_model(num_classes)\n"
   ]
  },
  {
   "cell_type": "code",
   "execution_count": 8,
   "metadata": {},
   "outputs": [
    {
     "name": "stdout",
     "output_type": "stream",
     "text": [
      "[(None, 10, 34), (None, 10, 640, 640, 3)]\n"
     ]
    }
   ],
   "source": [
    "print(fusion_model.input_shape)"
   ]
  },
  {
   "cell_type": "code",
   "execution_count": 9,
   "metadata": {},
   "outputs": [
    {
     "name": "stdout",
     "output_type": "stream",
     "text": [
      "(None, 1)\n"
     ]
    }
   ],
   "source": [
    "print(fusion_model.output_shape)"
   ]
  },
  {
   "cell_type": "markdown",
   "metadata": {},
   "source": [
    "# Inference on Dataset"
   ]
  },
  {
   "cell_type": "code",
   "execution_count": 10,
   "metadata": {},
   "outputs": [],
   "source": [
    "from ultralytics import YOLO\n",
    "import cv2"
   ]
  },
  {
   "cell_type": "code",
   "execution_count": 11,
   "metadata": {},
   "outputs": [],
   "source": [
    "model = YOLO('models/yolov8m-pose.pt') "
   ]
  },
  {
   "cell_type": "code",
   "execution_count": 12,
   "metadata": {},
   "outputs": [],
   "source": [
    "total_df = pd.DataFrame()\n",
    "for df in classwise_df:\n",
    "    total_df = pd.concat([total_df, df])\n",
    "\n",
    "total_df = total_df.sample(len(total_df)).reset_index().drop(['level_0'], axis=1)"
   ]
  },
  {
   "cell_type": "code",
   "execution_count": 13,
   "metadata": {},
   "outputs": [
    {
     "data": {
      "text/plain": [
       "(2, 3)"
      ]
     },
     "execution_count": 13,
     "metadata": {},
     "output_type": "execute_result"
    }
   ],
   "source": [
    "total_df.shape"
   ]
  },
  {
   "cell_type": "code",
   "execution_count": 18,
   "metadata": {},
   "outputs": [
    {
     "name": "stdout",
     "output_type": "stream",
     "text": [
      "(1018, 1, 10, 34)\n",
      "(1018, 640, 640, 3)\n",
      "(1018,)\n",
      "WARNING:tensorflow:Model was constructed with shape (None, 10, 34) for input KerasTensor(type_spec=TensorSpec(shape=(None, 10, 34), dtype=tf.float32, name='lstm_input'), name='lstm_input', description=\"created by layer 'lstm_input'\"), but it was called on an input with incompatible shape (None, None, None, None).\n",
      "WARNING:tensorflow:Model was constructed with shape (None, 10, 640, 640, 3) for input KerasTensor(type_spec=TensorSpec(shape=(None, 10, 640, 640, 3), dtype=tf.float32, name='conv3d_input'), name='conv3d_input', description=\"created by layer 'conv3d_input'\"), but it was called on an input with incompatible shape (None, None, None, None).\n"
     ]
    },
    {
     "ename": "ValueError",
     "evalue": "in user code:\n\n    File \"c:\\Users\\aniru\\anaconda3\\envs\\yolov8\\lib\\site-packages\\keras\\engine\\training.py\", line 1160, in train_function  *\n        return step_function(self, iterator)\n    File \"c:\\Users\\aniru\\anaconda3\\envs\\yolov8\\lib\\site-packages\\keras\\engine\\training.py\", line 1146, in step_function  **\n        outputs = model.distribute_strategy.run(run_step, args=(data,))\n    File \"c:\\Users\\aniru\\anaconda3\\envs\\yolov8\\lib\\site-packages\\keras\\engine\\training.py\", line 1135, in run_step  **\n        outputs = model.train_step(data)\n    File \"c:\\Users\\aniru\\anaconda3\\envs\\yolov8\\lib\\site-packages\\keras\\engine\\training.py\", line 993, in train_step\n        y_pred = self(x, training=True)\n    File \"c:\\Users\\aniru\\anaconda3\\envs\\yolov8\\lib\\site-packages\\keras\\utils\\traceback_utils.py\", line 70, in error_handler\n        raise e.with_traceback(filtered_tb) from None\n    File \"c:\\Users\\aniru\\anaconda3\\envs\\yolov8\\lib\\site-packages\\keras\\engine\\input_spec.py\", line 250, in assert_input_compatibility\n        raise ValueError(\n\n    ValueError: Exception encountered when calling layer \"model\" \"                 f\"(type Functional).\n    \n    Input 0 of layer \"conv3d\" is incompatible with the layer: expected min_ndim=5, found ndim=4. Full shape received: (None, None, None, None)\n    \n    Call arguments received by layer \"model\" \"                 f\"(type Functional):\n      • inputs=('tf.Tensor(shape=(None, None, None, None), dtype=float32)', 'tf.Tensor(shape=(None, None, None, None), dtype=uint8)')\n      • training=True\n      • mask=None\n",
     "output_type": "error",
     "traceback": [
      "\u001b[1;31m---------------------------------------------------------------------------\u001b[0m",
      "\u001b[1;31mValueError\u001b[0m                                Traceback (most recent call last)",
      "Cell \u001b[1;32mIn[18], line 77\u001b[0m\n\u001b[0;32m     73\u001b[0m train_generator \u001b[38;5;241m=\u001b[39m data_generator(total_df, batch_size\u001b[38;5;241m=\u001b[39mbatch_size)\n\u001b[0;32m     75\u001b[0m \u001b[38;5;66;03m# Now, you can use this generator to train your model\u001b[39;00m\n\u001b[0;32m     76\u001b[0m \u001b[38;5;66;03m# print(np.array(next(train_generator)).shape)\u001b[39;00m\n\u001b[1;32m---> 77\u001b[0m \u001b[43mfusion_model\u001b[49m\u001b[38;5;241;43m.\u001b[39;49m\u001b[43mfit\u001b[49m\u001b[43m(\u001b[49m\u001b[43mtrain_generator\u001b[49m\u001b[43m,\u001b[49m\u001b[43m \u001b[49m\u001b[43msteps_per_epoch\u001b[49m\u001b[38;5;241;43m=\u001b[39;49m\u001b[38;5;28;43mlen\u001b[39;49m\u001b[43m(\u001b[49m\u001b[43mtotal_df\u001b[49m\u001b[43m)\u001b[49m\u001b[43m \u001b[49m\u001b[38;5;241;43m/\u001b[39;49m\u001b[38;5;241;43m/\u001b[39;49m\u001b[43m \u001b[49m\u001b[43mbatch_size\u001b[49m\u001b[43m,\u001b[49m\u001b[43m \u001b[49m\u001b[43mepochs\u001b[49m\u001b[38;5;241;43m=\u001b[39;49m\u001b[43mnum_epochs\u001b[49m\u001b[43m)\u001b[49m\n",
      "File \u001b[1;32mc:\\Users\\aniru\\anaconda3\\envs\\yolov8\\lib\\site-packages\\keras\\utils\\traceback_utils.py:70\u001b[0m, in \u001b[0;36mfilter_traceback.<locals>.error_handler\u001b[1;34m(*args, **kwargs)\u001b[0m\n\u001b[0;32m     67\u001b[0m     filtered_tb \u001b[38;5;241m=\u001b[39m _process_traceback_frames(e\u001b[38;5;241m.\u001b[39m__traceback__)\n\u001b[0;32m     68\u001b[0m     \u001b[38;5;66;03m# To get the full stack trace, call:\u001b[39;00m\n\u001b[0;32m     69\u001b[0m     \u001b[38;5;66;03m# `tf.debugging.disable_traceback_filtering()`\u001b[39;00m\n\u001b[1;32m---> 70\u001b[0m     \u001b[38;5;28;01mraise\u001b[39;00m e\u001b[38;5;241m.\u001b[39mwith_traceback(filtered_tb) \u001b[38;5;28;01mfrom\u001b[39;00m \u001b[38;5;28;01mNone\u001b[39;00m\n\u001b[0;32m     71\u001b[0m \u001b[38;5;28;01mfinally\u001b[39;00m:\n\u001b[0;32m     72\u001b[0m     \u001b[38;5;28;01mdel\u001b[39;00m filtered_tb\n",
      "File \u001b[1;32m~\\AppData\\Local\\Temp\\__autograph_generated_file_m_hesfn.py:15\u001b[0m, in \u001b[0;36mouter_factory.<locals>.inner_factory.<locals>.tf__train_function\u001b[1;34m(iterator)\u001b[0m\n\u001b[0;32m     13\u001b[0m \u001b[38;5;28;01mtry\u001b[39;00m:\n\u001b[0;32m     14\u001b[0m     do_return \u001b[38;5;241m=\u001b[39m \u001b[38;5;28;01mTrue\u001b[39;00m\n\u001b[1;32m---> 15\u001b[0m     retval_ \u001b[38;5;241m=\u001b[39m ag__\u001b[38;5;241m.\u001b[39mconverted_call(ag__\u001b[38;5;241m.\u001b[39mld(step_function), (ag__\u001b[38;5;241m.\u001b[39mld(\u001b[38;5;28mself\u001b[39m), ag__\u001b[38;5;241m.\u001b[39mld(iterator)), \u001b[38;5;28;01mNone\u001b[39;00m, fscope)\n\u001b[0;32m     16\u001b[0m \u001b[38;5;28;01mexcept\u001b[39;00m:\n\u001b[0;32m     17\u001b[0m     do_return \u001b[38;5;241m=\u001b[39m \u001b[38;5;28;01mFalse\u001b[39;00m\n",
      "\u001b[1;31mValueError\u001b[0m: in user code:\n\n    File \"c:\\Users\\aniru\\anaconda3\\envs\\yolov8\\lib\\site-packages\\keras\\engine\\training.py\", line 1160, in train_function  *\n        return step_function(self, iterator)\n    File \"c:\\Users\\aniru\\anaconda3\\envs\\yolov8\\lib\\site-packages\\keras\\engine\\training.py\", line 1146, in step_function  **\n        outputs = model.distribute_strategy.run(run_step, args=(data,))\n    File \"c:\\Users\\aniru\\anaconda3\\envs\\yolov8\\lib\\site-packages\\keras\\engine\\training.py\", line 1135, in run_step  **\n        outputs = model.train_step(data)\n    File \"c:\\Users\\aniru\\anaconda3\\envs\\yolov8\\lib\\site-packages\\keras\\engine\\training.py\", line 993, in train_step\n        y_pred = self(x, training=True)\n    File \"c:\\Users\\aniru\\anaconda3\\envs\\yolov8\\lib\\site-packages\\keras\\utils\\traceback_utils.py\", line 70, in error_handler\n        raise e.with_traceback(filtered_tb) from None\n    File \"c:\\Users\\aniru\\anaconda3\\envs\\yolov8\\lib\\site-packages\\keras\\engine\\input_spec.py\", line 250, in assert_input_compatibility\n        raise ValueError(\n\n    ValueError: Exception encountered when calling layer \"model\" \"                 f\"(type Functional).\n    \n    Input 0 of layer \"conv3d\" is incompatible with the layer: expected min_ndim=5, found ndim=4. Full shape received: (None, None, None, None)\n    \n    Call arguments received by layer \"model\" \"                 f\"(type Functional):\n      • inputs=('tf.Tensor(shape=(None, None, None, None), dtype=float32)', 'tf.Tensor(shape=(None, None, None, None), dtype=uint8)')\n      • training=True\n      • mask=None\n"
     ]
    }
   ],
   "source": [
    "import cv2\n",
    "import numpy as np\n",
    "import pandas as pd\n",
    "from random import shuffle\n",
    "import os\n",
    "\n",
    "def data_generator(total_df, batch_size=1, shuffle_data=True, resize=640):\n",
    "    \"\"\"\n",
    "    Yields the next training batch.\n",
    "    Suppose `total_df` is a pandas DataFrame with columns 'clip_path' and 'label'.\n",
    "    \"\"\"\n",
    "    num_samples = len(total_df)\n",
    "    samples = list(total_df.iterrows())  # Convert DataFrame to a list of (index, row) tuples\n",
    "\n",
    "    while True:  # Loop forever so the generator never terminates\n",
    "        if shuffle_data:\n",
    "            shuffle(samples)\n",
    "\n",
    "        # Get index to start each batch: [0, batch_size, 2*batch_size, ..., max multiple of batch_size <= num_samples]\n",
    "        for offset in range(0, num_samples, batch_size):\n",
    "            # Get the samples you'll use in this batch\n",
    "            batch_samples = samples[offset:offset+batch_size]\n",
    "\n",
    "            # Initialise pose_buffer and labels arrays for this batch\n",
    "            pose_buffer = []\n",
    "            rbg_buffer = []\n",
    "            labels = []\n",
    "\n",
    "            # For each example\n",
    "            for _, batch_sample in batch_samples:\n",
    "                # Load video (X) and label (y)\n",
    "                vid_path = batch_sample['clip_path']\n",
    "                label = batch_sample['label']\n",
    "                cap = cv2.VideoCapture(vid_path)\n",
    "                frame_buffer = []\n",
    "                while True:\n",
    "                    ret, frame = cap.read()\n",
    "                    if not ret:\n",
    "                        cap.release()\n",
    "                        break\n",
    "\n",
    "                    frame = cv2.resize(frame, (resize, resize))\n",
    "                    if len(frame_buffer) < 10:\n",
    "                        frame_buffer.append(frame)\n",
    "                    elif len(frame_buffer) == 10:\n",
    "                        batch = vp.process_video(frame_buffer)\n",
    "                        batch = np.array(batch)[:, 0, :].reshape(-1, 10, 34)\n",
    "                        pose_buffer.append(batch[0])\n",
    "                        rbg_buffer.append(frame)\n",
    "                        frame_buffer = []\n",
    "                    else:\n",
    "                        frame_buffer = []\n",
    "\n",
    "                labels.extend([label] * len(pose_buffer))  # Extend the labels list for this video's frames\n",
    "\n",
    "            # Make sure they're numpy arrays (as opposed to lists)\n",
    "            pose_buffer = np.array(pose_buffer)\n",
    "            rbg_buffer = np.array(rbg_buffer)\n",
    "            labels = np.array(labels)\n",
    "\n",
    "            print(pose_buffer.shape)\n",
    "            print(rbg_buffer.shape)\n",
    "            print(labels.shape)\n",
    "\n",
    "            # The generator-y part: yield the next training batch\n",
    "            yield [pose_buffer, rbg_buffer], labels  # ([(None, 10, 34), (None, 10, 640, 640, 3)], (None,1))\n",
    "# Example usage:\n",
    "# Assuming you have defined vp and fusion_model elsewhere\n",
    "batch_size = 1\n",
    "num_epochs = 1\n",
    "vp = VideoProcessor(model, batch_size, max_frames=100, img_sz=32, show_stream=False)\n",
    "\n",
    "train_generator = data_generator(total_df, batch_size=batch_size)\n",
    "\n",
    "# Now, you can use this generator to train your model\n",
    "# print(np.array(next(train_generator)).shape)\n",
    "fusion_model.fit(train_generator, steps_per_epoch=len(total_df) // batch_size, epochs=num_epochs)\n"
   ]
  },
  {
   "cell_type": "code",
   "execution_count": null,
   "metadata": {},
   "outputs": [],
   "source": []
  },
  {
   "cell_type": "code",
   "execution_count": null,
   "metadata": {},
   "outputs": [],
   "source": []
  },
  {
   "cell_type": "code",
   "execution_count": null,
   "metadata": {},
   "outputs": [],
   "source": []
  },
  {
   "cell_type": "code",
   "execution_count": null,
   "metadata": {},
   "outputs": [],
   "source": []
  },
  {
   "cell_type": "code",
   "execution_count": null,
   "metadata": {},
   "outputs": [],
   "source": []
  },
  {
   "cell_type": "code",
   "execution_count": null,
   "metadata": {},
   "outputs": [],
   "source": []
  },
  {
   "cell_type": "code",
   "execution_count": 67,
   "metadata": {},
   "outputs": [],
   "source": [
    "total_df = pd.DataFrame()\n",
    "for df in classwise_df:\n",
    "    total_df = pd.concat([total_df, df])\n",
    "\n",
    "total_df = total_df.sample(2).reset_index().drop(['level_0'], axis=1)"
   ]
  },
  {
   "cell_type": "code",
   "execution_count": 73,
   "metadata": {},
   "outputs": [
    {
     "name": "stdout",
     "output_type": "stream",
     "text": [
      "[[[0.55173292 0.44426999 0.6003336  0.37206407 0.47465982 0.38366449 0.66192031 0.39464903 0.37560005 0.42417598 0.74635673 0.62433152 0.2091094  0.65434084 0.         0.         0.         0.         0.         0.         0.         0.         0.         0.         0.         0.         0.         0.\n",
      "   0.         0.         0.         0.         0.         0.        ]\n",
      "  [0.55452323 0.44917016 0.60291653 0.3741473  0.47645683 0.38533151 0.66277194 0.39610357 0.37568643 0.42509089 0.74632015 0.62259159 0.21321311 0.64846807 0.         0.         0.         0.         0.         0.         0.         0.         0.         0.         0.         0.         0.         0.\n",
      "   0.         0.         0.         0.         0.         0.        ]\n",
      "  [0.55432224 0.44774299 0.60367785 0.37433248 0.47628903 0.38498063 0.6647696  0.39833107 0.37607286 0.42583632 0.74651885 0.62173223 0.21712499 0.64378481 0.         0.         0.         0.         0.         0.         0.         0.         0.         0.         0.         0.         0.         0.\n",
      "   0.         0.         0.         0.         0.         0.        ]\n",
      "  [0.55592246 0.44897985 0.60404491 0.37315154 0.47717242 0.38535273 0.6643383  0.39446828 0.3768532  0.42545218 0.74641638 0.62188458 0.21594288 0.64508557 0.         0.         0.         0.         0.         0.         0.         0.         0.         0.         0.         0.         0.         0.\n",
      "   0.         0.         0.         0.         0.         0.        ]\n",
      "  [0.55598927 0.44876552 0.6041831  0.37386534 0.47757435 0.38518267 0.66395321 0.39534948 0.37635059 0.42445951 0.74457369 0.6210649  0.21515989 0.64458494 0.         0.         0.         0.         0.         0.         0.         0.         0.         0.         0.         0.         0.         0.\n",
      "   0.         0.         0.         0.         0.         0.        ]\n",
      "  [0.55579948 0.45069027 0.60500498 0.37469158 0.47673092 0.38633304 0.66580319 0.39753976 0.37611504 0.42731938 0.74518738 0.62254772 0.21185031 0.64889913 0.         0.         0.         0.         0.         0.         0.         0.         0.         0.         0.         0.         0.         0.\n",
      "   0.         0.         0.         0.         0.         0.        ]\n",
      "  [0.55536003 0.44999652 0.60524292 0.37549133 0.47717485 0.38627644 0.66655531 0.39864898 0.37661366 0.42639799 0.74716101 0.62317061 0.21015391 0.65162373 0.         0.         0.         0.         0.         0.         0.         0.         0.         0.         0.         0.         0.         0.\n",
      "   0.         0.         0.         0.         0.         0.        ]\n",
      "  [0.55516682 0.45006967 0.60460415 0.37590151 0.4769834  0.38704989 0.66581287 0.39858775 0.37674155 0.42708783 0.74674702 0.62227874 0.21196127 0.64792304 0.         0.         0.         0.         0.         0.         0.         0.         0.         0.         0.         0.         0.         0.\n",
      "   0.         0.         0.         0.         0.         0.        ]\n",
      "  [0.55927362 0.45121374 0.60661168 0.37540526 0.47893972 0.38500905 0.6642005  0.3952189  0.36692879 0.42399969 0.74931483 0.61774893 0.21243808 0.65634389 0.         0.         0.         0.         0.         0.         0.         0.         0.         0.         0.         0.         0.         0.\n",
      "   0.         0.         0.         0.         0.         0.        ]\n",
      "  [0.55618362 0.45127139 0.60478396 0.3745122  0.47706599 0.38737035 0.6658618  0.39618227 0.37733338 0.42835178 0.74713659 0.62321787 0.21227624 0.64861412 0.         0.         0.         0.         0.         0.         0.         0.         0.         0.         0.         0.         0.         0.\n",
      "   0.         0.         0.         0.         0.         0.        ]]]\n",
      "********************************\n",
      "[[[0.55731769 0.45504069 0.60665636 0.37702811 0.47814221 0.38851657 0.66691785 0.39603136 0.37540123 0.42535834 0.75031066 0.62484732 0.20779331 0.64979219 0.         0.         0.         0.         0.         0.         0.         0.         0.         0.         0.         0.         0.         0.\n",
      "   0.         0.         0.         0.         0.         0.        ]\n",
      "  [0.562608   0.4533916  0.61078744 0.37641339 0.48192415 0.38497589 0.66845231 0.39609852 0.36872876 0.42287211 0.75387325 0.62077241 0.21260927 0.65950718 0.         0.         0.         0.         0.         0.         0.         0.         0.         0.         0.         0.         0.         0.\n",
      "   0.         0.         0.         0.         0.         0.        ]\n",
      "  [0.56282525 0.45253968 0.61079078 0.37580271 0.48199835 0.38502314 0.66871977 0.39527583 0.36886799 0.42326097 0.75379934 0.62081094 0.2126169  0.65830622 0.         0.         0.         0.         0.         0.         0.         0.         0.         0.         0.         0.         0.         0.\n",
      "   0.         0.         0.         0.         0.         0.        ]\n",
      "  [0.56426907 0.45331283 0.61149254 0.37639709 0.48317986 0.38534524 0.66842561 0.39637735 0.36896496 0.42414989 0.75497808 0.62142754 0.21248052 0.65853806 0.         0.         0.         0.         0.         0.         0.         0.         0.         0.         0.         0.         0.         0.\n",
      "   0.         0.         0.         0.         0.         0.        ]\n",
      "  [0.56416569 0.45447993 0.6116879  0.37846131 0.48395338 0.38665855 0.6681704  0.39924147 0.36981537 0.42536325 0.75634727 0.6220933  0.21187158 0.66049213 0.         0.         0.         0.         0.         0.         0.         0.         0.         0.         0.         0.         0.         0.\n",
      "   0.         0.         0.         0.         0.         0.        ]\n",
      "  [0.5628562  0.45400376 0.61069818 0.37833219 0.48262858 0.38673978 0.66797643 0.39973295 0.36973941 0.42611327 0.75585647 0.62206912 0.21156754 0.65937047 0.         0.         0.         0.         0.         0.         0.         0.         0.         0.         0.         0.         0.         0.\n",
      "   0.         0.         0.         0.         0.         0.        ]\n",
      "  [0.56261783 0.45448027 0.60987    0.37860985 0.48265715 0.3873842  0.6667819  0.39864457 0.36993754 0.42583475 0.75678759 0.62202067 0.21303859 0.65972261 0.         0.         0.         0.         0.         0.         0.         0.         0.         0.         0.         0.         0.         0.\n",
      "   0.         0.         0.         0.         0.         0.        ]\n",
      "  [0.56453571 0.45466332 0.61109409 0.37956166 0.48502693 0.38843861 0.66725645 0.39743412 0.37108111 0.42469826 0.75685797 0.6217885  0.21381462 0.65847306 0.         0.         0.         0.         0.         0.         0.         0.         0.         0.         0.         0.         0.         0.\n",
      "   0.         0.         0.         0.         0.         0.        ]\n",
      "  [0.56550879 0.45467215 0.61251092 0.38043535 0.48590307 0.38828874 0.6683898  0.3997366  0.37100081 0.42499971 0.75507059 0.62189741 0.21282318 0.66026096 0.         0.         0.         0.         0.         0.         0.         0.         0.         0.         0.         0.         0.         0.\n",
      "   0.         0.         0.         0.         0.         0.        ]\n",
      "  [0.56708999 0.4548182  0.61411948 0.37999225 0.48730674 0.38755047 0.66962414 0.39990439 0.37190225 0.42455692 0.75709505 0.62350059 0.21213796 0.65996094 0.         0.         0.         0.         0.         0.         0.         0.         0.         0.         0.         0.         0.         0.\n",
      "   0.         0.         0.         0.         0.         0.        ]]]\n",
      "********************************\n",
      "[[[0.56759014 0.4562089  0.61452112 0.38135142 0.48799915 0.38958879 0.67024889 0.3998023  0.37286015 0.4256227  0.75647087 0.62349439 0.21172094 0.65952482 0.         0.         0.         0.         0.         0.         0.         0.         0.         0.         0.         0.         0.         0.\n",
      "   0.         0.         0.         0.         0.         0.        ]\n",
      "  [0.56816506 0.45696893 0.61519814 0.38149312 0.48850112 0.38943238 0.67065477 0.39959493 0.37316365 0.42480698 0.75588441 0.62258472 0.21318781 0.65709696 0.         0.         0.         0.         0.         0.         0.         0.         0.         0.         0.         0.         0.         0.\n",
      "   0.         0.         0.         0.         0.         0.        ]\n",
      "  [0.56816506 0.45696893 0.61519814 0.38149312 0.48850112 0.38943238 0.67065477 0.39959493 0.37316365 0.42480698 0.75588441 0.62258472 0.21318781 0.65709696 0.         0.         0.         0.         0.         0.         0.         0.         0.         0.         0.         0.         0.         0.\n",
      "   0.         0.         0.         0.         0.         0.        ]\n",
      "  [0.56768727 0.45824723 0.6159575  0.38376925 0.48846893 0.39082389 0.67222271 0.40242386 0.37378054 0.42546635 0.7554832  0.62469792 0.21262245 0.65916882 0.         0.         0.         0.         0.         0.         0.         0.         0.         0.         0.         0.         0.         0.\n",
      "   0.         0.         0.         0.         0.         0.        ]\n",
      "  [0.56759529 0.45809813 0.61641588 0.38448815 0.48910723 0.39032102 0.67223501 0.40420213 0.37393551 0.42451005 0.75397148 0.62479525 0.21086457 0.65876837 0.         0.         0.         0.         0.         0.         0.         0.         0.         0.         0.         0.         0.         0.\n",
      "   0.         0.         0.         0.         0.         0.        ]\n",
      "  [0.56844068 0.45829463 0.61746912 0.38470268 0.49016385 0.39067726 0.67348914 0.4026372  0.37488437 0.42293706 0.75289774 0.62338467 0.21152291 0.65745831 0.         0.         0.         0.         0.         0.         0.         0.         0.         0.         0.         0.         0.         0.\n",
      "   0.         0.         0.         0.         0.         0.        ]\n",
      "  [0.56906314 0.45777497 0.61787457 0.38374691 0.49030418 0.39026527 0.67410049 0.4010057  0.37459826 0.42265882 0.75386758 0.62347484 0.21206932 0.65962358 0.         0.         0.         0.         0.         0.         0.         0.         0.         0.         0.         0.         0.         0.\n",
      "   0.         0.         0.         0.         0.         0.        ]\n",
      "  [0.57010336 0.45847325 0.61856747 0.38401837 0.49107199 0.39047523 0.67430329 0.40167866 0.37482917 0.42333593 0.75502734 0.62422395 0.21234126 0.65793839 0.         0.         0.         0.         0.         0.         0.         0.         0.         0.         0.         0.         0.         0.\n",
      "   0.         0.         0.         0.         0.         0.        ]\n",
      "  [0.57141371 0.45690351 0.61955729 0.38334889 0.49270344 0.38931391 0.67440677 0.401684   0.37568045 0.42228889 0.75351868 0.62393899 0.21116085 0.65833502 0.         0.         0.         0.         0.         0.         0.         0.         0.         0.         0.         0.         0.         0.\n",
      "   0.         0.         0.         0.         0.         0.        ]\n",
      "  [0.57141371 0.45690351 0.61955729 0.38334889 0.49270344 0.38931391 0.67440677 0.401684   0.37568045 0.42228889 0.75351868 0.62393899 0.21116085 0.65833502 0.         0.         0.         0.         0.         0.         0.         0.         0.         0.         0.         0.         0.         0.\n",
      "   0.         0.         0.         0.         0.         0.        ]]]\n",
      "********************************\n",
      "[[[0.57333632 0.45640812 0.62207289 0.38273258 0.49613533 0.38820269 0.67652745 0.4038435  0.38544774 0.42045159 0.7494945  0.62595463 0.21186051 0.64626532 0.         0.         0.         0.         0.         0.         0.         0.         0.         0.         0.         0.         0.         0.\n",
      "   0.         0.         0.         0.         0.         0.        ]\n",
      "  [0.57342691 0.45707922 0.62251177 0.3827337  0.49605837 0.38843179 0.677284   0.40320802 0.38525975 0.42009554 0.74906244 0.62636671 0.20947597 0.64633794 0.         0.         0.         0.         0.         0.         0.         0.         0.         0.         0.         0.         0.         0.\n",
      "   0.         0.         0.         0.         0.         0.        ]\n",
      "  [0.57412376 0.45720129 0.6229064  0.38214211 0.49621906 0.38838501 0.67758465 0.40236635 0.38513563 0.42044363 0.74892626 0.62532959 0.20910487 0.64464879 0.         0.         0.         0.         0.         0.         0.         0.         0.         0.         0.         0.         0.         0.\n",
      "   0.         0.         0.         0.         0.         0.        ]\n",
      "  [0.57412376 0.45720129 0.6229064  0.38214211 0.49621906 0.38838501 0.67758465 0.40236635 0.38513563 0.42044363 0.74892626 0.62532959 0.20910487 0.64464879 0.         0.         0.         0.         0.         0.         0.         0.         0.         0.         0.         0.         0.         0.\n",
      "   0.         0.         0.         0.         0.         0.        ]\n",
      "  [0.57490134 0.4571722  0.62312975 0.38168728 0.49694037 0.3880626  0.67704444 0.40158796 0.38563886 0.42024064 0.74765072 0.62471442 0.21039102 0.64677477 0.         0.         0.         0.         0.         0.         0.         0.         0.         0.         0.         0.         0.         0.\n",
      "   0.         0.         0.         0.         0.         0.        ]\n",
      "  [0.57478428 0.45699458 0.62339706 0.38209651 0.49708419 0.38801455 0.67745695 0.40276012 0.3854775  0.4202177  0.7479353  0.62487917 0.20934639 0.6456676  0.         0.         0.         0.         0.         0.         0.         0.         0.         0.         0.         0.         0.         0.\n",
      "   0.         0.         0.         0.         0.         0.        ]\n",
      "  [0.57462602 0.45716658 0.62346196 0.38224101 0.49690371 0.38823099 0.67784972 0.40244026 0.38561323 0.42005572 0.74749403 0.62458878 0.20938222 0.64672065 0.         0.         0.         0.         0.         0.         0.         0.         0.         0.         0.         0.         0.         0.\n",
      "   0.         0.         0.         0.         0.         0.        ]\n",
      "  [0.57432795 0.45726366 0.62306499 0.38282206 0.49716883 0.38842144 0.67713108 0.40265422 0.3860517  0.41941509 0.74729433 0.62473936 0.21047075 0.64640207 0.         0.         0.         0.         0.         0.         0.         0.         0.         0.         0.         0.         0.         0.\n",
      "   0.         0.         0.         0.         0.         0.        ]\n",
      "  [0.57443943 0.45774431 0.62297859 0.3824677  0.49648829 0.3889159  0.67719498 0.40229278 0.38556957 0.42102757 0.74491301 0.62380214 0.20830173 0.64767609 0.         0.         0.         0.         0.         0.         0.         0.         0.         0.         0.         0.         0.         0.\n",
      "   0.         0.         0.         0.         0.         0.        ]\n",
      "  [0.5739994  0.45735774 0.62282763 0.38273096 0.49651446 0.38865936 0.67712789 0.40278769 0.38554111 0.4202631  0.74543896 0.62387018 0.20786662 0.64743099 0.         0.         0.         0.         0.         0.         0.         0.         0.         0.         0.         0.         0.         0.\n",
      "   0.         0.         0.         0.         0.         0.        ]]]\n",
      "********************************\n"
     ]
    },
    {
     "ename": "KeyboardInterrupt",
     "evalue": "",
     "output_type": "error",
     "traceback": [
      "\u001b[1;31m---------------------------------------------------------------------------\u001b[0m",
      "\u001b[1;31mKeyboardInterrupt\u001b[0m                         Traceback (most recent call last)",
      "Cell \u001b[1;32mIn[73], line 22\u001b[0m\n\u001b[0;32m     20\u001b[0m rgb_buffer \u001b[38;5;241m=\u001b[39m []\n\u001b[0;32m     21\u001b[0m \u001b[38;5;28;01mwhile\u001b[39;00m \u001b[38;5;28;01mTrue\u001b[39;00m:\n\u001b[1;32m---> 22\u001b[0m     ret, frame \u001b[38;5;241m=\u001b[39m \u001b[43mcap\u001b[49m\u001b[38;5;241;43m.\u001b[39;49m\u001b[43mread\u001b[49m\u001b[43m(\u001b[49m\u001b[43m)\u001b[49m\n\u001b[0;32m     23\u001b[0m     \u001b[38;5;28;01mif\u001b[39;00m \u001b[38;5;129;01mnot\u001b[39;00m ret:\n\u001b[0;32m     24\u001b[0m         cv2\u001b[38;5;241m.\u001b[39mdestroyAllWindows()\n",
      "\u001b[1;31mKeyboardInterrupt\u001b[0m: "
     ]
    }
   ],
   "source": [
    "batch_size = 10\n",
    "vp = VideoProcessor(model, batch_size, max_frames=100, img_sz=512, show_stream=False)\n",
    "\n",
    "keypoints_df = pd.DataFrame()\n",
    "class_keypoints_df = pd.DataFrame()\n",
    "\n",
    "# for train_df in classwise_df:\n",
    "label = []\n",
    "\n",
    "pose_buffer = []\n",
    "rgb_buffer = []\n",
    "\n",
    "# for vid_path, label in zip(total_df['clip_path'], total_df['label']):\n",
    "# for vid_path, label in zip(classwise_df[0][:2]['clip_path'], classwise_df[0][:2]['label']) :\n",
    "for vid_path, label in [[0,0]] :\n",
    "    # print(vid_path)\n",
    "    cap = cv2.VideoCapture(vid_path)\n",
    "    frame_buffer = []\n",
    "    pose_buffer = []\n",
    "    rgb_buffer = []\n",
    "    while True:\n",
    "        ret, frame = cap.read()\n",
    "        if not ret:\n",
    "            cv2.destroyAllWindows()\n",
    "            break\n",
    "\n",
    "        frame.resize((640, 640, 3))\n",
    "        # print(frame.shape)\n",
    "        \n",
    "        if cv2.waitKey(10) ==27:\n",
    "            break\n",
    "        cv2.imshow(\"frame\", frame)\n",
    "        \n",
    "        if len(frame_buffer)<10:\n",
    "            frame_buffer.append(frame)\n",
    "            \n",
    "        elif len(frame_buffer)==10:\n",
    "            batch = vp.process_video(frame_buffer)\n",
    "            # print(np.array(batch[:,0,:]).shape)\n",
    "            batch = np.array(batch)[0,:,:].reshape(-1,batch_size , 34)\n",
    "            print(batch,end='\\n********************************\\n')\n",
    "            pose_buffer.append(batch[0]) # batch.shape = (1,10,34)\n",
    "            rgb_buffer.append(frame_buffer)\n",
    "            frame_buffer=[]\n",
    "            # break\n",
    "\n",
    "        else:\n",
    "            frame_buffer=[]\n",
    "\n",
    "    print(np.array(pose_buffer).shape)\n",
    "    print(np.array(rgb_buffer).shape)\n",
    "    print(np.array([label]*len(pose_buffer)).shape)\n",
    "    # fusion_model.fit(x = [np.array(pose_buffer), np.array(rgb_buffer)], y = np.array([label]*len(pose_buffer)))\n",
    "    fusion_model.fit(x = [np.array(pose_buffer)], y = np.array([label]*len(pose_buffer)))\n",
    "\n",
    "\n",
    "                \n",
    "    \n",
    "    "
   ]
  },
  {
   "cell_type": "code",
   "execution_count": 26,
   "metadata": {},
   "outputs": [
    {
     "data": {
      "text/plain": [
       "array([0.67196331, 0.51452093, 0.72848344, 0.44471197, 0.60920515, 0.45595284, 0.81252975, 0.45757737, 0.53810687, 0.47903714, 0.88968382, 0.73315597, 0.3788687 , 0.70668087, 0.        , 0.        , 0.        , 0.        , 0.        , 0.        , 0.        , 0.        , 0.        , 0.        , 0.        , 0.        ,\n",
       "       0.        , 0.        , 0.        , 0.        , 0.        , 0.        , 0.        , 0.        ])"
      ]
     },
     "execution_count": 26,
     "metadata": {},
     "output_type": "execute_result"
    }
   ],
   "source": [
    "pose_buffer[0][0]"
   ]
  },
  {
   "cell_type": "code",
   "execution_count": 21,
   "metadata": {},
   "outputs": [
    {
     "name": "stdout",
     "output_type": "stream",
     "text": [
      "1/1: 0... Success ✅ (inf frames of shape 640x480 at 30.00 FPS)\n",
      "\n",
      "\n",
      "WARNING ⚠️ inference results will accumulate in RAM unless `stream=True` is passed, causing potential out-of-memory\n",
      "errors for large sources or long-running streams and videos. See https://docs.ultralytics.com/modes/predict/ for help.\n",
      "\n",
      "Example:\n",
      "    results = model(source=..., stream=True)  # generator of Results objects\n",
      "    for r in results:\n",
      "        boxes = r.boxes  # Boxes object for bbox outputs\n",
      "        masks = r.masks  # Masks object for segment masks outputs\n",
      "        probs = r.probs  # Class probabilities for classification outputs\n",
      "\n",
      "WARNING ⚠️ Waiting for stream 0\n"
     ]
    },
    {
     "ename": "KeyboardInterrupt",
     "evalue": "",
     "output_type": "error",
     "traceback": [
      "\u001b[1;31m---------------------------------------------------------------------------\u001b[0m",
      "\u001b[1;31mKeyboardInterrupt\u001b[0m                         Traceback (most recent call last)",
      "Cell \u001b[1;32mIn[21], line 1\u001b[0m\n\u001b[1;32m----> 1\u001b[0m res \u001b[38;5;241m=\u001b[39m \u001b[43mmodel\u001b[49m\u001b[38;5;241;43m.\u001b[39;49m\u001b[43mtrack\u001b[49m\u001b[43m(\u001b[49m\u001b[38;5;241;43m0\u001b[39;49m\u001b[43m,\u001b[49m\u001b[43m \u001b[49m\u001b[43mshow\u001b[49m\u001b[38;5;241;43m=\u001b[39;49m\u001b[38;5;28;43;01mTrue\u001b[39;49;00m\u001b[43m,\u001b[49m\u001b[43m \u001b[49m\u001b[43msave\u001b[49m\u001b[38;5;241;43m=\u001b[39;49m\u001b[38;5;28;43;01mFalse\u001b[39;49;00m\u001b[43m,\u001b[49m\u001b[43m \u001b[49m\u001b[43mstream\u001b[49m\u001b[38;5;241;43m=\u001b[39;49m\u001b[38;5;28;43;01mFalse\u001b[39;49;00m\u001b[43m,\u001b[49m\n\u001b[0;32m      2\u001b[0m \u001b[43m                \u001b[49m\u001b[43mimgsz\u001b[49m\u001b[38;5;241;43m=\u001b[39;49m\u001b[38;5;241;43m512\u001b[39;49m\u001b[43m,\u001b[49m\u001b[43m \u001b[49m\u001b[43mdevice\u001b[49m\u001b[38;5;241;43m=\u001b[39;49m\u001b[38;5;124;43m'\u001b[39;49m\u001b[38;5;124;43m0\u001b[39;49m\u001b[38;5;124;43m'\u001b[39;49m\u001b[43m,\u001b[49m\u001b[43m \u001b[49m\u001b[43mverbose\u001b[49m\u001b[38;5;241;43m=\u001b[39;49m\u001b[38;5;28;43;01mFalse\u001b[39;49;00m\u001b[43m,\u001b[49m\n\u001b[0;32m      3\u001b[0m \u001b[43m                \u001b[49m\u001b[43mtracker\u001b[49m\u001b[38;5;241;43m=\u001b[39;49m\u001b[38;5;124;43m\"\u001b[39;49m\u001b[38;5;124;43mbytetrack.yaml\u001b[39;49m\u001b[38;5;124;43m\"\u001b[39;49m\u001b[43m,\u001b[49m\u001b[43m \u001b[49m\u001b[43mconf\u001b[49m\u001b[38;5;241;43m=\u001b[39;49m\u001b[38;5;241;43m0.5\u001b[39;49m\u001b[43m,\u001b[49m\u001b[43m \u001b[49m\u001b[43miou\u001b[49m\u001b[38;5;241;43m=\u001b[39;49m\u001b[38;5;241;43m0.5\u001b[39;49m\u001b[43m)\u001b[49m\n",
      "File \u001b[1;32mc:\\Users\\aniru\\anaconda3\\envs\\yolov8\\lib\\site-packages\\ultralytics\\engine\\model.py:296\u001b[0m, in \u001b[0;36mModel.track\u001b[1;34m(self, source, stream, persist, **kwargs)\u001b[0m\n\u001b[0;32m    294\u001b[0m kwargs[\u001b[38;5;124m\"\u001b[39m\u001b[38;5;124mconf\u001b[39m\u001b[38;5;124m\"\u001b[39m] \u001b[38;5;241m=\u001b[39m kwargs\u001b[38;5;241m.\u001b[39mget(\u001b[38;5;124m\"\u001b[39m\u001b[38;5;124mconf\u001b[39m\u001b[38;5;124m\"\u001b[39m) \u001b[38;5;129;01mor\u001b[39;00m \u001b[38;5;241m0.1\u001b[39m  \u001b[38;5;66;03m# ByteTrack-based method needs low confidence predictions as input\u001b[39;00m\n\u001b[0;32m    295\u001b[0m kwargs[\u001b[38;5;124m\"\u001b[39m\u001b[38;5;124mmode\u001b[39m\u001b[38;5;124m\"\u001b[39m] \u001b[38;5;241m=\u001b[39m \u001b[38;5;124m\"\u001b[39m\u001b[38;5;124mtrack\u001b[39m\u001b[38;5;124m\"\u001b[39m\n\u001b[1;32m--> 296\u001b[0m \u001b[38;5;28;01mreturn\u001b[39;00m \u001b[38;5;28mself\u001b[39m\u001b[38;5;241m.\u001b[39mpredict(source\u001b[38;5;241m=\u001b[39msource, stream\u001b[38;5;241m=\u001b[39mstream, \u001b[38;5;241m*\u001b[39m\u001b[38;5;241m*\u001b[39mkwargs)\n",
      "File \u001b[1;32mc:\\Users\\aniru\\anaconda3\\envs\\yolov8\\lib\\site-packages\\ultralytics\\engine\\model.py:275\u001b[0m, in \u001b[0;36mModel.predict\u001b[1;34m(self, source, stream, predictor, **kwargs)\u001b[0m\n\u001b[0;32m    273\u001b[0m \u001b[38;5;28;01mif\u001b[39;00m prompts \u001b[38;5;129;01mand\u001b[39;00m \u001b[38;5;28mhasattr\u001b[39m(\u001b[38;5;28mself\u001b[39m\u001b[38;5;241m.\u001b[39mpredictor, \u001b[38;5;124m\"\u001b[39m\u001b[38;5;124mset_prompts\u001b[39m\u001b[38;5;124m\"\u001b[39m):  \u001b[38;5;66;03m# for SAM-type models\u001b[39;00m\n\u001b[0;32m    274\u001b[0m     \u001b[38;5;28mself\u001b[39m\u001b[38;5;241m.\u001b[39mpredictor\u001b[38;5;241m.\u001b[39mset_prompts(prompts)\n\u001b[1;32m--> 275\u001b[0m \u001b[38;5;28;01mreturn\u001b[39;00m \u001b[38;5;28mself\u001b[39m\u001b[38;5;241m.\u001b[39mpredictor\u001b[38;5;241m.\u001b[39mpredict_cli(source\u001b[38;5;241m=\u001b[39msource) \u001b[38;5;28;01mif\u001b[39;00m is_cli \u001b[38;5;28;01melse\u001b[39;00m \u001b[38;5;28;43mself\u001b[39;49m\u001b[38;5;241;43m.\u001b[39;49m\u001b[43mpredictor\u001b[49m\u001b[43m(\u001b[49m\u001b[43msource\u001b[49m\u001b[38;5;241;43m=\u001b[39;49m\u001b[43msource\u001b[49m\u001b[43m,\u001b[49m\u001b[43m \u001b[49m\u001b[43mstream\u001b[49m\u001b[38;5;241;43m=\u001b[39;49m\u001b[43mstream\u001b[49m\u001b[43m)\u001b[49m\n",
      "File \u001b[1;32mc:\\Users\\aniru\\anaconda3\\envs\\yolov8\\lib\\site-packages\\ultralytics\\engine\\predictor.py:204\u001b[0m, in \u001b[0;36mBasePredictor.__call__\u001b[1;34m(self, source, model, stream, *args, **kwargs)\u001b[0m\n\u001b[0;32m    202\u001b[0m     \u001b[38;5;28;01mreturn\u001b[39;00m \u001b[38;5;28mself\u001b[39m\u001b[38;5;241m.\u001b[39mstream_inference(source, model, \u001b[38;5;241m*\u001b[39margs, \u001b[38;5;241m*\u001b[39m\u001b[38;5;241m*\u001b[39mkwargs)\n\u001b[0;32m    203\u001b[0m \u001b[38;5;28;01melse\u001b[39;00m:\n\u001b[1;32m--> 204\u001b[0m     \u001b[38;5;28;01mreturn\u001b[39;00m \u001b[38;5;28;43mlist\u001b[39;49m\u001b[43m(\u001b[49m\u001b[38;5;28;43mself\u001b[39;49m\u001b[38;5;241;43m.\u001b[39;49m\u001b[43mstream_inference\u001b[49m\u001b[43m(\u001b[49m\u001b[43msource\u001b[49m\u001b[43m,\u001b[49m\u001b[43m \u001b[49m\u001b[43mmodel\u001b[49m\u001b[43m,\u001b[49m\u001b[43m \u001b[49m\u001b[38;5;241;43m*\u001b[39;49m\u001b[43margs\u001b[49m\u001b[43m,\u001b[49m\u001b[43m \u001b[49m\u001b[38;5;241;43m*\u001b[39;49m\u001b[38;5;241;43m*\u001b[39;49m\u001b[43mkwargs\u001b[49m\u001b[43m)\u001b[49m\u001b[43m)\u001b[49m\n",
      "File \u001b[1;32mc:\\Users\\aniru\\anaconda3\\envs\\yolov8\\lib\\site-packages\\torch\\utils\\_contextlib.py:56\u001b[0m, in \u001b[0;36m_wrap_generator.<locals>.generator_context\u001b[1;34m(*args, **kwargs)\u001b[0m\n\u001b[0;32m     53\u001b[0m         \u001b[38;5;28;01melse\u001b[39;00m:\n\u001b[0;32m     54\u001b[0m             \u001b[38;5;66;03m# Pass the last request to the generator and get its response\u001b[39;00m\n\u001b[0;32m     55\u001b[0m             \u001b[38;5;28;01mwith\u001b[39;00m ctx_factory():\n\u001b[1;32m---> 56\u001b[0m                 response \u001b[38;5;241m=\u001b[39m \u001b[43mgen\u001b[49m\u001b[38;5;241;43m.\u001b[39;49m\u001b[43msend\u001b[49m\u001b[43m(\u001b[49m\u001b[43mrequest\u001b[49m\u001b[43m)\u001b[49m\n\u001b[0;32m     58\u001b[0m \u001b[38;5;66;03m# We let the exceptions raised above by the generator's `.throw` or\u001b[39;00m\n\u001b[0;32m     59\u001b[0m \u001b[38;5;66;03m# `.send` methods bubble up to our caller, except for StopIteration\u001b[39;00m\n\u001b[0;32m     60\u001b[0m \u001b[38;5;28;01mexcept\u001b[39;00m \u001b[38;5;167;01mStopIteration\u001b[39;00m \u001b[38;5;28;01mas\u001b[39;00m e:\n\u001b[0;32m     61\u001b[0m     \u001b[38;5;66;03m# The generator informed us that it is done: take whatever its\u001b[39;00m\n\u001b[0;32m     62\u001b[0m     \u001b[38;5;66;03m# returned value (if any) was and indicate that we're done too\u001b[39;00m\n\u001b[0;32m     63\u001b[0m     \u001b[38;5;66;03m# by returning it (see docs for python's return-statement).\u001b[39;00m\n",
      "File \u001b[1;32mc:\\Users\\aniru\\anaconda3\\envs\\yolov8\\lib\\site-packages\\ultralytics\\engine\\predictor.py:306\u001b[0m, in \u001b[0;36mBasePredictor.stream_inference\u001b[1;34m(self, source, model, *args, **kwargs)\u001b[0m\n\u001b[0;32m    303\u001b[0m p \u001b[38;5;241m=\u001b[39m Path(p)\n\u001b[0;32m    305\u001b[0m \u001b[38;5;28;01mif\u001b[39;00m \u001b[38;5;28mself\u001b[39m\u001b[38;5;241m.\u001b[39margs\u001b[38;5;241m.\u001b[39mverbose \u001b[38;5;129;01mor\u001b[39;00m \u001b[38;5;28mself\u001b[39m\u001b[38;5;241m.\u001b[39margs\u001b[38;5;241m.\u001b[39msave \u001b[38;5;129;01mor\u001b[39;00m \u001b[38;5;28mself\u001b[39m\u001b[38;5;241m.\u001b[39margs\u001b[38;5;241m.\u001b[39msave_txt \u001b[38;5;129;01mor\u001b[39;00m \u001b[38;5;28mself\u001b[39m\u001b[38;5;241m.\u001b[39margs\u001b[38;5;241m.\u001b[39mshow:\n\u001b[1;32m--> 306\u001b[0m     s \u001b[38;5;241m+\u001b[39m\u001b[38;5;241m=\u001b[39m \u001b[38;5;28;43mself\u001b[39;49m\u001b[38;5;241;43m.\u001b[39;49m\u001b[43mwrite_results\u001b[49m\u001b[43m(\u001b[49m\u001b[43mi\u001b[49m\u001b[43m,\u001b[49m\u001b[43m \u001b[49m\u001b[38;5;28;43mself\u001b[39;49m\u001b[38;5;241;43m.\u001b[39;49m\u001b[43mresults\u001b[49m\u001b[43m,\u001b[49m\u001b[43m \u001b[49m\u001b[43m(\u001b[49m\u001b[43mp\u001b[49m\u001b[43m,\u001b[49m\u001b[43m \u001b[49m\u001b[43mim\u001b[49m\u001b[43m,\u001b[49m\u001b[43m \u001b[49m\u001b[43mim0\u001b[49m\u001b[43m)\u001b[49m\u001b[43m)\u001b[49m\n\u001b[0;32m    307\u001b[0m \u001b[38;5;28;01mif\u001b[39;00m \u001b[38;5;28mself\u001b[39m\u001b[38;5;241m.\u001b[39margs\u001b[38;5;241m.\u001b[39msave \u001b[38;5;129;01mor\u001b[39;00m \u001b[38;5;28mself\u001b[39m\u001b[38;5;241m.\u001b[39margs\u001b[38;5;241m.\u001b[39msave_txt:\n\u001b[0;32m    308\u001b[0m     \u001b[38;5;28mself\u001b[39m\u001b[38;5;241m.\u001b[39mresults[i]\u001b[38;5;241m.\u001b[39msave_dir \u001b[38;5;241m=\u001b[39m \u001b[38;5;28mself\u001b[39m\u001b[38;5;241m.\u001b[39msave_dir\u001b[38;5;241m.\u001b[39m\u001b[38;5;21m__str__\u001b[39m()\n",
      "File \u001b[1;32mc:\\Users\\aniru\\anaconda3\\envs\\yolov8\\lib\\site-packages\\ultralytics\\engine\\predictor.py:182\u001b[0m, in \u001b[0;36mBasePredictor.write_results\u001b[1;34m(self, idx, results, batch)\u001b[0m\n\u001b[0;32m    180\u001b[0m     \u001b[38;5;28;01mif\u001b[39;00m \u001b[38;5;129;01mnot\u001b[39;00m \u001b[38;5;28mself\u001b[39m\u001b[38;5;241m.\u001b[39margs\u001b[38;5;241m.\u001b[39mretina_masks:\n\u001b[0;32m    181\u001b[0m         plot_args[\u001b[38;5;124m\"\u001b[39m\u001b[38;5;124mim_gpu\u001b[39m\u001b[38;5;124m\"\u001b[39m] \u001b[38;5;241m=\u001b[39m im[idx]\n\u001b[1;32m--> 182\u001b[0m     \u001b[38;5;28mself\u001b[39m\u001b[38;5;241m.\u001b[39mplotted_img \u001b[38;5;241m=\u001b[39m result\u001b[38;5;241m.\u001b[39mplot(\u001b[38;5;241m*\u001b[39m\u001b[38;5;241m*\u001b[39mplot_args)\n\u001b[0;32m    183\u001b[0m \u001b[38;5;66;03m# Write\u001b[39;00m\n\u001b[0;32m    184\u001b[0m \u001b[38;5;28;01mif\u001b[39;00m \u001b[38;5;28mself\u001b[39m\u001b[38;5;241m.\u001b[39margs\u001b[38;5;241m.\u001b[39msave_txt:\n",
      "File \u001b[1;32mc:\\Users\\aniru\\anaconda3\\envs\\yolov8\\lib\\site-packages\\ultralytics\\engine\\results.py:269\u001b[0m, in \u001b[0;36mResults.plot\u001b[1;34m(self, conf, line_width, font_size, font, pil, img, im_gpu, kpt_radius, kpt_line, labels, boxes, masks, probs)\u001b[0m\n\u001b[0;32m    267\u001b[0m \u001b[38;5;28;01mif\u001b[39;00m \u001b[38;5;28mself\u001b[39m\u001b[38;5;241m.\u001b[39mkeypoints \u001b[38;5;129;01mis\u001b[39;00m \u001b[38;5;129;01mnot\u001b[39;00m \u001b[38;5;28;01mNone\u001b[39;00m:\n\u001b[0;32m    268\u001b[0m     \u001b[38;5;28;01mfor\u001b[39;00m k \u001b[38;5;129;01min\u001b[39;00m \u001b[38;5;28mreversed\u001b[39m(\u001b[38;5;28mself\u001b[39m\u001b[38;5;241m.\u001b[39mkeypoints\u001b[38;5;241m.\u001b[39mdata):\n\u001b[1;32m--> 269\u001b[0m         \u001b[43mannotator\u001b[49m\u001b[38;5;241;43m.\u001b[39;49m\u001b[43mkpts\u001b[49m\u001b[43m(\u001b[49m\u001b[43mk\u001b[49m\u001b[43m,\u001b[49m\u001b[43m \u001b[49m\u001b[38;5;28;43mself\u001b[39;49m\u001b[38;5;241;43m.\u001b[39;49m\u001b[43morig_shape\u001b[49m\u001b[43m,\u001b[49m\u001b[43m \u001b[49m\u001b[43mradius\u001b[49m\u001b[38;5;241;43m=\u001b[39;49m\u001b[43mkpt_radius\u001b[49m\u001b[43m,\u001b[49m\u001b[43m \u001b[49m\u001b[43mkpt_line\u001b[49m\u001b[38;5;241;43m=\u001b[39;49m\u001b[43mkpt_line\u001b[49m\u001b[43m)\u001b[49m\n\u001b[0;32m    271\u001b[0m \u001b[38;5;28;01mreturn\u001b[39;00m annotator\u001b[38;5;241m.\u001b[39mresult()\n",
      "File \u001b[1;32mc:\\Users\\aniru\\anaconda3\\envs\\yolov8\\lib\\site-packages\\ultralytics\\utils\\plotting.py:279\u001b[0m, in \u001b[0;36mAnnotator.kpts\u001b[1;34m(self, kpts, shape, radius, kpt_line)\u001b[0m\n\u001b[0;32m    277\u001b[0m     conf1 \u001b[38;5;241m=\u001b[39m kpts[(sk[\u001b[38;5;241m0\u001b[39m] \u001b[38;5;241m-\u001b[39m \u001b[38;5;241m1\u001b[39m), \u001b[38;5;241m2\u001b[39m]\n\u001b[0;32m    278\u001b[0m     conf2 \u001b[38;5;241m=\u001b[39m kpts[(sk[\u001b[38;5;241m1\u001b[39m] \u001b[38;5;241m-\u001b[39m \u001b[38;5;241m1\u001b[39m), \u001b[38;5;241m2\u001b[39m]\n\u001b[1;32m--> 279\u001b[0m     \u001b[38;5;28;01mif\u001b[39;00m conf1 \u001b[38;5;241m<\u001b[39m \u001b[38;5;241m0.5\u001b[39m \u001b[38;5;129;01mor\u001b[39;00m conf2 \u001b[38;5;241m<\u001b[39m \u001b[38;5;241m0.5\u001b[39m:\n\u001b[0;32m    280\u001b[0m         \u001b[38;5;28;01mcontinue\u001b[39;00m\n\u001b[0;32m    281\u001b[0m \u001b[38;5;28;01mif\u001b[39;00m pos1[\u001b[38;5;241m0\u001b[39m] \u001b[38;5;241m%\u001b[39m shape[\u001b[38;5;241m1\u001b[39m] \u001b[38;5;241m==\u001b[39m \u001b[38;5;241m0\u001b[39m \u001b[38;5;129;01mor\u001b[39;00m pos1[\u001b[38;5;241m1\u001b[39m] \u001b[38;5;241m%\u001b[39m shape[\u001b[38;5;241m0\u001b[39m] \u001b[38;5;241m==\u001b[39m \u001b[38;5;241m0\u001b[39m \u001b[38;5;129;01mor\u001b[39;00m pos1[\u001b[38;5;241m0\u001b[39m] \u001b[38;5;241m<\u001b[39m \u001b[38;5;241m0\u001b[39m \u001b[38;5;129;01mor\u001b[39;00m pos1[\u001b[38;5;241m1\u001b[39m] \u001b[38;5;241m<\u001b[39m \u001b[38;5;241m0\u001b[39m:\n",
      "\u001b[1;31mKeyboardInterrupt\u001b[0m: "
     ]
    }
   ],
   "source": [
    "model.track(0, show=True, save=False, stream=False,\n",
    "                imgsz=512, device='0', verbose=False,\n",
    "                tracker=\"bytetrack.yaml\", conf=0.5, iou=0.5)"
   ]
  },
  {
   "cell_type": "code",
   "execution_count": null,
   "metadata": {},
   "outputs": [],
   "source": []
  }
 ],
 "metadata": {
  "kernelspec": {
   "display_name": "yolov8",
   "language": "python",
   "name": "python3"
  },
  "language_info": {
   "codemirror_mode": {
    "name": "ipython",
    "version": 3
   },
   "file_extension": ".py",
   "mimetype": "text/x-python",
   "name": "python",
   "nbconvert_exporter": "python",
   "pygments_lexer": "ipython3",
   "version": "3.9.18"
  }
 },
 "nbformat": 4,
 "nbformat_minor": 2
}
